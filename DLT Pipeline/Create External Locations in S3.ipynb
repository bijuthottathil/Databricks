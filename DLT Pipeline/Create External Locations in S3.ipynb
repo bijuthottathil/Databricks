{
 "cells": [
  {
   "cell_type": "code",
   "execution_count": 0,
   "metadata": {
    "application/vnd.databricks.v1+cell": {
     "cellMetadata": {
      "byteLimit": 2048000,
      "rowLimit": 10000
     },
     "inputWidgets": {},
     "nuid": "2f5e95c6-0917-44ca-a2f4-9a321dd60b0e",
     "showTitle": false,
     "tableResultSettingsMap": {},
     "title": ""
    }
   },
   "outputs": [],
   "source": [
    "-- Bronze Layer\n",
    "CREATE EXTERNAL LOCATION  IF NOT EXISTS raw_ext_loc\n",
    "URL 's3://databricksprojectbucketbiju/rawdata'\n",
    "WITH (STORAGE CREDENTIAL b_s3_credentials_databricks-s3-ingest-7cc8b)\n",
    "COMMENT 'External location for Raw Data layer';\n",
    "\n",
    "\n",
    "\n",
    "-- Silver Layer\n",
    "CREATE EXTERNAL LOCATION IF NOT EXISTS  silver_ext_loc\n",
    "URL 's3://databricksprojectbucketbiju/silver'\n",
    "WITH (STORAGE CREDENTIAL aws_credentials)\n",
    "COMMENT 'External location for Silver layer';\n",
    "\n",
    "-- Gold Layer\n",
    "CREATE EXTERNAL LOCATION IF NOT EXISTS  gold_ext_loc\n",
    "URL 's3://databricksprojectbucketbiju/gold'\n",
    "WITH (STORAGE CREDENTIAL aws_credentials)\n",
    "COMMENT 'External location for Gold layer';\n",
    "\n",
    "CREATE EXTERNAL LOCATION IF NOT EXISTS catalog_ext_loc\n",
    "URL 's3://databricksprojectbucketbiju/catalog'\n",
    "WITH (STORAGE CREDENTIAL aws_credentials)\n",
    "COMMENT 'External location for Unity Catalog base';\n",
    "\n"
   ]
  },
  {
   "cell_type": "code",
   "execution_count": 0,
   "metadata": {
    "application/vnd.databricks.v1+cell": {
     "cellMetadata": {
      "byteLimit": 2048000,
      "rowLimit": 10000
     },
     "inputWidgets": {},
     "nuid": "8713fa12-102d-4927-b668-0353e93e1ac2",
     "showTitle": false,
     "tableResultSettingsMap": {},
     "title": ""
    }
   },
   "outputs": [],
   "source": [
    "--Create the Unity Catalog Catalog\n",
    "CREATE CATALOG IF NOT EXISTS general_catalog\n",
    "MANAGED LOCATION 's3://databricksprojectbucketbiju/catalog'\n",
    "COMMENT 'Catalog backed by external S3 bucket';\n"
   ]
  },
  {
   "cell_type": "code",
   "execution_count": 0,
   "metadata": {
    "application/vnd.databricks.v1+cell": {
     "cellMetadata": {
      "byteLimit": 2048000,
      "rowLimit": 10000
     },
     "inputWidgets": {},
     "nuid": "80830ca6-8fe5-4038-9481-b69187f1e642",
     "showTitle": false,
     "tableResultSettingsMap": {},
     "title": ""
    }
   },
   "outputs": [],
   "source": [
    "\n",
    "\n",
    "-- Bronze Schema\n",
    "CREATE SCHEMA IF NOT EXISTS general_catalog.bronze\n",
    "COMMENT 'Schema for raw ingest data (Bronze Layer)';\n",
    "\n",
    "-- Silver Schema\n",
    "CREATE SCHEMA IF NOT EXISTS general_catalog.silver\n",
    "COMMENT 'Schema for cleaned and enriched data (Silver Layer)';\n",
    "\n",
    "-- Gold Schema\n",
    "CREATE SCHEMA IF NOT EXISTS general_catalog.gold\n",
    "COMMENT 'Schema for aggregated business-level data (Gold Layer)';\n"
   ]
  },
  {
   "cell_type": "code",
   "execution_count": 0,
   "metadata": {
    "application/vnd.databricks.v1+cell": {
     "cellMetadata": {},
     "inputWidgets": {},
     "nuid": "85a15287-279c-4a85-af60-53db04ad89af",
     "showTitle": false,
     "tableResultSettingsMap": {},
     "title": ""
    }
   },
   "outputs": [],
   "source": []
  }
 ],
 "metadata": {
  "application/vnd.databricks.v1+notebook": {
   "computePreferences": null,
   "dashboards": [],
   "environmentMetadata": {
    "base_environment": "",
    "environment_version": "2"
   },
   "inputWidgetPreferences": null,
   "language": "sql",
   "notebookMetadata": {
    "pythonIndentUnit": 4
   },
   "notebookName": "Create External Locations in S3",
   "widgets": {}
  },
  "language_info": {
   "name": "sql"
  }
 },
 "nbformat": 4,
 "nbformat_minor": 0
}
