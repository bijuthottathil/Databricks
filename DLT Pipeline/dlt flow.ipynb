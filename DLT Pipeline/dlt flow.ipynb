{
 "cells": [
  {
   "cell_type": "markdown",
   "metadata": {
    "application/vnd.databricks.v1+cell": {
     "cellMetadata": {},
     "inputWidgets": {},
     "nuid": "0e9bd3dc-d6b1-4b14-ba6e-9a3c72165ed5",
     "showTitle": false,
     "tableResultSettingsMap": {},
     "title": ""
    }
   },
   "source": [
    "Streaming tables\n",
    " Materialized views\n",
    "views "
   ]
  },
  {
   "cell_type": "code",
   "execution_count": 0,
   "metadata": {
    "application/vnd.databricks.v1+cell": {
     "cellMetadata": {
      "byteLimit": 2048000,
      "rowLimit": 10000
     },
     "inputWidgets": {},
     "nuid": "4c3d0558-2a1e-411c-a820-5e26f2789fc6",
     "showTitle": false,
     "tableResultSettingsMap": {},
     "title": ""
    }
   },
   "outputs": [],
   "source": [
    "%python\n",
    "\n",
    "import dlt"
   ]
  },
  {
   "cell_type": "code",
   "execution_count": 0,
   "metadata": {
    "application/vnd.databricks.v1+cell": {
     "cellMetadata": {
      "byteLimit": 2048000,
      "rowLimit": 10000
     },
     "inputWidgets": {},
     "nuid": "c24202ea-cf3c-4934-babf-ef5af09be8a4",
     "showTitle": false,
     "tableResultSettingsMap": {},
     "title": ""
    }
   },
   "outputs": [],
   "source": [
    "%python\n",
    "spark.sql(\"USE CATALOG shopping\")\n",
    "\n",
    "@dlt.table(\n",
    "    comment=\"Order Bronze table\",\n",
    "    table_properties={\"quality\": \"bronze\"}\n",
    ")\n",
    "def order_bronze():\n",
    "    df = spark.readStream.table(\"shopping.bronze.orders_raw\")\n",
    "    return df\n",
    "     "
   ]
  },
  {
   "cell_type": "code",
   "execution_count": 0,
   "metadata": {
    "application/vnd.databricks.v1+cell": {
     "cellMetadata": {
      "byteLimit": 2048000,
      "rowLimit": 10000
     },
     "inputWidgets": {},
     "nuid": "a34bf102-6e45-4d84-ae5d-58afe2ae27a4",
     "showTitle": false,
     "tableResultSettingsMap": {},
     "title": ""
    }
   },
   "outputs": [],
   "source": [
    "%python\n",
    "spark.sql(\"USE CATALOG shopping\")\n",
    "@dlt.table(\n",
    "    comment=\"Customer Bronze table\",\n",
    "    table_properties={\"quality\": \"bronze\"},\n",
    "     name=\"customer_bronze\"\n",
    ")\n",
    "\n",
    "def customer_bronze():\n",
    "         df = spark.readStream.table(\"shopping.bronze.customer_raw\")\n",
    "         return df\n",
    "     "
   ]
  },
  {
   "cell_type": "code",
   "execution_count": 0,
   "metadata": {
    "application/vnd.databricks.v1+cell": {
     "cellMetadata": {
      "byteLimit": 2048000,
      "rowLimit": 10000
     },
     "inputWidgets": {},
     "nuid": "79cb6f0d-b7b7-4410-9f3a-b2c4e4e628f6",
     "showTitle": false,
     "tableResultSettingsMap": {},
     "title": ""
    }
   },
   "outputs": [],
   "source": [
    "%python\n",
    "@dlt.view(\n",
    "    comment=\"Joined View\"\n",
    ")\n",
    "def joined_vw():\n",
    "    df_c = spark.read.table(\"Live.customer_bronze\")\n",
    "    df_o = spark.read.table(\"Live.order_bronze\")\n",
    "    df_join = df_c.join(df_o, how=\"left_outer\", on=df_c.c_custkey == df_o.o_orderkey)\n",
    "    return df_join"
   ]
  },
  {
   "cell_type": "code",
   "execution_count": 0,
   "metadata": {
    "application/vnd.databricks.v1+cell": {
     "cellMetadata": {
      "byteLimit": 2048000,
      "rowLimit": 10000
     },
     "inputWidgets": {},
     "nuid": "e62eee7c-ff04-4098-a592-3c18b737bea2",
     "showTitle": false,
     "tableResultSettingsMap": {},
     "title": ""
    }
   },
   "outputs": [],
   "source": [
    "%python\n",
    "from pyspark.sql import functions as F\n",
    "from pyspark.sql.types import StructType, StructField, StringType, IntegerType, DoubleType, DateType\n",
    "from pyspark.sql.functions import current_timestamp\n"
   ]
  },
  {
   "cell_type": "code",
   "execution_count": 0,
   "metadata": {
    "application/vnd.databricks.v1+cell": {
     "cellMetadata": {
      "byteLimit": 2048000,
      "rowLimit": 10000
     },
     "inputWidgets": {},
     "nuid": "b2afe55d-0677-4d61-876b-6e21bf139b14",
     "showTitle": false,
     "tableResultSettingsMap": {},
     "title": ""
    }
   },
   "outputs": [],
   "source": [
    "%python\n",
    "@dlt.table(\n",
    "    comment=\"Joined table\",\n",
    "    table_properties={\"quality\": \"silver\"},\n",
    "    name=\"joined_silver\"\n",
    ")\n",
    "def joined_silver():\n",
    "     df = spark.read.table(\"LIVE.joined_vw\").withColumn(\"_InsertDate\", current_timestamp())\n",
    "     return df"
   ]
  },
  {
   "cell_type": "code",
   "execution_count": 0,
   "metadata": {
    "application/vnd.databricks.v1+cell": {
     "cellMetadata": {
      "byteLimit": 2048000,
      "rowLimit": 10000
     },
     "inputWidgets": {},
     "nuid": "48b7ee65-1569-4ba3-8fdb-65fffb6e536d",
     "showTitle": false,
     "tableResultSettingsMap": {},
     "title": ""
    }
   },
   "outputs": [],
   "source": [
    "%python\n",
    "@dlt.table(\n",
    "    comment=\"Orders Aggregated table\",\n",
    "    table_properties={\"quality\": \"gold\"}\n",
    ")\n",
    "def Orders_aggregated_gold():\n",
    "    df_final = (spark.read.table(\"LIVE.joined_silver\")\n",
    "                .groupBy(\"c_mktsegment\")\n",
    "                .count()\n",
    "                .withColumn(\"_InsertDate\", current_timestamp()))\n",
    "    return df_final"
   ]
  },
  {
   "cell_type": "code",
   "execution_count": 0,
   "metadata": {
    "application/vnd.databricks.v1+cell": {
     "cellMetadata": {
      "byteLimit": 2048000,
      "rowLimit": 10000
     },
     "inputWidgets": {},
     "nuid": "9a8ff813-def2-4947-b303-fe8a32f6554e",
     "showTitle": false,
     "tableResultSettingsMap": {},
     "title": ""
    }
   },
   "outputs": [],
   "source": [
    "select * from  shopping.Orders_aggregated_gold"
   ]
  },
  {
   "cell_type": "code",
   "execution_count": 0,
   "metadata": {
    "application/vnd.databricks.v1+cell": {
     "cellMetadata": {},
     "inputWidgets": {},
     "nuid": "921040d1-2709-45e8-b85e-49990a43770f",
     "showTitle": false,
     "tableResultSettingsMap": {},
     "title": ""
    }
   },
   "outputs": [],
   "source": []
  }
 ],
 "metadata": {
  "application/vnd.databricks.v1+notebook": {
   "computePreferences": null,
   "dashboards": [],
   "environmentMetadata": {
    "base_environment": "",
    "environment_version": "2"
   },
   "inputWidgetPreferences": null,
   "language": "sql",
   "notebookMetadata": {
    "pythonIndentUnit": 4
   },
   "notebookName": "dlt flow",
   "widgets": {}
  },
  "language_info": {
   "name": "sql"
  }
 },
 "nbformat": 4,
 "nbformat_minor": 0
}
