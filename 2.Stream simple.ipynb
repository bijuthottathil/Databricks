{
 "cells": [
  {
   "cell_type": "code",
   "execution_count": 0,
   "metadata": {
    "application/vnd.databricks.v1+cell": {
     "cellMetadata": {
      "byteLimit": 2048000,
      "implicitDf": true,
      "rowLimit": 10000
     },
     "inputWidgets": {},
     "nuid": "a835111f-9054-4a1e-9389-952cce1b82bc",
     "showTitle": false,
     "tableResultSettingsMap": {},
     "title": ""
    }
   },
   "outputs": [],
   "source": [
    "%sql\n",
    "CREATE STREAMING LIVE TABLE bronze_orders\n",
    "COMMENT \"Raw orders data ingested incrementally from S3 using Auto Loader.\"\n",
    "TBLPROPERTIES (\"quality\" = \"bronze\")\n",
    "AS SELECT * FROM cloud_files(\n",
    "  \"s3://databricksmedallionsbronze/raw/\", -- Replace with your actual S3 path\n",
    "  \"csv\",\n",
    "  map(\n",
    "    \"cloudFiles.schemaLocation\", \"/checkpoints/bronze_orders_schema/\", -- Replace with your actual schema location\n",
    "    \"cloudFiles.format\", \"csv\",\n",
    "    \"header\", \"true\",\n",
    "    \"inferSchema\", \"true\"\n",
    "  )\n",
    ");"
   ]
  },
  {
   "cell_type": "code",
   "execution_count": 0,
   "metadata": {
    "application/vnd.databricks.v1+cell": {
     "cellMetadata": {
      "byteLimit": 2048000,
      "rowLimit": 10000
     },
     "inputWidgets": {},
     "nuid": "62f8f42f-1224-4663-95f0-e066c51a1e13",
     "showTitle": false,
     "tableResultSettingsMap": {},
     "title": ""
    }
   },
   "outputs": [],
   "source": [
    "df = (\n",
    "  spark.readStream.format(\"cloudFiles\")\n",
    "  .option(\"cloudFiles.format\", \"csv\")\n",
    "  .option(\"header\", \"true\")\n",
    "  .option(\"cloudFiles.schemaLocation\", \"s3://databricksmedallionsbronze/schema/\")\n",
    "  .load(\"s3://databricksmedallionsbronze/raw/\")\n",
    ")"
   ]
  },
  {
   "cell_type": "code",
   "execution_count": 0,
   "metadata": {
    "application/vnd.databricks.v1+cell": {
     "cellMetadata": {
      "byteLimit": 2048000,
      "rowLimit": 10000
     },
     "inputWidgets": {},
     "nuid": "aaeebdc2-941c-47af-8590-9a7ae36cbece",
     "showTitle": false,
     "tableResultSettingsMap": {},
     "title": ""
    }
   },
   "outputs": [],
   "source": [
    "# Create the schema if it does not exisspark.sql(\"use general_catalog.bronze_schema\")\n",
    "spark.sql(\"use general_catalog.bronze_schema\")\n",
    "# Write the stream to the Delta table\n",
    "df.writeStream.format(\"delta\") \\\n",
    "  .option(\"checkpointLocation\", \"s3://databricksmedallionsbronze/schema/\") \\\n",
    "  .trigger(availableNow=True) \\\n",
    "  .toTable(\"bronze_schema.orders\")"
   ]
  },
  {
   "cell_type": "code",
   "execution_count": 0,
   "metadata": {
    "application/vnd.databricks.v1+cell": {
     "cellMetadata": {
      "byteLimit": 2048000,
      "implicitDf": true,
      "rowLimit": 10000
     },
     "inputWidgets": {},
     "nuid": "8a653079-ff8a-4ddd-9b9d-b9c5c5d3a2f9",
     "showTitle": false,
     "tableResultSettingsMap": {},
     "title": ""
    }
   },
   "outputs": [],
   "source": [
    "%sql\n",
    "select * from  bronze.orders"
   ]
  }
 ],
 "metadata": {
  "application/vnd.databricks.v1+notebook": {
   "computePreferences": null,
   "dashboards": [],
   "environmentMetadata": {
    "base_environment": "",
    "environment_version": "2"
   },
   "inputWidgetPreferences": null,
   "language": "python",
   "notebookMetadata": {
    "mostRecentlyExecutedCommandWithImplicitDF": {
     "commandId": 4581097572659363,
     "dataframes": [
      "_sqldf"
     ]
    },
    "pythonIndentUnit": 4
   },
   "notebookName": "2.Stream simple",
   "widgets": {}
  },
  "language_info": {
   "name": "python"
  }
 },
 "nbformat": 4,
 "nbformat_minor": 0
}
