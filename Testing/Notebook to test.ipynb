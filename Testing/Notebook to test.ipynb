{
 "cells": [
  {
   "cell_type": "code",
   "execution_count": 0,
   "metadata": {
    "application/vnd.databricks.v1+cell": {
     "cellMetadata": {
      "byteLimit": 2048000,
      "rowLimit": 10000
     },
     "inputWidgets": {},
     "nuid": "2537bcf7-ae21-4d77-b9eb-3a737b9ddb3b",
     "showTitle": false,
     "tableResultSettingsMap": {},
     "title": ""
    }
   },
   "outputs": [],
   "source": [
    "from pyspark.sql import SparkSession\n",
    "from pyspark.sql.types import StructType, StructField, StringType, IntegerType\n",
    "from data_cleaner import remove_nulls\n",
    "\n",
    "def main():\n",
    "    \"\"\"\n",
    "    Main function to demonstrate the usage of remove_nulls.\n",
    "    \"\"\"\n",
    "    # Create a SparkSession\n",
    "    spark = SparkSession.builder \\\n",
    "        .appName(\"NullRemovalDemo\") \\\n",
    "        .getOrCreate()\n",
    "\n",
    "    print(\"SparkSession created.\")\n",
    "\n",
    "    # Define schema for the DataFrame\n",
    "    schema = StructType([\n",
    "        StructField(\"id\", IntegerType(), True),\n",
    "        StructField(\"name\", StringType(), True),\n",
    "        StructField(\"age\", IntegerType(), True),\n",
    "        StructField(\"city\", StringType(), True)\n",
    "    ])\n",
    "\n",
    "    # Sample data with nulls\n",
    "    data = [\n",
    "        (1, \"Alice\", 30, \"New York\"),\n",
    "        (2, \"Bob\", None, \"Los Angeles\"),\n",
    "        (3, \"Charlie\", 25, None),\n",
    "        (4, None, 35, \"Chicago\"),\n",
    "        (5, \"David\", 40, \"Houston\"),\n",
    "        (6, \"Eve\", None, None),\n",
    "        (7, \"Frank\", 50, \"Miami\"),\n",
    "        (8, None, None, \"Dallas\")\n",
    "    ]\n",
    "\n",
    "    # Create a DataFrame\n",
    "    df = spark.createDataFrame(data, schema)\n",
    "    print(\"\\nOriginal DataFrame:\")\n",
    "    df.show()\n",
    "    print(f\"Original DataFrame count: {df.count()}\")\n",
    "\n",
    "    # --- Case 1: Remove rows with any null ---\n",
    "    print(\"\\n--- Case 1: Removing rows with any null ---\")\n",
    "    cleaned_df_any = remove_nulls(df)\n",
    "    print(\"DataFrame after removing rows with any null:\")\n",
    "    cleaned_df_any.show()\n",
    "    print(f\"Cleaned DataFrame (any null) count: {cleaned_df_any.count()}\")\n",
    "\n",
    "    # --- Case 2: Remove rows with nulls in specific columns (e.g., 'age' or 'city') ---\n",
    "    print(\"\\n--- Case 2: Removing rows with nulls in 'age' or 'city' columns ---\")\n",
    "    cleaned_df_subset = remove_nulls(df, subset=[\"age\", \"city\"])\n",
    "    print(\"DataFrame after removing rows with nulls in 'age' or 'city':\")\n",
    "    cleaned_df_subset.show()\n",
    "    print(f\"Cleaned DataFrame (subset) count: {cleaned_df_subset.count()}\")"
   ]
  },
  {
   "cell_type": "code",
   "execution_count": 0,
   "metadata": {
    "application/vnd.databricks.v1+cell": {
     "cellMetadata": {
      "byteLimit": 2048000,
      "rowLimit": 10000
     },
     "inputWidgets": {},
     "nuid": "64d53150-4d75-4c41-9ea2-374e416a78f1",
     "showTitle": false,
     "tableResultSettingsMap": {},
     "title": ""
    }
   },
   "outputs": [],
   "source": [
    "from pyspark.sql import SparkSession\n",
    "from pyspark.sql.types import StructType, StructField, StringType, IntegerType\n",
    "from data_cleaner import remove_nulls"
   ]
  },
  {
   "cell_type": "code",
   "execution_count": 0,
   "metadata": {
    "application/vnd.databricks.v1+cell": {
     "cellMetadata": {
      "byteLimit": 2048000,
      "rowLimit": 10000
     },
     "inputWidgets": {},
     "nuid": "eb08a4fd-9838-4079-b470-683ebfccbc68",
     "showTitle": false,
     "tableResultSettingsMap": {},
     "title": ""
    }
   },
   "outputs": [],
   "source": [
    "# Define schema for the DataFrame\n",
    "from pyspark.sql.types import StructType, StructField, StringType, IntegerType\n",
    "from data_cleaner import remove_nulls\n",
    "schema = StructType([\n",
    "        StructField(\"id\", IntegerType(), True),\n",
    "        StructField(\"name\", StringType(), True),\n",
    "        StructField(\"age\", IntegerType(), True),\n",
    "        StructField(\"city\", StringType(), True)\n",
    "    ])\n",
    "\n",
    "    # Sample data with nulls\n",
    "data = [\n",
    "        (1, \"Alice\", 30, \"New York\"),\n",
    "        (2, \"Bob\", None, \"Los Angeles\"),\n",
    "        (3, \"Charlie\", 25, None),\n",
    "        (4, None, 35, \"Chicago\"),\n",
    "        (5, \"David\", 40, \"Houston\"),\n",
    "        (6, \"Eve\", None, None),\n",
    "        (7, \"Frank\", 50, \"Miami\"),\n",
    "        (8, None, None, \"Dallas\")\n",
    "    ]\n"
   ]
  },
  {
   "cell_type": "code",
   "execution_count": 0,
   "metadata": {
    "application/vnd.databricks.v1+cell": {
     "cellMetadata": {
      "byteLimit": 2048000,
      "rowLimit": 10000
     },
     "inputWidgets": {},
     "nuid": "eb88cc45-fb85-471e-84ab-8a053eb5cc39",
     "showTitle": false,
     "tableResultSettingsMap": {},
     "title": ""
    }
   },
   "outputs": [],
   "source": [
    "  # Create a DataFrame\n",
    "df = spark.createDataFrame(data, schema)\n",
    "print(\"\\nOriginal DataFrame:\")\n",
    "df.show()\n",
    "print(f\"Original DataFrame count: {df.count()}\")"
   ]
  },
  {
   "cell_type": "code",
   "execution_count": 0,
   "metadata": {
    "application/vnd.databricks.v1+cell": {
     "cellMetadata": {
      "byteLimit": 2048000,
      "rowLimit": 10000
     },
     "inputWidgets": {},
     "nuid": "d956d5f1-711f-4b44-86f5-a614ce60db48",
     "showTitle": false,
     "tableResultSettingsMap": {},
     "title": ""
    }
   },
   "outputs": [],
   "source": [
    "  # --- Case 1: Remove rows with any null ---\n",
    "print(\"\\n--- Case 1: Removing rows with any null ---\")\n",
    "cleaned_df_any = remove_nulls(df)\n",
    "print(\"DataFrame after removing rows with any null:\")\n",
    "cleaned_df_any.show()\n",
    "print(f\"Cleaned DataFrame (any null) count: {cleaned_df_any.count()}\")"
   ]
  }
 ],
 "metadata": {
  "application/vnd.databricks.v1+notebook": {
   "computePreferences": null,
   "dashboards": [],
   "environmentMetadata": {
    "base_environment": "",
    "environment_version": "2"
   },
   "inputWidgetPreferences": null,
   "language": "python",
   "notebookMetadata": {
    "pythonIndentUnit": 4
   },
   "notebookName": "Notebook to test",
   "widgets": {}
  },
  "language_info": {
   "name": "python"
  }
 },
 "nbformat": 4,
 "nbformat_minor": 0
}
