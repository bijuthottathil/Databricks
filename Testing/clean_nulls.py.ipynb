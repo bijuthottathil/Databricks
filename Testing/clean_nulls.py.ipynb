{
 "cells": [
  {
   "cell_type": "code",
   "execution_count": 0,
   "metadata": {
    "application/vnd.databricks.v1+cell": {
     "cellMetadata": {
      "byteLimit": 2048000,
      "rowLimit": 10000
     },
     "inputWidgets": {},
     "nuid": "d985e45f-7cab-4d43-8123-09c4ba1299ef",
     "showTitle": false,
     "tableResultSettingsMap": {},
     "title": ""
    }
   },
   "outputs": [],
   "source": [
    "# clean_nulls.py\n",
    "from pyspark.sql import DataFrame\n",
    "\n",
    "def clean_nulls(df: DataFrame, fill_value=\"\"):\n",
    "    \"\"\"\n",
    "    Replace all nulls in the DataFrame with fill_value.\n",
    "    fill_value can be a string, int, etc.\n",
    "    \"\"\"\n",
    "    return df.fillna(fill_value)\n"
   ]
  }
 ],
 "metadata": {
  "application/vnd.databricks.v1+notebook": {
   "computePreferences": null,
   "dashboards": [],
   "environmentMetadata": {
    "base_environment": "",
    "environment_version": "2"
   },
   "inputWidgetPreferences": null,
   "language": "python",
   "notebookMetadata": {
    "pythonIndentUnit": 4
   },
   "notebookName": "clean_nulls.py",
   "widgets": {}
  },
  "language_info": {
   "name": "python"
  }
 },
 "nbformat": 4,
 "nbformat_minor": 0
}
