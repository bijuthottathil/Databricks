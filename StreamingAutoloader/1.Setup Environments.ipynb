{
 "cells": [
  {
   "cell_type": "code",
   "execution_count": 0,
   "metadata": {
    "application/vnd.databricks.v1+cell": {
     "cellMetadata": {
      "byteLimit": 2048000,
      "rowLimit": 10000
     },
     "inputWidgets": {},
     "nuid": "9d448fb3-4541-48c9-ae56-ae42249e39a1",
     "showTitle": false,
     "tableResultSettingsMap": {},
     "title": ""
    }
   },
   "outputs": [],
   "source": [
    "# Databricks notebook source\n",
    "# MAGIC %md\n",
    "# MAGIC ### Create external locations\n",
    "# MAGIC 1. Raw\n",
    "# MAGIC 2. Bronze\n",
    "# MAGIC 3. Silver\n",
    "# MAGIC 4. Gold"
   ]
  },
  {
   "cell_type": "code",
   "execution_count": 0,
   "metadata": {
    "application/vnd.databricks.v1+cell": {
     "cellMetadata": {
      "byteLimit": 2048000,
      "implicitDf": true,
      "rowLimit": 10000
     },
     "inputWidgets": {},
     "nuid": "99870a8c-3a44-4ecf-b19a-00d3743bccdd",
     "showTitle": false,
     "tableResultSettingsMap": {},
     "title": ""
    }
   },
   "outputs": [],
   "source": [
    "%sql\n",
    "CREATE  EXTERNAL LOCATION IF NOT EXISTS databricksextdl_bronze\n",
    "URL 'abfss://bronze@adlsdevfinancesensitive.dfs.core.windows.net/'\n",
    "WITH (STORAGE CREDENTIAL `extcredentailsfordbk`);\n",
    "\n",
    "\n",
    "Desc EXTERNAL LOCATION databricksextdl_bronze;\n",
    "\n",
    "\n",
    "\n",
    "CREATE EXTERNAL LOCATION IF NOT EXISTS databricksextdl_silver\n",
    "URL 'abfss://silver@adlsdevfinancesensitive.dfs.core.windows.net/'\n",
    "WITH (STORAGE CREDENTIAL `extcredentailsfordbk`);\n",
    "\n",
    "\n",
    "\n",
    "CREATE EXTERNAL LOCATION IF NOT EXISTS databricksextdl_gold\n",
    "URL 'abfss://gold@adlsdevfinancesensitive.dfs.core.windows.net/'\n",
    "WITH (STORAGE CREDENTIAL `extcredentailsfordbk`);\n",
    "\n",
    "\n",
    "\n",
    "CREATE EXTERNAL LOCATION IF NOT EXISTS databricksextdl_raw\n",
    "URL 'abfss://raw@adlsdevfinancesensitive.dfs.core.windows.net/'\n",
    "WITH (STORAGE CREDENTIAL `extcredentailsfordbk`);\n",
    "\n",
    "CREATE EXTERNAL LOCATION IF NOT EXISTS databricksextdl_catalog\n",
    "URL 'abfss://catalog@adlsdevfinancesensitive.dfs.core.windows.net/'\n",
    "WITH (STORAGE CREDENTIAL `extcredentailsfordbk`);\n",
    "\n",
    "\n",
    "CREATE EXTERNAL LOCATION IF NOT EXISTS databricksextdl_catalog\n",
    "URL 'abfss://catalog@adlsdevfinancesensitive.dfs.core.windows.net/'\n",
    "WITH (STORAGE CREDENTIAL `extcredentailsfordbk`)"
   ]
  },
  {
   "cell_type": "code",
   "execution_count": 0,
   "metadata": {
    "application/vnd.databricks.v1+cell": {
     "cellMetadata": {
      "byteLimit": 2048000,
      "implicitDf": true,
      "rowLimit": 10000
     },
     "inputWidgets": {},
     "nuid": "c295d41a-2485-420f-896e-69ef5cde0b7e",
     "showTitle": false,
     "tableResultSettingsMap": {},
     "title": ""
    }
   },
   "outputs": [],
   "source": [
    "%sql\n",
    "\n",
    "CREATE CATALOG IF NOT EXISTS finance_catalog MANAGED LOCATION 'abfss://catalog@adlsdevfinancesensitive.dfs.core.windows.net/';\n",
    "     \n",
    "USE CATALOG finance_catalog;\n",
    "\n",
    "\n",
    "\n",
    "\n",
    "CREATE SCHEMA IF NOT EXISTS bronze\n",
    "MANAGED LOCATION \"abfss://bronze@adlsdevfinancesensitive.dfs.core.windows.net/\";\n",
    "\n",
    "\n",
    "CREATE SCHEMA IF NOT EXISTS silver\n",
    "MANAGED LOCATION \"abfss://silver@adlsdevfinancesensitive.dfs.core.windows.net/\";\n",
    "\n",
    "\n",
    "\n",
    "CREATE SCHEMA IF NOT EXISTS gold\n",
    "MANAGED LOCATION \"abfss://gold@adlsdevfinancesensitive.dfs.core.windows.net/\";\n",
    "\n",
    "\n",
    "\n",
    "show schemas;"
   ]
  }
 ],
 "metadata": {
  "application/vnd.databricks.v1+notebook": {
   "computePreferences": null,
   "dashboards": [],
   "environmentMetadata": {
    "base_environment": "",
    "environment_version": "2"
   },
   "inputWidgetPreferences": null,
   "language": "python",
   "notebookMetadata": {
    "mostRecentlyExecutedCommandWithImplicitDF": {
     "commandId": 8341549719839841,
     "dataframes": [
      "_sqldf"
     ]
    },
    "pythonIndentUnit": 4
   },
   "notebookName": "1.Setup Environments",
   "widgets": {}
  },
  "language_info": {
   "name": "python"
  }
 },
 "nbformat": 4,
 "nbformat_minor": 0
}
