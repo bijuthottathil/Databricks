{
 "cells": [
  {
   "cell_type": "code",
   "execution_count": 0,
   "metadata": {
    "application/vnd.databricks.v1+cell": {
     "cellMetadata": {
      "byteLimit": 2048000,
      "rowLimit": 10000
     },
     "inputWidgets": {},
     "nuid": "a7f1ec54-847b-4f4b-8c18-e53fe68632bf",
     "showTitle": false,
     "tableResultSettingsMap": {},
     "title": ""
    }
   },
   "outputs": [],
   "source": [
    "spark.sql(\"use finance_catalog.bronze\")"
   ]
  },
  {
   "cell_type": "code",
   "execution_count": 0,
   "metadata": {
    "application/vnd.databricks.v1+cell": {
     "cellMetadata": {
      "byteLimit": 2048000,
      "rowLimit": 10000
     },
     "inputWidgets": {},
     "nuid": "580364a2-36c1-4ec3-a40b-12c74398f02f",
     "showTitle": false,
     "tableResultSettingsMap": {},
     "title": ""
    }
   },
   "outputs": [],
   "source": [
    "# STREAMING Bronze Layer - Auto Loader\n",
    "df_bronze = (\n",
    "    spark.readStream.format(\"cloudFiles\")\n",
    "    .option(\"cloudFiles.format\", \"csv\")\n",
    "    .option(\"cloudFiles.inferColumnTypes\", \"true\")\n",
    "    .option(\"cloudFiles.schemaLocation\", \"abfss://catalog@adlsdevfinancesensitive.dfs.core.windows.net/schema/\")\n",
    "    .load(\"abfss://raw@adlsdevfinancesensitive.dfs.core.windows.net/input/\")\n",
    "    \n",
    ")\n"
   ]
  },
  {
   "cell_type": "code",
   "execution_count": 0,
   "metadata": {
    "application/vnd.databricks.v1+cell": {
     "cellMetadata": {
      "byteLimit": 2048000,
      "rowLimit": 10000
     },
     "inputWidgets": {},
     "nuid": "28f3d3d5-bb40-458e-a0db-7edbaf364272",
     "showTitle": false,
     "tableResultSettingsMap": {},
     "title": ""
    }
   },
   "outputs": [],
   "source": [
    "\n",
    "df_bronze.writeStream.format(\"delta\") \\\n",
    "    .option(\"checkpointLocation\", \"abfss://catalog@adlsdevfinancesensitive.dfs.core.windows.net/checkpoints/\") \\\n",
    "    .outputMode(\"Append\") \\\n",
    "    .table(\"warehouse_retail_bronze\")"
   ]
  },
  {
   "cell_type": "code",
   "execution_count": 0,
   "metadata": {
    "application/vnd.databricks.v1+cell": {
     "cellMetadata": {
      "byteLimit": 2048000,
      "implicitDf": true,
      "rowLimit": 10000
     },
     "inputWidgets": {},
     "nuid": "4433965f-c07f-4c51-b7ea-de3615a5f2e5",
     "showTitle": false,
     "tableResultSettingsMap": {},
     "title": ""
    }
   },
   "outputs": [],
   "source": [
    "%sql\n",
    "select * from warehouse_retail_bronze "
   ]
  },
  {
   "cell_type": "code",
   "execution_count": 0,
   "metadata": {
    "application/vnd.databricks.v1+cell": {
     "cellMetadata": {
      "byteLimit": 2048000,
      "rowLimit": 10000
     },
     "inputWidgets": {},
     "nuid": "d9c394de-7626-4a9d-bdb4-a76ec699493d",
     "showTitle": false,
     "tableResultSettingsMap": {},
     "title": ""
    }
   },
   "outputs": [],
   "source": [
    "silver_table_name = \"finance_catalog.silver.silver_orders_processed\"\n",
    "\n",
    "# Check if table exists\n",
    "from pyspark.sql.functions import col, to_timestamp, lit, upper, current_timestamp\n",
    "from pyspark.sql.types import StringType, IntegerType, DoubleType, TimestampType\n",
    "\n",
    "\n",
    "\n",
    "if not spark.catalog.tableExists(silver_table_name):\n",
    "  spark.sql(f\"\"\"\n",
    "    CREATE TABLE IF NOT EXISTS {silver_table_name} (\n",
    "        transaction_id STRING,\n",
    "        customer_id STRING,\n",
    "        product_id STRING,\n",
    "        amount DOUBLE,\n",
    "        transaction_date TIMESTAMP,\n",
    "        region STRING\n",
    "    ) USING DELTA\n",
    "    \"\"\")\n",
    "   \n",
    "  print(f\"Created silver table: {silver_table_name}\")\n",
    "else:\n",
    "  print(f\"Silver table already exists: {silver_table_name}\")\n",
    "\n",
    "\n",
    "   \n"
   ]
  },
  {
   "cell_type": "code",
   "execution_count": 0,
   "metadata": {
    "application/vnd.databricks.v1+cell": {
     "cellMetadata": {
      "byteLimit": 2048000,
      "implicitDf": true,
      "rowLimit": 10000
     },
     "inputWidgets": {},
     "nuid": "cc2c7615-e56e-4412-9f49-3dbfea813c4d",
     "showTitle": false,
     "tableResultSettingsMap": {},
     "title": ""
    }
   },
   "outputs": [],
   "source": [
    "%sql\n",
    "MERGE INTO finance_catalog.silver.silver_orders_processed AS target\n",
    "USING warehouse_retail_bronze AS source\n",
    "ON target.transaction_id = source.transaction_id\n",
    "WHEN MATCHED THEN UPDATE SET\n",
    "    target.transaction_id = source.transaction_id,\n",
    "    target.customer_id = source.customer_id,\n",
    "    target.product_id = source.product_id,\n",
    "    target.amount = source.amount,\n",
    "    target.transaction_date = source.transaction_date,\n",
    "    target.region = source.region\n",
    "WHEN NOT MATCHED THEN INSERT *\n",
    "\n"
   ]
  },
  {
   "cell_type": "code",
   "execution_count": 0,
   "metadata": {
    "application/vnd.databricks.v1+cell": {
     "cellMetadata": {
      "byteLimit": 2048000,
      "implicitDf": true,
      "rowLimit": 10000
     },
     "inputWidgets": {},
     "nuid": "b646da54-944c-46f4-911c-8f5ee0e1d904",
     "showTitle": false,
     "tableResultSettingsMap": {},
     "title": ""
    }
   },
   "outputs": [],
   "source": [
    "%sql\n",
    "select transaction_id,count(*) from finance_catalog.silver.silver_orders_processed group by transaction_id having count(*) "
   ]
  },
  {
   "cell_type": "code",
   "execution_count": 0,
   "metadata": {
    "application/vnd.databricks.v1+cell": {
     "cellMetadata": {
      "byteLimit": 2048000,
      "implicitDf": true,
      "rowLimit": 10000
     },
     "inputWidgets": {},
     "nuid": "bcd99b24-3096-4470-be69-3c1d9b636a2f",
     "showTitle": false,
     "tableResultSettingsMap": {},
     "title": ""
    }
   },
   "outputs": [],
   "source": [
    "%sql\n",
    "select * from finance_catalog.silver.silver_orders_processed "
   ]
  }
 ],
 "metadata": {
  "application/vnd.databricks.v1+notebook": {
   "computePreferences": null,
   "dashboards": [],
   "environmentMetadata": {
    "base_environment": "",
    "environment_version": "2"
   },
   "inputWidgetPreferences": null,
   "language": "python",
   "notebookMetadata": {
    "mostRecentlyExecutedCommandWithImplicitDF": {
     "commandId": 8341549719839885,
     "dataframes": [
      "_sqldf"
     ]
    },
    "pythonIndentUnit": 4
   },
   "notebookName": "2.transaction-bronze & silver",
   "widgets": {}
  },
  "language_info": {
   "name": "python"
  }
 },
 "nbformat": 4,
 "nbformat_minor": 0
}
