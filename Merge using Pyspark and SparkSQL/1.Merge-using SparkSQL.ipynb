{
 "cells": [
  {
   "cell_type": "code",
   "execution_count": 0,
   "metadata": {
    "application/vnd.databricks.v1+cell": {
     "cellMetadata": {
      "byteLimit": 2048000,
      "rowLimit": 10000
     },
     "inputWidgets": {},
     "nuid": "56d55355-036f-4083-a9a3-a32db72dd9f6",
     "showTitle": false,
     "tableResultSettingsMap": {},
     "title": ""
    }
   },
   "outputs": [],
   "source": [
    "\n",
    "-- To cleanup tables\n",
    "USE GENERAL_CATALOG.SILVER_SCHEMA;\n",
    "DROP TABLE IF EXISTS silver_employee"
   ]
  },
  {
   "cell_type": "code",
   "execution_count": 0,
   "metadata": {
    "application/vnd.databricks.v1+cell": {
     "cellMetadata": {
      "byteLimit": 2048000,
      "rowLimit": 10000
     },
     "inputWidgets": {},
     "nuid": "b4c11179-60a4-49cf-b6df-4fd0ccf2b303",
     "showTitle": false,
     "tableResultSettingsMap": {},
     "title": ""
    }
   },
   "outputs": [],
   "source": [
    "\n",
    "CREATE TABLE IF NOT EXISTS SILVER_EMPLOYEE(employee_id int not null,first_name string,last_name string,email string,department string,hire_date string)"
   ]
  },
  {
   "cell_type": "code",
   "execution_count": 0,
   "metadata": {
    "application/vnd.databricks.v1+cell": {
     "cellMetadata": {
      "byteLimit": 2048000,
      "rowLimit": 10000
     },
     "inputWidgets": {},
     "nuid": "564d890e-717f-4ebc-bd39-947cc3405180",
     "showTitle": false,
     "tableResultSettingsMap": {},
     "title": ""
    }
   },
   "outputs": [],
   "source": [
    "insert into silver_employee values(101, \"Alice\", \"Smith\", \"alice.s@example.com\", \"Sales\", \"2020-01-15\"),\n",
    "    (102, \"Bob\", \"Johnson\", \"bob.j@example.com\", \"Marketing\", \"2019-03-22\"),\n",
    "    (103, \"Charlie\", \"Brown\", \"charlie.b@example.com\", \"Engineering\", \"2021-06-01\"),\n",
    "    (104, \"Diana\", \"Prince\", \"diana.p@example.com\", \"HR\", \"2018-11-10\")"
   ]
  },
  {
   "cell_type": "code",
   "execution_count": 0,
   "metadata": {
    "application/vnd.databricks.v1+cell": {
     "cellMetadata": {
      "byteLimit": 2048000,
      "rowLimit": 10000
     },
     "inputWidgets": {},
     "nuid": "c743603f-a47d-4b04-b1a9-293d458c8a5a",
     "showTitle": false,
     "tableResultSettingsMap": {},
     "title": ""
    }
   },
   "outputs": [],
   "source": [
    "select * from silver_employee"
   ]
  },
  {
   "cell_type": "code",
   "execution_count": 0,
   "metadata": {
    "application/vnd.databricks.v1+cell": {
     "cellMetadata": {
      "byteLimit": 2048000,
      "rowLimit": 10000
     },
     "inputWidgets": {},
     "nuid": "61d9311d-330e-49b9-8286-3e854bb0a21e",
     "showTitle": false,
     "tableResultSettingsMap": {},
     "title": ""
    }
   },
   "outputs": [],
   "source": [
    "create temp view silver_employee_view as select *,current_timestamp as created_at,current_timestamp as updated_at from silver_employee"
   ]
  },
  {
   "cell_type": "code",
   "execution_count": 0,
   "metadata": {
    "application/vnd.databricks.v1+cell": {
     "cellMetadata": {
      "byteLimit": 2048000,
      "rowLimit": 10000
     },
     "inputWidgets": {},
     "nuid": "7311806a-c2f7-421c-b4b6-6b35340fc87b",
     "showTitle": false,
     "tableResultSettingsMap": {},
     "title": ""
    }
   },
   "outputs": [],
   "source": [
    "select * from silver_employee_view"
   ]
  },
  {
   "cell_type": "code",
   "execution_count": 0,
   "metadata": {
    "application/vnd.databricks.v1+cell": {
     "cellMetadata": {
      "byteLimit": 2048000,
      "rowLimit": 10000
     },
     "inputWidgets": {},
     "nuid": "b5a58c1e-ac6d-4897-87ef-cd63ea466962",
     "showTitle": false,
     "tableResultSettingsMap": {},
     "title": ""
    }
   },
   "outputs": [],
   "source": [
    "-- Use the target catalog and schema\n",
    "USE CATALOG general_catalog;\n",
    "USE SCHEMA silver_schema;\n",
    "\n",
    "-- Create or overwrite the managed Delta table from the temporary view\n",
    "CREATE OR REPLACE TABLE silver_employee\n",
    "USING DELTA\n",
    "AS\n",
    "SELECT * FROM silver_employee_view"
   ]
  },
  {
   "cell_type": "code",
   "execution_count": 0,
   "metadata": {
    "application/vnd.databricks.v1+cell": {
     "cellMetadata": {
      "byteLimit": 2048000,
      "rowLimit": 10000
     },
     "inputWidgets": {},
     "nuid": "e43f1d01-9668-47af-9fea-525e1ac44760",
     "showTitle": false,
     "tableResultSettingsMap": {},
     "title": ""
    }
   },
   "outputs": [],
   "source": [
    "select * from silver_employee"
   ]
  },
  {
   "cell_type": "code",
   "execution_count": 0,
   "metadata": {
    "application/vnd.databricks.v1+cell": {
     "cellMetadata": {
      "byteLimit": 2048000,
      "rowLimit": 10000
     },
     "inputWidgets": {},
     "nuid": "0a9db361-780f-4b32-85fb-65e053d61ea8",
     "showTitle": false,
     "tableResultSettingsMap": {},
     "title": ""
    }
   },
   "outputs": [],
   "source": [
    "USE CATALOG general_catalog;\n",
    "USE SCHEMA silver_schema;\n",
    "create temp view silver_employee_incrimental_view as select *,current_timestamp as created_at,current_timestamp as updated_at  \n",
    "FROM VALUES\n",
    "  (101, 'Alice', 'Smith', 'alice.smith.new@example.com', 'Marketing', '2020-01-15'),\n",
    "  (102, 'Bob', 'Johnson', 'bobjohnson@example.com', 'Marketing', '2019-03-22'),\n",
    "  (105, 'Emily', 'Clark', 'emily.c@example.com', 'Finance', '2022-09-01')\n",
    "AS t(employee_id, first_name, last_name, email, department, hire_date);"
   ]
  },
  {
   "cell_type": "code",
   "execution_count": 0,
   "metadata": {
    "application/vnd.databricks.v1+cell": {
     "cellMetadata": {
      "byteLimit": 2048000,
      "rowLimit": 10000
     },
     "inputWidgets": {},
     "nuid": "98688c72-649e-42b0-a1c4-1187838efd20",
     "showTitle": false,
     "tableResultSettingsMap": {},
     "title": ""
    }
   },
   "outputs": [],
   "source": [
    "select * from silver_employee_incrimental_view"
   ]
  },
  {
   "cell_type": "code",
   "execution_count": 0,
   "metadata": {
    "application/vnd.databricks.v1+cell": {
     "cellMetadata": {
      "byteLimit": 2048000,
      "rowLimit": 10000
     },
     "inputWidgets": {},
     "nuid": "6908e395-ddbb-4a72-a17d-76aba7988a28",
     "showTitle": false,
     "tableResultSettingsMap": {},
     "title": ""
    }
   },
   "outputs": [],
   "source": [
    "USE CATALOG general_catalog;\n",
    "USE SCHEMA silver_schema;\n",
    "\n",
    "-- Perform MERGE (UPSERT)\n",
    "MERGE INTO silver_employee AS target\n",
    "USING silver_employee_incrimental_view AS source\n",
    "ON target.employee_id = source.employee_id\n",
    "\n",
    "-- Update existing records\n",
    "WHEN MATCHED THEN UPDATE SET\n",
    "  target.first_name   = source.first_name,\n",
    "  target.last_name    = source.last_name,\n",
    "  target.email        = source.email,\n",
    "  target.department   = source.department,\n",
    "  target.hire_date    = source.hire_date,\n",
    "  target.updated_at   = source.updated_at\n",
    "\n",
    "-- Insert new records\n",
    "WHEN NOT MATCHED THEN INSERT (\n",
    "  employee_id, first_name, last_name, email, department, hire_date, created_at, updated_at\n",
    ")\n",
    "VALUES (\n",
    "  source.employee_id, source.first_name, source.last_name, source.email,\n",
    "  source.department, source.hire_date, source.updated_at, source.updated_at\n",
    ");\n",
    "\n",
    "---- First MERGE operation completed."
   ]
  },
  {
   "cell_type": "code",
   "execution_count": 0,
   "metadata": {
    "application/vnd.databricks.v1+cell": {
     "cellMetadata": {
      "byteLimit": 2048000,
      "implicitDf": true,
      "rowLimit": 10000
     },
     "inputWidgets": {},
     "nuid": "a5ecbdc1-90bf-411a-a0f2-0ef4dd9fe346",
     "showTitle": false,
     "tableResultSettingsMap": {},
     "title": ""
    }
   },
   "outputs": [],
   "source": [
    "\n",
    "select * from general_catalog.silver_schema.silver_employee order by employee_id "
   ]
  },
  {
   "cell_type": "code",
   "execution_count": 0,
   "metadata": {
    "application/vnd.databricks.v1+cell": {
     "cellMetadata": {},
     "inputWidgets": {},
     "nuid": "f254e21c-413e-4dd1-abde-40e99fcf20c3",
     "showTitle": false,
     "tableResultSettingsMap": {},
     "title": ""
    }
   },
   "outputs": [],
   "source": []
  }
 ],
 "metadata": {
  "application/vnd.databricks.v1+notebook": {
   "computePreferences": null,
   "dashboards": [],
   "environmentMetadata": {
    "base_environment": "",
    "environment_version": "2"
   },
   "inputWidgetPreferences": null,
   "language": "sql",
   "notebookMetadata": {
    "mostRecentlyExecutedCommandWithImplicitDF": {
     "commandId": 6539338708854508,
     "dataframes": [
      "_sqldf"
     ]
    },
    "pythonIndentUnit": 4
   },
   "notebookName": "1.Merge-using SparkSQL",
   "widgets": {}
  },
  "language_info": {
   "name": "sql"
  }
 },
 "nbformat": 4,
 "nbformat_minor": 0
}
