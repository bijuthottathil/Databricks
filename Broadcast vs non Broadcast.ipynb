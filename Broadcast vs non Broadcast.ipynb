{
 "cells": [
  {
   "cell_type": "code",
   "execution_count": 0,
   "metadata": {
    "application/vnd.databricks.v1+cell": {
     "cellMetadata": {
      "byteLimit": 2048000,
      "rowLimit": 10000
     },
     "inputWidgets": {},
     "nuid": "8a00e462-d6ae-4d97-b13a-faaf830dd5fa",
     "showTitle": false,
     "tableResultSettingsMap": {},
     "title": ""
    }
   },
   "outputs": [],
   "source": [
    "from pyspark.sql import SparkSession\n",
    "from pyspark.sql.functions import udf, col, broadcast\n",
    "from pyspark.sql.types import StringType\n",
    "\n",
    "# Sample DataFrame\n",
    "students = [\n",
    "    (\"Alice\", \"CSE\"),\n",
    "    (\"Bob\", \"ECE\"),\n",
    "    (\"Charlie\", \"ME\"),\n",
    "]\n",
    "df_students = spark.createDataFrame(students, [\"NAME\", \"DEPT_CODE\"])\n",
    "\n",
    "# Department lookup data\n",
    "dept_lookup = [\n",
    "    (\"CSE\", \"Computer Science\"),\n",
    "    (\"ECE\", \"Electronics\"),\n",
    "    (\"ME\", \"Mechanical\")\n",
    "]\n",
    "df_dept = spark.createDataFrame(dept_lookup, [\"DEPT_CODE\", \"DEPT_NAME\"])\n",
    "\n",
    "# Broadcast the dept DataFrame\n",
    "df_dept_broadcasted = broadcast(df_dept)\n",
    "\n",
    "# Join with broadcasted dept DataFrame\n",
    "df_result = df_students.join(df_dept_broadcasted, on=\"DEPT_CODE\", how=\"left\")\n",
    "\n",
    "display(df_result)"
   ]
  },
  {
   "cell_type": "code",
   "execution_count": 0,
   "metadata": {
    "application/vnd.databricks.v1+cell": {
     "cellMetadata": {
      "byteLimit": 2048000,
      "rowLimit": 10000
     },
     "inputWidgets": {},
     "nuid": "070549c0-056a-4e97-8415-5e977a4a3666",
     "showTitle": false,
     "tableResultSettingsMap": {},
     "title": ""
    }
   },
   "outputs": [],
   "source": [
    "from pyspark.sql import SparkSession\n",
    "\n",
    "# Sample DataFrames\n",
    "students = [\n",
    "    (\"Alice\", \"CSE\"),\n",
    "    (\"Bob\", \"ECE\"),\n",
    "    (\"Charlie\", \"ME\"),\n",
    "]\n",
    "df_students = spark.createDataFrame(students, [\"NAME\", \"DEPT_CODE\"])\n",
    "\n",
    "dept_lookup = [\n",
    "    (\"CSE\", \"Computer Science\"),\n",
    "    (\"ECE\", \"Electronics\"),\n",
    "    (\"ME\", \"Mechanical\")\n",
    "]\n",
    "df_dept = spark.createDataFrame(dept_lookup, [\"DEPT_CODE\", \"DEPT_NAME\"])\n",
    "\n",
    "# Regular join without broadcast\n",
    "df_result = df_students.join(df_dept, on=\"DEPT_CODE\", how=\"left\")\n",
    "\n",
    "df_result.show()\n"
   ]
  }
 ],
 "metadata": {
  "application/vnd.databricks.v1+notebook": {
   "computePreferences": null,
   "dashboards": [],
   "environmentMetadata": {
    "base_environment": "",
    "environment_version": "2"
   },
   "inputWidgetPreferences": null,
   "language": "python",
   "notebookMetadata": {
    "pythonIndentUnit": 4
   },
   "notebookName": "Broadcast vs non Broadcast",
   "widgets": {}
  },
  "language_info": {
   "name": "python"
  }
 },
 "nbformat": 4,
 "nbformat_minor": 0
}
