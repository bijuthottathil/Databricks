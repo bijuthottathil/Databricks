{
 "cells": [
  {
   "cell_type": "code",
   "execution_count": 0,
   "metadata": {
    "application/vnd.databricks.v1+cell": {
     "cellMetadata": {
      "byteLimit": 2048000,
      "rowLimit": 10000
     },
     "inputWidgets": {},
     "nuid": "45d97fde-4e76-4f52-bf78-823168f2c6ec",
     "showTitle": false,
     "tableResultSettingsMap": {},
     "title": ""
    }
   },
   "outputs": [],
   "source": [
    "from pyspark.sql.functions import col, expr\n",
    "from datetime import datetime, timedelta\n",
    "import random\n",
    "\n",
    "# Generate time series records\n",
    "now = datetime.now()\n",
    "data = [\n",
    "    (\n",
    "        i,\n",
    "        (now - timedelta(minutes=random.randint(0, 60))).isoformat(),\n",
    "        random.randint(1, 100)\n",
    "    )\n",
    "    for i in range(100)\n",
    "]\n",
    "\n",
    "# Create DataFrame\n",
    "df = spark.createDataFrame(data, [\"id\", \"event_time\", \"value\"])\n",
    "df = df.withColumn(\"event_time\", col(\"event_time\").cast(\"timestamp\"))\n",
    "\n",
    "# Write to a Delta location for streaming simulation\n",
    "df.write.mode(\"overwrite\").saveAsTable(\"bijucatalog.bijusilverschema.streaming_data\")\n",
    "#df.createOrReplaceTempView(\"bijucatalog.bijusilverschema.streaming_data\")\n"
   ]
  },
  {
   "cell_type": "code",
   "execution_count": 0,
   "metadata": {
    "application/vnd.databricks.v1+cell": {
     "cellMetadata": {
      "byteLimit": 2048000,
      "implicitDf": true,
      "rowLimit": 10000
     },
     "inputWidgets": {},
     "nuid": "9bfb98e0-1543-4a27-928f-7c3aae0e2d14",
     "showTitle": false,
     "tableResultSettingsMap": {
      "0": {
       "dataGridStateBlob": "{\"version\":1,\"tableState\":{\"columnPinning\":{\"left\":[\"#row_number#\"],\"right\":[]},\"columnSizing\":{\"event_time\":254},\"columnVisibility\":{}},\"settings\":{\"columns\":{}},\"syncTimestamp\":1752703557050}",
       "filterBlob": null,
       "queryPlanFiltersBlob": null,
       "tableResultIndex": 0
      }
     },
     "title": ""
    }
   },
   "outputs": [],
   "source": [
    "%sql\n",
    "select * from bijucatalog.bijusilverschema.streaming_data"
   ]
  },
  {
   "cell_type": "code",
   "execution_count": 0,
   "metadata": {
    "application/vnd.databricks.v1+cell": {
     "cellMetadata": {
      "byteLimit": 2048000,
      "rowLimit": 10000
     },
     "inputWidgets": {},
     "nuid": "a6a18166-505d-4660-800d-19a0481567d9",
     "showTitle": false,
     "tableResultSettingsMap": {},
     "title": ""
    }
   },
   "outputs": [],
   "source": [
    "from pyspark.sql.functions import window\n",
    "source_path = \"s3://databricksbijubucketnew/raw/\"\n",
    "archive_base = \"s3://databricksbijubucketnew/archive/\"\n",
    "checkpoint = \"s3://databricksbijubucketnew/checkpoints/\"\n",
    "  \n",
    "# Read the stream\n",
    "stream_df = (\n",
    "    spark.readStream.format(\"delta\")\n",
    "    .table(\"bijucatalog.bijusilverschema.streaming_data\")\n",
    "    .withWatermark(\"event_time\", \"10 minutes\")\n",
    ")\n",
    "\n",
    "# Apply windowed aggregation\n",
    "aggregated = stream_df.groupBy(\n",
    "    window(\"event_time\", \"15 minutes\")\n",
    ").count()\n",
    "\n",
    "# Write results to console (or delta)\n",
    "query = (\n",
    "    aggregated.writeStream\n",
    "    .outputMode(\"append\")\n",
    "    .format(\"delta\")\n",
    "    .option(\"checkpointLocation\", f\"{checkpoint}/streaming\")\n",
    "    .trigger(availableNow=True)\n",
    "    .toTable(\"bijucatalog.bijusilverschema.event_counts\")  # replace with your catalog.schema.table\n",
    ")\n",
    "\n",
    "\n",
    "\n",
    "#query.awaitTermination()"
   ]
  },
  {
   "cell_type": "code",
   "execution_count": 0,
   "metadata": {
    "application/vnd.databricks.v1+cell": {
     "cellMetadata": {
      "byteLimit": 2048000,
      "implicitDf": true,
      "rowLimit": 10000
     },
     "inputWidgets": {},
     "nuid": "486ce1e9-6a5c-4986-bacd-6d63dfbebf2c",
     "showTitle": false,
     "tableResultSettingsMap": {},
     "title": ""
    }
   },
   "outputs": [],
   "source": [
    "%sql\n",
    "select * from bijucatalog.bijusilverschema.event_counts"
   ]
  }
 ],
 "metadata": {
  "application/vnd.databricks.v1+notebook": {
   "computePreferences": null,
   "dashboards": [],
   "environmentMetadata": {
    "base_environment": "",
    "environment_version": "2"
   },
   "inputWidgetPreferences": null,
   "language": "python",
   "notebookMetadata": {
    "mostRecentlyExecutedCommandWithImplicitDF": {
     "commandId": 8586661527725103,
     "dataframes": [
      "_sqldf"
     ]
    },
    "pythonIndentUnit": 4
   },
   "notebookName": "windowing-watermark",
   "widgets": {}
  },
  "language_info": {
   "name": "python"
  }
 },
 "nbformat": 4,
 "nbformat_minor": 0
}
