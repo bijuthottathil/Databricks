{
 "cells": [
  {
   "cell_type": "code",
   "execution_count": 0,
   "metadata": {
    "application/vnd.databricks.v1+cell": {
     "cellMetadata": {
      "byteLimit": 2048000,
      "rowLimit": 10000
     },
     "inputWidgets": {},
     "nuid": "65d4e478-dc25-44eb-937d-5b8413b328e9",
     "showTitle": false,
     "tableResultSettingsMap": {},
     "title": ""
    }
   },
   "outputs": [],
   "source": [
    "from pyspark.sql import SparkSession\n",
    "from pyspark.sql.functions import expr, col\n",
    "from pyspark.sql.types import StructType, StructField, StringType, TimestampType\n",
    "\n",
    "spark = SparkSession.builder.appName(\"StreamJoinExample\").getOrCreate()"
   ]
  },
  {
   "cell_type": "code",
   "execution_count": 0,
   "metadata": {
    "application/vnd.databricks.v1+cell": {
     "cellMetadata": {
      "byteLimit": 2048000,
      "rowLimit": 10000
     },
     "inputWidgets": {},
     "nuid": "aa3934da-894a-4f6b-a77f-b0fe83550b41",
     "showTitle": false,
     "tableResultSettingsMap": {},
     "title": ""
    }
   },
   "outputs": [],
   "source": [
    "clicks_schema = StructType([\n",
    "    StructField(\"userId\", StringType(), True),\n",
    "    StructField(\"productId\", StringType(), True),\n",
    "    StructField(\"clickTime\", TimestampType(), True)\n",
    "])\n",
    "\n",
    "purchases_schema = StructType([\n",
    "    StructField(\"userId\", StringType(), True),\n",
    "    StructField(\"productId\", StringType(), True),\n",
    "    StructField(\"purchaseTime\", TimestampType(), True)\n",
    "])"
   ]
  },
  {
   "cell_type": "code",
   "execution_count": 0,
   "metadata": {
    "application/vnd.databricks.v1+cell": {
     "cellMetadata": {
      "byteLimit": 2048000,
      "rowLimit": 10000
     },
     "inputWidgets": {},
     "nuid": "e25ff30a-c148-44a1-a441-f7b8bfd8099b",
     "showTitle": false,
     "tableResultSettingsMap": {},
     "title": ""
    }
   },
   "outputs": [],
   "source": [
    "from pyspark.sql.functions import current_timestamp\n",
    "from datetime import datetime, timedelta\n",
    "import pandas as pd\n",
    "\n",
    "click_data = pd.DataFrame([\n",
    "    (\"u1\", \"p1\", datetime.now()),\n",
    "    (\"u2\", \"p2\", datetime.now() - timedelta(minutes=5)),\n",
    "    (\"u3\", \"p3\", datetime.now() - timedelta(minutes=8))\n",
    "], columns=[\"userId\", \"productId\", \"clickTime\"])\n",
    "\n",
    "click_df = spark.createDataFrame(click_data, clicks_schema)\n",
    "click_df.write.format(\"delta\").mode(\"overwrite\").saveAsTable(\"bijucatalog.bijusilverschema.click_stream_input\")\n"
   ]
  },
  {
   "cell_type": "code",
   "execution_count": 0,
   "metadata": {
    "application/vnd.databricks.v1+cell": {
     "cellMetadata": {
      "byteLimit": 2048000,
      "implicitDf": true,
      "rowLimit": 10000
     },
     "inputWidgets": {},
     "nuid": "24c98d88-f0ed-48d2-80ee-493f7ce5e680",
     "showTitle": false,
     "tableResultSettingsMap": {},
     "title": ""
    }
   },
   "outputs": [],
   "source": [
    "%sql\n",
    "select * from bijucatalog.bijusilverschema.click_stream_input"
   ]
  },
  {
   "cell_type": "code",
   "execution_count": 0,
   "metadata": {
    "application/vnd.databricks.v1+cell": {
     "cellMetadata": {
      "byteLimit": 2048000,
      "rowLimit": 10000
     },
     "inputWidgets": {},
     "nuid": "a6e40b1d-d163-4477-ab7a-82f27c7e5a44",
     "showTitle": false,
     "tableResultSettingsMap": {},
     "title": ""
    }
   },
   "outputs": [],
   "source": [
    "purchase_data = pd.DataFrame([\n",
    "    (\"u1\", \"p1\", datetime.now() + timedelta(minutes=1)),   # Valid match\n",
    "    (\"u2\", \"p2\", datetime.now() + timedelta(minutes=6)),   # Valid match\n",
    "    (\"u3\", \"p3\", datetime.now() + timedelta(minutes=11))   # Too late\n",
    "], columns=[\"userId\", \"productId\", \"purchaseTime\"])\n",
    "\n",
    "purchase_df = spark.createDataFrame(purchase_data, purchases_schema)\n",
    "purchase_df.write.format(\"delta\").mode(\"overwrite\").saveAsTable(\"bijucatalog.bijusilverschema.purchase_stream_input\")\n",
    "\n"
   ]
  },
  {
   "cell_type": "code",
   "execution_count": 0,
   "metadata": {
    "application/vnd.databricks.v1+cell": {
     "cellMetadata": {
      "byteLimit": 2048000,
      "implicitDf": true,
      "rowLimit": 10000
     },
     "inputWidgets": {},
     "nuid": "9f3a5338-55e6-4e9c-9c23-17f9593b3e4c",
     "showTitle": false,
     "tableResultSettingsMap": {
      "0": {
       "dataGridStateBlob": "{\"version\":1,\"tableState\":{\"columnPinning\":{\"left\":[\"#row_number#\"],\"right\":[]},\"columnSizing\":{\"purchaseTime\":310},\"columnVisibility\":{}},\"settings\":{\"columns\":{}},\"syncTimestamp\":1752765347545}",
       "filterBlob": null,
       "queryPlanFiltersBlob": null,
       "tableResultIndex": 0
      }
     },
     "title": ""
    }
   },
   "outputs": [],
   "source": [
    "%sql\n",
    "select * from bijucatalog.bijusilverschema.purchase_stream_input"
   ]
  },
  {
   "cell_type": "code",
   "execution_count": 0,
   "metadata": {
    "application/vnd.databricks.v1+cell": {
     "cellMetadata": {
      "byteLimit": 2048000,
      "rowLimit": 10000
     },
     "inputWidgets": {},
     "nuid": "7d8b2bde-ab27-4c17-ae6b-aa07f6c40dc9",
     "showTitle": false,
     "tableResultSettingsMap": {},
     "title": ""
    }
   },
   "outputs": [],
   "source": [
    "# Read Streams from Delta Tables\n",
    "clicks_stream = spark.readStream.format(\"delta\").table(\"bijucatalog.bijusilverschema.click_stream_input\")\n",
    "purchases_stream = spark.readStream.format(\"delta\").table(\"bijucatalog.bijusilverschema.purchase_stream_input\")"
   ]
  },
  {
   "cell_type": "code",
   "execution_count": 0,
   "metadata": {
    "application/vnd.databricks.v1+cell": {
     "cellMetadata": {
      "byteLimit": 2048000,
      "rowLimit": 10000
     },
     "inputWidgets": {},
     "nuid": "b922a26a-744e-498d-9ec3-27e7b54160f2",
     "showTitle": false,
     "tableResultSettingsMap": {},
     "title": ""
    }
   },
   "outputs": [],
   "source": [
    "# Stream-Stream Join with Watermark\n",
    "clicks = clicks_stream.withWatermark(\"clickTime\", \"10 minutes\").alias(\"clicks\")\n",
    "purchases = purchases_stream.withWatermark(\"purchaseTime\", \"10 minutes\").alias(\"purchases\")\n",
    "\n",
    "joined_stream = clicks.join(\n",
    "    purchases,\n",
    "    expr(\"\"\"\n",
    "        clicks.userId = purchases.userId AND\n",
    "        clicks.productId = purchases.productId AND\n",
    "        purchases.purchaseTime BETWEEN clicks.clickTime AND clicks.clickTime + interval 10 minutes\n",
    "    \"\"\")\n",
    ")\n",
    "    \n"
   ]
  },
  {
   "cell_type": "code",
   "execution_count": 0,
   "metadata": {
    "application/vnd.databricks.v1+cell": {
     "cellMetadata": {
      "byteLimit": 2048000,
      "rowLimit": 10000
     },
     "inputWidgets": {},
     "nuid": "57114945-d300-4327-abfa-d05321b21710",
     "showTitle": false,
     "tableResultSettingsMap": {},
     "title": ""
    }
   },
   "outputs": [],
   "source": [
    "cleaned_stream = joined_stream.select(\n",
    "    col(\"clicks.userId\").alias(\"userId\"),\n",
    "    col(\"clicks.productId\").alias(\"productId\"),\n",
    "    col(\"clicks.clickTime\"),\n",
    "    col(\"purchases.purchaseTime\")\n",
    ")"
   ]
  },
  {
   "cell_type": "code",
   "execution_count": 0,
   "metadata": {
    "application/vnd.databricks.v1+cell": {
     "cellMetadata": {
      "byteLimit": 2048000,
      "rowLimit": 10000
     },
     "inputWidgets": {},
     "nuid": "d6ecb440-25c1-4e8e-b125-bcfebb26c815",
     "showTitle": false,
     "tableResultSettingsMap": {},
     "title": ""
    }
   },
   "outputs": [],
   "source": [
    "query = cleaned_stream.writeStream \\\n",
    "    .format(\"memory\") \\\n",
    "    .queryName(\"joined_view\") \\\n",
    "    .outputMode(\"append\") \\\n",
    "    #.trigger(availableNow=True) \n"
   ]
  },
  {
   "cell_type": "code",
   "execution_count": 0,
   "metadata": {
    "application/vnd.databricks.v1+cell": {
     "cellMetadata": {
      "byteLimit": 2048000,
      "rowLimit": 10000
     },
     "inputWidgets": {},
     "nuid": "a077ffa3-dab5-4931-9542-82dd811a2476",
     "showTitle": false,
     "tableResultSettingsMap": {},
     "title": ""
    }
   },
   "outputs": [],
   "source": [
    "cleaned_stream.printSchema()"
   ]
  },
  {
   "cell_type": "code",
   "execution_count": 0,
   "metadata": {
    "application/vnd.databricks.v1+cell": {
     "cellMetadata": {
      "byteLimit": 2048000,
      "rowLimit": 10000
     },
     "inputWidgets": {},
     "nuid": "a5c1a569-0817-4ced-acf5-f3b522d75731",
     "showTitle": false,
     "tableResultSettingsMap": {},
     "title": ""
    }
   },
   "outputs": [],
   "source": [
    "# Verify the columns in the joined_stream DataFrame\n",
    "\n",
    "# Write Output to Console or Table\n",
    "checkpoint = \"s3://databricksbijubucketnew/checkpoints/\"\n",
    "query = cleaned_stream.writeStream \\\n",
    "    .outputMode(\"append\") \\\n",
    "    .format(\"delta\") \\\n",
    "    .option(\"checkpointLocation\", f\"{checkpoint}/stream_join_test_v2\") \\\n",
    "    .option(\"skipChangeCommits\", \"true\") \\\n",
    "    .trigger(availableNow=True) \\\n",
    "    .toTable(\"bijucatalog.bijusilverschema.successful_conversions\")"
   ]
  },
  {
   "cell_type": "code",
   "execution_count": 0,
   "metadata": {
    "application/vnd.databricks.v1+cell": {
     "cellMetadata": {
      "byteLimit": 2048000,
      "implicitDf": true,
      "rowLimit": 10000
     },
     "inputWidgets": {},
     "nuid": "c340d4af-9210-4466-b0ed-322638e8d217",
     "showTitle": false,
     "tableResultSettingsMap": {},
     "title": ""
    }
   },
   "outputs": [],
   "source": [
    "%sql\n",
    "select * from bijucatalog.bijusilverschema.successful_conversions"
   ]
  },
  {
   "cell_type": "code",
   "execution_count": 0,
   "metadata": {
    "application/vnd.databricks.v1+cell": {
     "cellMetadata": {
      "byteLimit": 2048000,
      "implicitDf": true,
      "rowLimit": 10000
     },
     "inputWidgets": {},
     "nuid": "5388795f-0d10-43bd-b029-551d785d045a",
     "showTitle": false,
     "tableResultSettingsMap": {},
     "title": ""
    }
   },
   "outputs": [],
   "source": [
    "%sql\n",
    "drop table bijucatalog.bijusilverschema.successful_conversions"
   ]
  }
 ],
 "metadata": {
  "application/vnd.databricks.v1+notebook": {
   "computePreferences": null,
   "dashboards": [],
   "environmentMetadata": {
    "base_environment": "",
    "environment_version": "2"
   },
   "inputWidgetPreferences": null,
   "language": "python",
   "notebookMetadata": {
    "mostRecentlyExecutedCommandWithImplicitDF": {
     "commandId": -1,
     "dataframes": [
      "_sqldf"
     ]
    },
    "pythonIndentUnit": 4
   },
   "notebookName": "Stream-Stream Join (User Clicks and Purchases)",
   "widgets": {}
  },
  "language_info": {
   "name": "python"
  }
 },
 "nbformat": 4,
 "nbformat_minor": 0
}
