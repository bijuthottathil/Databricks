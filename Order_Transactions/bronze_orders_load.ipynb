{
 "cells": [
  {
   "cell_type": "code",
   "execution_count": 0,
   "metadata": {
    "application/vnd.databricks.v1+cell": {
     "cellMetadata": {
      "byteLimit": 2048000,
      "rowLimit": 10000
     },
     "inputWidgets": {},
     "nuid": "1254aa5a-7772-4364-916e-cca626e0a143",
     "showTitle": false,
     "tableResultSettingsMap": {},
     "title": ""
    }
   },
   "outputs": [],
   "source": [
    "from pyspark.sql.types import StructType, StructField, StringType, IntegerType\n",
    "from pyspark.sql.types import *\n",
    "\n",
    "# Define the schema\n",
    "schema = StructType([\n",
    "    StructField(\"order_id\", StringType(), True),\n",
    "    StructField(\"customer_id\", StringType(), True),\n",
    "    StructField(\"product_id\", StringType(), True),\n",
    "    StructField(\"quantity\", StringType(), True),\n",
    "    StructField(\"price\", StringType(), True),\n",
    "    StructField(\"order_timestamp\", TimestampType(), True),\n",
    "    StructField(\"status\", StringType(), True)\n",
    "])\n",
    "\n",
    "\n",
    "# Read JSON from external path with the defined schema\n",
    "df = spark.read.option(\"multiLine\", True).schema(schema).json(\"abfss://rawdata@adlsexternalfororders.dfs.core.windows.net/orders/\")\n",
    "\n",
    "# Save as a managed table (Unity Catalog or Hive Metastore)\n",
    "df.write.format(\"delta\").mode(\"overwrite\").saveAsTable(\"ordercatalog.rawdata_schema.allorders\")"
   ]
  },
  {
   "cell_type": "code",
   "execution_count": 0,
   "metadata": {
    "application/vnd.databricks.v1+cell": {
     "cellMetadata": {
      "byteLimit": 2048000,
      "implicitDf": true,
      "rowLimit": 10000
     },
     "inputWidgets": {},
     "nuid": "eeb08bc0-536e-42cf-a96b-2aadee817a7e",
     "showTitle": false,
     "tableResultSettingsMap": {},
     "title": ""
    }
   },
   "outputs": [],
   "source": [
    "%sql\n",
    "select count(*) from ordercatalog.rawdata_schema.allorders"
   ]
  },
  {
   "cell_type": "code",
   "execution_count": 0,
   "metadata": {
    "application/vnd.databricks.v1+cell": {
     "cellMetadata": {
      "byteLimit": 2048000,
      "implicitDf": true,
      "rowLimit": 10000
     },
     "inputWidgets": {},
     "nuid": "b2ecf8dc-f158-4a66-a476-bc7635dcf8e1",
     "showTitle": false,
     "tableResultSettingsMap": {},
     "title": ""
    }
   },
   "outputs": [],
   "source": [
    "%sql\n",
    "select * from ordercatalog.rawdata_schema.allorders"
   ]
  },
  {
   "cell_type": "code",
   "execution_count": 0,
   "metadata": {
    "application/vnd.databricks.v1+cell": {
     "cellMetadata": {
      "byteLimit": 2048000,
      "rowLimit": 10000
     },
     "inputWidgets": {},
     "nuid": "8add66d6-0ea5-42e3-8ee5-70a5eae9143f",
     "showTitle": false,
     "tableResultSettingsMap": {},
     "title": ""
    }
   },
   "outputs": [],
   "source": [
    "# Databricks Notebook: bronze_orders_load\n",
    "# Language: Python\n",
    "\n",
    "# COMMAND ----------\n",
    "# DBTITLE 1,Configuration\n",
    "raw_data_path = \"abfss://rawdata@adlsexternalfororders.dfs.core.windows.net/orders/\"\n",
    "bronze_table_name = \"ordercatalog.bronze_schema.bronze_orders_raw\"\n",
    "\n",
    "# COMMAND ----------\n",
    "# DBTITLE 1,Read Raw Data\n",
    "# Read all JSON files from the raw data path\n",
    "# For production, consider using Auto Loader for incremental ingestion:\n",
    "# df = spark.readStream.format(\"cloudFiles\") \\\n",
    "#   .option(\"cloudFiles.format\", \"json\") \\\n",
    "#   .option(\"cloudFiles.schemaLocation\", f\"{raw_data_path}_schemas/orders_bronze\") \\\n",
    "#   .load(raw_data_path)\n",
    "\n",
    "# For this example, we'll use a batch read\n",
    "df_raw = spark.read.option(\"multiLine\", True).schema(schema).json(raw_data_path)\n",
    "# COMMAND ----------\n",
    "# DBTITLE 1,Add Ingestion Metadata\n",
    "from pyspark.sql.functions import current_timestamp, input_file_name\n",
    "\n",
    "df_bronze = df_raw.withColumn(\"ingestion_timestamp\", current_timestamp()) \\\n",
    "                  .withColumn(\"source_file\", input_file_name())\n",
    "\n",
    "# COMMAND ----------\n",
    "# DBTITLE 1,Read Raw Data (using Auto Loader for production)\n",
    "from pyspark.sql.functions import current_timestamp, input_file_name\n",
    "\n",
    "# For production, use Auto Loader for incremental ingestion and resilience\n",
    "# Note: For strict record-level deduplication directly in bronze,\n",
    "# Auto Loader typically needs to be combined with MERGE INTO.\n",
    "# For this example, we'll simulate a batch load that you'd then merge.\n",
    "\n",
    "# Read all new JSON files from the raw data path that haven't been processed yet\n",
    "# If this is a batch run, you'd read the new files that landed since last run.\n",
    "# For simplicity in this example, we'll re-read all in the folder, but in a real scenario\n",
    "# Auto Loader's file tracking (via checkpointLocation) would handle this.\n",
    "df_raw_incoming = spark.read.format(\"json\").load(raw_data_path)\n",
    "\n",
    "# Add ingestion metadata\n",
    "df_bronze_stg = df_raw_incoming.withColumn(\"ingestion_timestamp\", current_timestamp()) \\\n",
    "                              .withColumn(\"source_file\", input_file_name())\n",
    "\n",
    "# Optional: Deduplicate the incoming batch itself before merging,\n",
    "# in case a single batch file contains duplicates for the merge key.\n",
    "# We'll keep the one with the latest timestamp from the source.\n",
    "from pyspark.sql.functions import col\n",
    "df_bronze_stg = df_bronze_stg.orderBy(col(\"order_id\"), col(\"order_timestamp\").desc_nulls_last()) \\\n",
    "                             .dropDuplicates([\"order_id\"])\n",
    "\n",
    "\n",
    "# COMMAND ----------\n",
    "# DBTITLE 1,Implement Idempotent Load using MERGE INTO\n",
    "from delta.tables import DeltaTable\n",
    "\n",
    "# Define the unique key for your bronze table\n",
    "# For raw orders, 'order_id' is a common choice for logical uniqueness.\n",
    "# If order_id can have multiple valid versions in source, you might need a composite key\n",
    "# or decide how to handle updates vs. new inserts (see WHEN MATCHED below).\n",
    "merge_key1 = \"order_id\"\n",
    "merge_key2=\"price\"\n",
    "\n",
    "# Check if bronze table exists\n",
    "if not spark.catalog.tableExists(bronze_table_name):\n",
    "    # If not, create it by writing the processed data\n",
    "    df_bronze_stg.write \\\n",
    "        .format(\"delta\") \\\n",
    "        .mode(\"overwrite\") \\\n",
    "        .option(\"overwriteSchema\", \"true\") \\\n",
    "        .saveAsTable(bronze_table_name)\n",
    "    print(f\"Created bronze table: {database_name}.{bronze_table_name}\")\n",
    "else:\n",
    "    # If table exists, perform a MERGE operation\n",
    "    deltaTable = DeltaTable.forName(spark, f\"{bronze_table_name}\")\n",
    "\n",
    "    print(f\"Performing MERGE INTO on bronze table: {bronze_table_name}\")\n",
    "\n",
    "    # Merge logic:\n",
    "    # WHEN MATCHED: DO NOTHING. This means if an 'order_id' from the incoming data\n",
    "    #               already exists in the bronze table, we do not update it.\n",
    "    #               This ensures the bronze layer always keeps the FIRST instance of that order_id.\n",
    "    #               If you want to allow updates to bronze (e.g., if a new record with same order_id\n",
    "    #               represents an update from source and you want the latest version in bronze),\n",
    "    #               you would use `WHEN MATCHED THEN UPDATE SET *`. However, this is less common\n",
    "    #               for a pure \"raw immutable\" bronze layer.\n",
    "    # WHEN NOT MATCHED: INSERT ALL. Insert records where the 'order_id' does not exist in bronze.\n",
    "\n",
    "    deltaTable.alias(\"target\") \\\n",
    "        .merge(\n",
    "            df_bronze_stg.alias(\"source\"),\n",
    "            f\"target.{merge_key1} = source.{merge_key1} \"\n",
    "        ) \\\n",
    "        .whenNotMatchedInsertAll() \\\n",
    "        .execute()\n",
    "    print(f\"MERGE INTO operation complete for {bronze_table_name}.\")\n",
    "\n",
    "# COMMAND ----------\n",
    "# DBTITLE 1,Verify Bronze Table\n",
    "# spark.sql(f\"SELECT * FROM {bronze_table_name} LIMIT 10\").display()\n",
    "# spark.sql(f\"SELECT COUNT(*) FROM {bronze_table_name}\").display()\n",
    "# spark.sql(f\"SELECT COUNT(DISTINCT order_id) FROM {bronze_table_name}\").display() # Should be equal to total count if successful"
   ]
  },
  {
   "cell_type": "code",
   "execution_count": 0,
   "metadata": {
    "application/vnd.databricks.v1+cell": {
     "cellMetadata": {
      "byteLimit": 2048000,
      "implicitDf": true,
      "rowLimit": 10000
     },
     "inputWidgets": {},
     "nuid": "e1ca05ea-1663-495f-9f3d-209ac3e1c718",
     "showTitle": false,
     "tableResultSettingsMap": {},
     "title": ""
    }
   },
   "outputs": [],
   "source": [
    "%sql\n",
    "select * from ordercatalog.bronze_schema.bronze_orders_raw"
   ]
  },
  {
   "cell_type": "code",
   "execution_count": 0,
   "metadata": {
    "application/vnd.databricks.v1+cell": {
     "cellMetadata": {
      "byteLimit": 2048000,
      "implicitDf": true,
      "rowLimit": 10000
     },
     "inputWidgets": {},
     "nuid": "a6215d24-eca6-4b1b-a86b-7da011f3d906",
     "showTitle": false,
     "tableResultSettingsMap": {},
     "title": ""
    }
   },
   "outputs": [],
   "source": [
    "%sql\n",
    "SELECT order_id, COUNT(order_id) AS order_count\n",
    "FROM ordercatalog.bronze_schema.bronze_orders_raw\n",
    "GROUP BY order_id\n",
    "HAVING COUNT(order_id) > 1;"
   ]
  },
  {
   "cell_type": "code",
   "execution_count": 0,
   "metadata": {
    "application/vnd.databricks.v1+cell": {
     "cellMetadata": {
      "byteLimit": 2048000,
      "implicitDf": true,
      "rowLimit": 10000
     },
     "inputWidgets": {},
     "nuid": "c15c898f-73c3-447d-8986-ea0b24087e0a",
     "showTitle": false,
     "tableResultSettingsMap": {},
     "title": ""
    }
   },
   "outputs": [],
   "source": [
    "%sql\n",
    "select * from ordercatalog.bronze_schema.bronze_orders_raw where order_id='ORD-77697'"
   ]
  },
  {
   "cell_type": "code",
   "execution_count": 0,
   "metadata": {
    "application/vnd.databricks.v1+cell": {
     "cellMetadata": {
      "byteLimit": 2048000,
      "implicitDf": true,
      "rowLimit": 10000
     },
     "inputWidgets": {},
     "nuid": "0fd9b381-9c93-41a0-be8f-f220085e0b70",
     "showTitle": false,
     "tableResultSettingsMap": {},
     "title": ""
    }
   },
   "outputs": [],
   "source": [
    "%sql\n",
    "delete from  ordercatalog.bronze_schema.bronze_orders_raw where order_id='ORD-77697' and price=155.81\n",
    "    \n",
    "\n"
   ]
  },
  {
   "cell_type": "code",
   "execution_count": 0,
   "metadata": {
    "application/vnd.databricks.v1+cell": {
     "cellMetadata": {
      "byteLimit": 2048000,
      "rowLimit": 10000
     },
     "inputWidgets": {},
     "nuid": "506a68f1-4571-4359-8c9c-2ee81417933e",
     "showTitle": false,
     "tableResultSettingsMap": {},
     "title": ""
    }
   },
   "outputs": [],
   "source": [
    "spark.sql(\"DELETE FROM ordercatalog.bronze_schema.bronze_orders_raw\")"
   ]
  },
  {
   "cell_type": "code",
   "execution_count": 0,
   "metadata": {
    "application/vnd.databricks.v1+cell": {
     "cellMetadata": {
      "byteLimit": 2048000,
      "implicitDf": true,
      "rowLimit": 10000
     },
     "inputWidgets": {},
     "nuid": "96465056-3618-4ac5-a084-2dd95c726fa2",
     "showTitle": false,
     "tableResultSettingsMap": {},
     "title": ""
    }
   },
   "outputs": [],
   "source": [
    "%sql\n",
    "select count(*),order_id  from ordercatalog.bronze_schema.bronze_orders_raw group by order_id having count(order_id) > 1"
   ]
  }
 ],
 "metadata": {
  "application/vnd.databricks.v1+notebook": {
   "computePreferences": null,
   "dashboards": [],
   "environmentMetadata": {
    "base_environment": "",
    "environment_version": "2"
   },
   "inputWidgetPreferences": null,
   "language": "python",
   "notebookMetadata": {
    "mostRecentlyExecutedCommandWithImplicitDF": {
     "commandId": 7388551308305579,
     "dataframes": [
      "_sqldf"
     ]
    },
    "pythonIndentUnit": 4
   },
   "notebookName": "bronze_orders_load",
   "widgets": {}
  },
  "language_info": {
   "name": "python"
  }
 },
 "nbformat": 4,
 "nbformat_minor": 0
}
