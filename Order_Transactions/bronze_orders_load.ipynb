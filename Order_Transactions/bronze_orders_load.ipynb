{
 "cells": [
  {
   "cell_type": "code",
   "execution_count": 0,
   "metadata": {
    "application/vnd.databricks.v1+cell": {
     "cellMetadata": {
      "byteLimit": 2048000,
      "rowLimit": 10000
     },
     "inputWidgets": {},
     "nuid": "1254aa5a-7772-4364-916e-cca626e0a143",
     "showTitle": false,
     "tableResultSettingsMap": {},
     "title": ""
    }
   },
   "outputs": [],
   "source": [
    "from pyspark.sql.types import StructType, StructField, StringType, IntegerType\n",
    "from pyspark.sql.types import *\n",
    "\n",
    "# Define the schema\n",
    "schema = StructType([\n",
    "    StructField(\"order_id\", StringType(), True),\n",
    "    StructField(\"customer_id\", StringType(), True),\n",
    "    StructField(\"product_id\", StringType(), True),\n",
    "    StructField(\"quantity\", StringType(), True),\n",
    "    StructField(\"price\", StringType(), True),\n",
    "    StructField(\"order_timestamp\", TimestampType(), True),\n",
    "    StructField(\"status\", StringType(), True)\n",
    "])\n",
    "\n",
    "\n",
    "# Read JSON from external path with the defined schema\n",
    "df = spark.read.option(\"multiLine\", True).schema(schema).json(\"abfss://rawdata@adlsexternalfororders.dfs.core.windows.net/orders/\")\n",
    "\n",
    "# Save as a managed table (Unity Catalog or Hive Metastore)\n",
    "df.write.format(\"delta\").mode(\"overwrite\").saveAsTable(\"ordercatalog.rawdata_schema.allorders\")"
   ]
  },
  {
   "cell_type": "code",
   "execution_count": 0,
   "metadata": {
    "application/vnd.databricks.v1+cell": {
     "cellMetadata": {
      "byteLimit": 2048000,
      "implicitDf": true,
      "rowLimit": 10000
     },
     "inputWidgets": {},
     "nuid": "eeb08bc0-536e-42cf-a96b-2aadee817a7e",
     "showTitle": false,
     "tableResultSettingsMap": {},
     "title": ""
    }
   },
   "outputs": [],
   "source": [
    "%sql\n",
    "select count(*) from ordercatalog.rawdata_schema.allorders"
   ]
  },
  {
   "cell_type": "code",
   "execution_count": 0,
   "metadata": {
    "application/vnd.databricks.v1+cell": {
     "cellMetadata": {
      "byteLimit": 2048000,
      "implicitDf": true,
      "rowLimit": 10000
     },
     "inputWidgets": {},
     "nuid": "b2ecf8dc-f158-4a66-a476-bc7635dcf8e1",
     "showTitle": false,
     "tableResultSettingsMap": {},
     "title": ""
    }
   },
   "outputs": [],
   "source": [
    "%sql\n",
    "select * from ordercatalog.rawdata_schema.allorders"
   ]
  },
  {
   "cell_type": "code",
   "execution_count": 0,
   "metadata": {
    "application/vnd.databricks.v1+cell": {
     "cellMetadata": {
      "byteLimit": 2048000,
      "rowLimit": 10000
     },
     "inputWidgets": {},
     "nuid": "8add66d6-0ea5-42e3-8ee5-70a5eae9143f",
     "showTitle": false,
     "tableResultSettingsMap": {},
     "title": ""
    }
   },
   "outputs": [],
   "source": [
    "# Databricks Notebook: bronze_orders_load\n",
    "# Language: Python\n",
    "\n",
    "# COMMAND ----------\n",
    "# DBTITLE 1,Configuration\n",
    "raw_data_path = \"abfss://rawdata@adlsexternalfororders.dfs.core.windows.net/orders/\"\n",
    "bronze_table_name = \"ordercatalog.rawdata_schema.bronze_orders_raw\"\n",
    "database_name = \"data_mart\" # Or your Unity Catalog schema/database\n",
    "\n",
    "spark.sql(f\"CREATE DATABASE IF NOT EXISTS {database_name}\")\n",
    "spark.catalog.setCurrentDatabase(database_name)\n",
    "\n",
    "# COMMAND ----------\n",
    "# DBTITLE 1,Read Raw Data\n",
    "# Read all JSON files from the raw data path\n",
    "# For production, consider using Auto Loader for incremental ingestion:\n",
    "# df = spark.readStream.format(\"cloudFiles\") \\\n",
    "#   .option(\"cloudFiles.format\", \"json\") \\\n",
    "#   .option(\"cloudFiles.schemaLocation\", f\"{raw_data_path}_schemas/orders_bronze\") \\\n",
    "#   .load(raw_data_path)\n",
    "\n",
    "# For this example, we'll use a batch read\n",
    "df_raw = spark.read.option(\"multiLine\", True).schema(schema).json(raw_data_path)\n",
    "# COMMAND ----------\n",
    "# DBTITLE 1,Add Ingestion Metadata\n",
    "from pyspark.sql.functions import current_timestamp, input_file_name\n",
    "\n",
    "df_bronze = df_raw.withColumn(\"ingestion_timestamp\", current_timestamp()) \\\n",
    "                  .withColumn(\"source_file\", input_file_name())\n",
    "\n",
    "# COMMAND ----------\n",
    "# DBTITLE 1,Write to Bronze Delta Table\n",
    "# Bronze layer typically appends new data\n",
    "df_bronze.write \\\n",
    "  .format(\"delta\") \\\n",
    "  .mode(\"append\") \\\n",
    "  .option(\"mergeSchema\", \"true\") \\\n",
    "  .saveAsTable(bronze_table_name)\n",
    "\n",
    "print(f\"Successfully loaded raw data into bronze table: {database_name}.{bronze_table_name}\")\n",
    "\n",
    "# COMMAND ----------\n",
    "# DBTITLE 1,Verify Bronze Table\n",
    "# spark.sql(f\"SELECT * FROM {bronze_table_name} LIMIT 10\").display()\n",
    "# spark.sql(f\"SELECT COUNT(*) FROM {bronze_table_name}\").display()"
   ]
  },
  {
   "cell_type": "code",
   "execution_count": 0,
   "metadata": {
    "application/vnd.databricks.v1+cell": {
     "cellMetadata": {
      "byteLimit": 2048000,
      "implicitDf": true,
      "rowLimit": 10000
     },
     "inputWidgets": {},
     "nuid": "e1ca05ea-1663-495f-9f3d-209ac3e1c718",
     "showTitle": false,
     "tableResultSettingsMap": {},
     "title": ""
    }
   },
   "outputs": [],
   "source": [
    "%sql\n",
    "select * from ordercatalog.rawdata_schema.bronze_orders_raw"
   ]
  }
 ],
 "metadata": {
  "application/vnd.databricks.v1+notebook": {
   "computePreferences": null,
   "dashboards": [],
   "environmentMetadata": {
    "base_environment": "",
    "environment_version": "2"
   },
   "inputWidgetPreferences": null,
   "language": "python",
   "notebookMetadata": {
    "mostRecentlyExecutedCommandWithImplicitDF": {
     "commandId": 7388551308305541,
     "dataframes": [
      "_sqldf"
     ]
    },
    "pythonIndentUnit": 4
   },
   "notebookName": "bronze_orders_load",
   "widgets": {}
  },
  "language_info": {
   "name": "python"
  }
 },
 "nbformat": 4,
 "nbformat_minor": 0
}
