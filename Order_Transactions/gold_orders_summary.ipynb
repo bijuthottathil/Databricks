{
 "cells": [
  {
   "cell_type": "code",
   "execution_count": 0,
   "metadata": {
    "application/vnd.databricks.v1+cell": {
     "cellMetadata": {
      "byteLimit": 2048000,
      "rowLimit": 10000
     },
     "inputWidgets": {},
     "nuid": "d465b529-523f-4857-b18c-311b2212fe40",
     "showTitle": false,
     "tableResultSettingsMap": {},
     "title": ""
    }
   },
   "outputs": [],
   "source": [
    "%python\n",
    "# Databricks Notebook: gold_orders_summary\n",
    "# Language: Python\n",
    "\n",
    "# COMMAND ----------\n",
    "# DBTITLE 1,Configuration\n",
    "silver_table_name = \"ordercatalog.silver_schema.silver_orders_processed\"\n",
    "gold_table_name = \"ordercatalog.gold_schema.gold_orders_daily_summary\"\n",
    "\n",
    "\n",
    "# COMMAND ----------\n",
    "# DBTITLE 1,Read from Silver Layer\n",
    "df_silver = spark.read.table(silver_table_name)\n",
    "\n",
    "# COMMAND ----------\n",
    "# DBTITLE 1,Perform Aggregations\n",
    "from pyspark.sql.functions import sum, count, avg, date_trunc, col\n",
    "\n",
    "# Aggregate by order date and status\n",
    "df_gold = df_silver.groupBy(\n",
    "    date_trunc(\"day\", col(\"order_timestamp\")).alias(\"order_date\"),\n",
    "    col(\"order_status\")\n",
    ").agg(\n",
    "    count(col(\"order_id\")).alias(\"total_orders\"),\n",
    "    sum(col(\"quantity\")).alias(\"total_quantity\"),\n",
    "    sum(col(\"quantity\") * col(\"price\")).alias(\"total_revenue\"),\n",
    "    avg(col(\"price\")).alias(\"average_price_per_item\")\n",
    ").orderBy(\"order_date\", \"order_status\")\n",
    "\n",
    "# COMMAND ----------\n",
    "# DBTITLE 1,Write to Gold Delta Table\n",
    "# Gold layer tables are often overwritten daily/periodically or appended for time-series data.\n",
    "# For daily summaries, overwrite is common for idempotency.\n",
    "df_gold.write \\\n",
    "  .format(\"delta\") \\\n",
    "  .mode(\"overwrite\") \\\n",
    "  .option(\"overwriteSchema\", \"true\").partitionBy(\"order_date\").saveAsTable(gold_table_name)\n",
    "\n",
    "print(f\"Successfully aggregated and loaded data into gold table: .{gold_table_name}\")\n",
    "\n",
    "# COMMAND ----------\n",
    "# DBTITLE 1,Verify Gold Table\n",
    "# spark.sql(f\"SELECT * FROM {gold_table_name} ORDER BY order_date DESC, order_status LIMIT 10\").display()\n",
    "# spark.sql(f\"SELECT COUNT(*) FROM {gold_table_name}\").display()"
   ]
  },
  {
   "cell_type": "code",
   "execution_count": 0,
   "metadata": {
    "application/vnd.databricks.v1+cell": {
     "cellMetadata": {
      "byteLimit": 2048000,
      "rowLimit": 10000
     },
     "inputWidgets": {},
     "nuid": "f7cab700-18df-4d4e-abdc-8a88b1abc08f",
     "showTitle": false,
     "tableResultSettingsMap": {},
     "title": ""
    }
   },
   "outputs": [],
   "source": [
    "select * from ordercatalog.gold_schema.gold_orders_daily_summary"
   ]
  }
 ],
 "metadata": {
  "application/vnd.databricks.v1+notebook": {
   "computePreferences": null,
   "dashboards": [],
   "environmentMetadata": {
    "base_environment": "",
    "environment_version": "2"
   },
   "inputWidgetPreferences": null,
   "language": "sql",
   "notebookMetadata": {
    "pythonIndentUnit": 4
   },
   "notebookName": "gold_orders_summary",
   "widgets": {}
  },
  "language_info": {
   "name": "sql"
  }
 },
 "nbformat": 4,
 "nbformat_minor": 0
}
