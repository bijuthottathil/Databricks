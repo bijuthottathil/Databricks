{
 "cells": [
  {
   "cell_type": "markdown",
   "metadata": {
    "application/vnd.databricks.v1+cell": {
     "cellMetadata": {},
     "inputWidgets": {},
     "nuid": "1f80f604-ef29-4414-bd95-417622895cfe",
     "showTitle": false,
     "tableResultSettingsMap": {},
     "title": ""
    }
   },
   "source": [
    "### This code snippet will generate Order specific json file in the rawpath I mendioned in the code\n"
   ]
  },
  {
   "cell_type": "code",
   "execution_count": 0,
   "metadata": {
    "application/vnd.databricks.v1+cell": {
     "cellMetadata": {
      "byteLimit": 2048000,
      "rowLimit": 10000
     },
     "inputWidgets": {},
     "nuid": "232366c7-d39f-478a-a1a5-857e14f1c394",
     "showTitle": false,
     "tableResultSettingsMap": {},
     "title": ""
    }
   },
   "outputs": [],
   "source": [
    "%python\n",
    "import random\n",
    "from datetime import datetime\n",
    "from pyspark.sql.types import StructType, StructField, StringType, IntegerType, FloatType, TimestampType\n",
    "\n",
    "# Define the schema for the DataFrame\n",
    "raw_order_schema = StructType([\n",
    "    StructField(\"order_id\", StringType(), True),\n",
    "    StructField(\"customer_id\", StringType(), True),\n",
    "    StructField(\"product_id\", StringType(), True),\n",
    "    StructField(\"quantity\", IntegerType(), True),\n",
    "    StructField(\"price\", FloatType(), True),\n",
    "    StructField(\"order_timestamp\", TimestampType(), True),\n",
    "    StructField(\"status\", StringType(), True)\n",
    "])\n",
    "\n",
    "# Function to generate a single order\n",
    "def generate_order(order_id_prefix=\"ORD\"):\n",
    "    order_id = f\"{order_id_prefix}-{random.randint(10000, 99999)}\"\n",
    "    customer_id = f\"CUST-{random.randint(3000, 7000)}\"\n",
    "    product_id = f\"PROD-{random.randint(450, 650)}\"\n",
    "    quantity = random.randint(1, 10)\n",
    "    price = float(f\"{random.uniform(5, 500):.2f}\")\n",
    "    order_timestamp = datetime.now()\n",
    "    status = random.choice([\"PENDING\", \"COMPLETED\", \"CANCELLED\", \"SHIPPED\"])\n",
    "    return (order_id, customer_id, product_id, quantity, price, order_timestamp, status)\n",
    "\n",
    "# Generate a batch of orders\n",
    "num_orders = 50\n",
    "orders_data = [generate_order() for _ in range(num_orders)]\n",
    "\n",
    "# Create DataFrame\n",
    "raw_orders_df = spark.createDataFrame(orders_data, schema=raw_order_schema)\n",
    "\n",
    "# Define a path to save raw data (e.g., DBFS)\n",
    "#raw_data_path = \"dbfs:/FileStore/\"\n",
    "raw_data_path = \"abfss://rawdata@adlsexternalfororders.dfs.core.windows.net/orders/\"\n",
    "\n",
    "# Overwrite for initial load, append for subsequent runs\n",
    "raw_orders_df.write.format(\"json\").mode(\"overwrite\").save(raw_data_path)\n",
    "\n",
    "print(f\"Generated {num_orders} raw orders to: {raw_data_path}batch_1.json\")\n",
    "\n",
    "# Simulate a second batch with some updates and new orders\n",
    "num_orders_batch2 = 50\n",
    "orders_data_batch2 = [generate_order() for _ in range(num_orders_batch2 - 10)] # 40 new orders\n",
    "# Add 10 updates to existing orders (batch_1)\n",
    "existing_order_ids = raw_orders_df.select(\"order_id\").distinct().limit(10).rdd.map(lambda r: r[0]).collect()\n",
    "for oid in existing_order_ids:\n",
    "    # Generate an updated order, changing status or quantity/price\n",
    "    order_id = oid\n",
    "    customer_id = f\"CUST-{random.randint(4000, 7000)}\" # Can be same or different, depends on your key\n",
    "    product_id = f\"PROD-{random.randint(550, 650)}\"\n",
    "    quantity = random.randint(1, 10)\n",
    "    price = float(f\"{random.uniform(5, 500):.2f}\")\n",
    "    order_timestamp = datetime.now()\n",
    "    status = random.choice([\"COMPLETED\", \"SHIPPED\"]) # Update to a completed status\n",
    "    orders_data_batch2.append((order_id, customer_id, product_id, quantity, price, order_timestamp, status))\n",
    "\n",
    "raw_orders_df_batch2 = spark.createDataFrame(orders_data_batch2, schema=raw_order_schema)\n",
    "raw_orders_df_batch2.write.format(\"json\").mode(\"overwrite\").save(raw_data_path)\n",
    "print(f\"Generated {num_orders_batch2} raw orders (including updates) to: {raw_data_path}batch_2.json\")"
   ]
  }
 ],
 "metadata": {
  "application/vnd.databricks.v1+notebook": {
   "computePreferences": null,
   "dashboards": [],
   "environmentMetadata": {
    "base_environment": "",
    "environment_version": "2"
   },
   "inputWidgetPreferences": null,
   "language": "sql",
   "notebookMetadata": {
    "mostRecentlyExecutedCommandWithImplicitDF": {
     "commandId": -1,
     "dataframes": [
      "_sqldf"
     ]
    },
    "pythonIndentUnit": 4
   },
   "notebookName": "2. Code to generate Order data in Raw folder in Json Format",
   "widgets": {}
  },
  "language_info": {
   "name": "sql"
  }
 },
 "nbformat": 4,
 "nbformat_minor": 0
}
