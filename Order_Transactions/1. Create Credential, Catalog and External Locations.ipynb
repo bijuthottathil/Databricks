{
 "cells": [
  {
   "cell_type": "markdown",
   "metadata": {
    "application/vnd.databricks.v1+cell": {
     "cellMetadata": {},
     "inputWidgets": {},
     "nuid": "ffa8ac42-242c-4681-8661-0638aaf54aab",
     "showTitle": false,
     "tableResultSettingsMap": {},
     "title": ""
    }
   },
   "source": [
    "### #  Creating Extenral locations , Catalog and Schemas"
   ]
  },
  {
   "cell_type": "code",
   "execution_count": 0,
   "metadata": {
    "application/vnd.databricks.v1+cell": {
     "cellMetadata": {},
     "inputWidgets": {},
     "nuid": "f0792884-75c1-4495-8367-3e20759c9d52",
     "showTitle": false,
     "tableResultSettingsMap": {},
     "title": ""
    }
   },
   "outputs": [],
   "source": [
    "CREATE EXTERNAL LOCATION IF NOT EXISTS databricksextdl_bronze\n",
    "URL 'abfss://bronze@adlsexternalfororders.dfs.core.windows.net/'\n",
    "WITH (STORAGE CREDENTIAL `azure_cred_devandtest`)"
   ]
  },
  {
   "cell_type": "code",
   "execution_count": 0,
   "metadata": {
    "application/vnd.databricks.v1+cell": {
     "cellMetadata": {},
     "inputWidgets": {},
     "nuid": "7de5ddd6-635b-4708-ad7c-9f29b578a53c",
     "showTitle": false,
     "tableResultSettingsMap": {},
     "title": ""
    }
   },
   "outputs": [],
   "source": [
    "CREATE EXTERNAL LOCATION IF NOT EXISTS databricksextdl_silver\n",
    "URL 'abfss://silver@adlsexternalfororders.dfs.core.windows.net/'\n",
    "WITH (STORAGE CREDENTIAL `azure_cred_devandtest`)\n",
    "     "
   ]
  },
  {
   "cell_type": "code",
   "execution_count": 0,
   "metadata": {
    "application/vnd.databricks.v1+cell": {
     "cellMetadata": {},
     "inputWidgets": {},
     "nuid": "c2512eac-2c7b-4d97-99d6-263cb9c95c14",
     "showTitle": false,
     "tableResultSettingsMap": {},
     "title": ""
    }
   },
   "outputs": [],
   "source": [
    "\n",
    "CREATE EXTERNAL LOCATION  IF NOT EXISTS databricksextdl_gold\n",
    "URL 'abfss://gold@adlsexternalfororders.dfs.core.windows.net/'\n",
    "WITH (STORAGE CREDENTIAL `azure_cred_devandtest`)\n"
   ]
  },
  {
   "cell_type": "code",
   "execution_count": 0,
   "metadata": {
    "application/vnd.databricks.v1+cell": {
     "cellMetadata": {},
     "inputWidgets": {},
     "nuid": "1b21b30a-417b-49b4-9b41-05ef96198a29",
     "showTitle": false,
     "tableResultSettingsMap": {},
     "title": ""
    }
   },
   "outputs": [],
   "source": [
    "\n",
    "CREATE EXTERNAL LOCATION  IF NOT EXISTS databricksextdl_ordercatalog\n",
    "URL 'abfss://ordercatalog@adlsexternalfororders.dfs.core.windows.net/'\n",
    "WITH (STORAGE CREDENTIAL `azure_cred_devandtest`)"
   ]
  },
  {
   "cell_type": "code",
   "execution_count": 0,
   "metadata": {
    "application/vnd.databricks.v1+cell": {
     "cellMetadata": {},
     "inputWidgets": {},
     "nuid": "fac2d59d-810c-48c9-a320-b1b35b4d3f2f",
     "showTitle": false,
     "tableResultSettingsMap": {},
     "title": ""
    }
   },
   "outputs": [],
   "source": [
    "CREATE EXTERNAL LOCATION IF NOT EXISTS databricksextdl_rawdata\n",
    "URL 'abfss://rawdata@adlsexternalfororders.dfs.core.windows.net/'\n",
    "WITH (STORAGE CREDENTIAL `azure_cred_devandtest`)"
   ]
  },
  {
   "cell_type": "code",
   "execution_count": 0,
   "metadata": {
    "application/vnd.databricks.v1+cell": {
     "cellMetadata": {},
     "inputWidgets": {},
     "nuid": "11cc9d32-6d1c-4712-b995-f428071ca0a0",
     "showTitle": false,
     "tableResultSettingsMap": {},
     "title": ""
    }
   },
   "outputs": [],
   "source": [
    "CREATE CATALOG IF NOT EXISTS ordercatalog MANAGED LOCATION 'abfss://ordercatalog@adlsexternalfororders.dfs.core.windows.net/';"
   ]
  },
  {
   "cell_type": "code",
   "execution_count": 0,
   "metadata": {
    "application/vnd.databricks.v1+cell": {
     "cellMetadata": {},
     "inputWidgets": {},
     "nuid": "69364296-a420-41aa-b84d-77ce9a248690",
     "showTitle": false,
     "tableResultSettingsMap": {},
     "title": ""
    }
   },
   "outputs": [],
   "source": [
    "%sql\n",
    "\n",
    "-- Use the newly created catalog for subsequent commands\n",
    "USE CATALOG ordercatalog ;\n",
    "\n",
    "-- COMMAND ----------\n",
    "-- DBTITLE 1,Step 2: Create Schemas (Databases) with Managed Locations\n",
    "-- Each schema will store its managed tables in the specified ADLS Gen2 path.\n",
    "-- Unity Catalog will manage the lifecycle of data stored in these locations.\n",
    "\n",
    "-- Rawdata Schema: For raw, untransformed data\n",
    "CREATE SCHEMA IF NOT EXISTS rawdata_schema\n",
    "MANAGED LOCATION 'abfss://rawdata@adlsexternalfororders.dfs.core.windows.net/';\n",
    "\n",
    "-- Bronze Schema: For raw data ingested, validated, and perhaps enriched with metadata\n",
    "CREATE SCHEMA IF NOT EXISTS bronze_schema\n",
    "MANAGED LOCATION 'abfss://bronze@adlsexternalfororders.dfs.core.windows.net/';\n",
    "\n",
    "-- Silver Schema: For cleaned, transformed, and potentially de-duplicated data\n",
    "CREATE SCHEMA IF NOT EXISTS silver_schema\n",
    "MANAGED LOCATION 'abfss://silver@adlsexternalfororders.dfs.core.windows.net/';\n",
    "\n",
    "-- Gold Schema: For aggregated, highly curated, and ready-for-consumption data\n",
    "CREATE SCHEMA IF NOT EXISTS gold_schema\n",
    "--LOCATION 'orders_catalog/gold_schema';\n",
    "MANAGED LOCATION 'abfss://gold@adlsexternalfororders.dfs.core.windows.net/';\n",
    "\n",
    "-- COMMAND ----------\n",
    "-- DBTITLE 1,Step 3: Verify the Catalog and Schemas\n",
    "-- Check that the catalog and schemas have been created\n",
    "SHOW CATALOGS;\n",
    "SHOW SCHEMAS IN ordercatalog;\n",
    "\n",
    "-- You can also describe a schema to see its properties, including the managed location"
   ]
  }
 ],
 "metadata": {
  "application/vnd.databricks.v1+notebook": {
   "computePreferences": null,
   "dashboards": [],
   "environmentMetadata": {
    "base_environment": "",
    "environment_version": "2"
   },
   "inputWidgetPreferences": null,
   "language": "sql",
   "notebookMetadata": {
    "pythonIndentUnit": 4
   },
   "notebookName": "1. Create Credential, Catalog and External Locations",
   "widgets": {}
  },
  "language_info": {
   "name": "sql"
  }
 },
 "nbformat": 4,
 "nbformat_minor": 0
}
