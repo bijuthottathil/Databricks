{
 "cells": [
  {
   "cell_type": "code",
   "execution_count": 0,
   "metadata": {
    "application/vnd.databricks.v1+cell": {
     "cellMetadata": {
      "byteLimit": 2048000,
      "implicitDf": true,
      "rowLimit": 10000
     },
     "inputWidgets": {},
     "nuid": "bb61c621-5a3f-4b51-be97-bf6a30ee8264",
     "showTitle": false,
     "tableResultSettingsMap": {},
     "title": ""
    }
   },
   "outputs": [],
   "source": [
    "%sql\n",
    "CREATE EXTERNAL LOCATION IF NOT EXISTS databricksextdl_bronze\n",
    "URL 'abfss://bronze@adlsexternalfororders.dfs.core.windows.net/'\n",
    "WITH (STORAGE CREDENTIAL `azure_cred_devandtest`)"
   ]
  },
  {
   "cell_type": "code",
   "execution_count": 0,
   "metadata": {
    "application/vnd.databricks.v1+cell": {
     "cellMetadata": {
      "byteLimit": 2048000,
      "rowLimit": 10000
     },
     "inputWidgets": {},
     "nuid": "318b8e32-0a9c-4234-8bef-d336834535ef",
     "showTitle": false,
     "tableResultSettingsMap": {},
     "title": ""
    }
   },
   "outputs": [],
   "source": [
    "%sql\n",
    "CREATE EXTERNAL LOCATION IF NOT EXISTS databricksextdl_silver\n",
    "URL 'abfss://silver@adlsexternalfororders.dfs.core.windows.net/'\n",
    "WITH (STORAGE CREDENTIAL `azure_cred_devandtest`)"
   ]
  },
  {
   "cell_type": "code",
   "execution_count": 0,
   "metadata": {
    "application/vnd.databricks.v1+cell": {
     "cellMetadata": {
      "byteLimit": 2048000,
      "implicitDf": true,
      "rowLimit": 10000
     },
     "inputWidgets": {},
     "nuid": "cd88cb9d-bae7-4734-8765-fc6e40723122",
     "showTitle": false,
     "tableResultSettingsMap": {},
     "title": ""
    }
   },
   "outputs": [],
   "source": [
    "CREATE EXTERNAL LOCATION  IF NOT EXISTS databricksextdl_gold\n",
    "URL 'abfss://gold@adlsexternalfororders.dfs.core.windows.net/'\n",
    "WITH (STORAGE CREDENTIAL `azure_cred_devandtest`)\n",
    "\n",
    "\n"
   ]
  },
  {
   "cell_type": "code",
   "execution_count": 0,
   "metadata": {
    "application/vnd.databricks.v1+cell": {
     "cellMetadata": {
      "byteLimit": 2048000,
      "rowLimit": 10000
     },
     "inputWidgets": {},
     "nuid": "b0a2cc31-595c-41eb-af7e-be7ecdf78986",
     "showTitle": false,
     "tableResultSettingsMap": {},
     "title": ""
    }
   },
   "outputs": [],
   "source": [
    "CREATE EXTERNAL LOCATION  IF NOT EXISTS databricksextdl_ordercatalog\n",
    "URL 'abfss://ordercatalog@adlsexternalfororders.dfs.core.windows.net/'\n",
    "WITH (STORAGE CREDENTIAL `azure_cred_devandtest`)\n"
   ]
  },
  {
   "cell_type": "code",
   "execution_count": 0,
   "metadata": {
    "application/vnd.databricks.v1+cell": {
     "cellMetadata": {
      "byteLimit": 2048000,
      "rowLimit": 10000
     },
     "inputWidgets": {},
     "nuid": "e2bfc87a-04d8-4a90-bb15-8629a5c4fd67",
     "showTitle": false,
     "tableResultSettingsMap": {},
     "title": ""
    }
   },
   "outputs": [],
   "source": [
    "\n",
    "CREATE EXTERNAL LOCATION IF NOT EXISTS databricksextdl_rawdata\n",
    "URL 'abfss://rawdata@adlsexternalfororders.dfs.core.windows.net/'\n",
    "WITH (STORAGE CREDENTIAL `azure_cred_devandtest`)"
   ]
  },
  {
   "cell_type": "code",
   "execution_count": 0,
   "metadata": {
    "application/vnd.databricks.v1+cell": {
     "cellMetadata": {
      "byteLimit": 2048000,
      "rowLimit": 10000
     },
     "inputWidgets": {},
     "nuid": "9d823fd9-1f04-493b-8b24-c489c7a77b2b",
     "showTitle": false,
     "tableResultSettingsMap": {},
     "title": ""
    }
   },
   "outputs": [],
   "source": [
    "CREATE CATALOG IF NOT EXISTS ordercatalog MANAGED LOCATION 'abfss://ordercatalog@adlsexternalfororders.dfs.core.windows.net/';"
   ]
  },
  {
   "cell_type": "code",
   "execution_count": 0,
   "metadata": {
    "application/vnd.databricks.v1+cell": {
     "cellMetadata": {
      "byteLimit": 2048000,
      "rowLimit": 10000
     },
     "inputWidgets": {},
     "nuid": "0a2980af-fd50-4829-b271-5296b76435a2",
     "showTitle": false,
     "tableResultSettingsMap": {},
     "title": ""
    }
   },
   "outputs": [],
   "source": [
    "%sql\n",
    "\n",
    "-- Use the newly created catalog for subsequent commands\n",
    "USE CATALOG ordercatalog ;\n",
    "\n",
    "-- COMMAND ----------\n",
    "-- DBTITLE 1,Step 2: Create Schemas (Databases) with Managed Locations\n",
    "-- Each schema will store its managed tables in the specified ADLS Gen2 path.\n",
    "-- Unity Catalog will manage the lifecycle of data stored in these locations.\n",
    "\n",
    "-- Rawdata Schema: For raw, untransformed data\n",
    "CREATE SCHEMA IF NOT EXISTS rawdata_schema\n",
    "MANAGED LOCATION 'abfss://rawdata@adlsexternalfororders.dfs.core.windows.net/';\n",
    "\n",
    "-- Bronze Schema: For raw data ingested, validated, and perhaps enriched with metadata\n",
    "CREATE SCHEMA IF NOT EXISTS bronze_schema\n",
    "MANAGED LOCATION 'abfss://bronze@adlsexternalfororders.dfs.core.windows.net/';\n",
    "\n",
    "-- Silver Schema: For cleaned, transformed, and potentially de-duplicated data\n",
    "CREATE SCHEMA IF NOT EXISTS silver_schema\n",
    "MANAGED LOCATION 'abfss://silver@adlsexternalfororders.dfs.core.windows.net/';\n",
    "\n",
    "-- Gold Schema: For aggregated, highly curated, and ready-for-consumption data\n",
    "CREATE SCHEMA IF NOT EXISTS gold_schema\n",
    "--LOCATION 'orders_catalog/gold_schema';\n",
    "MANAGED LOCATION 'abfss://gold@adlsexternalfororders.dfs.core.windows.net/';\n",
    "\n",
    "-- COMMAND ----------\n",
    "-- DBTITLE 1,Step 3: Verify the Catalog and Schemas\n",
    "-- Check that the catalog and schemas have been created\n",
    "SHOW CATALOGS;\n",
    "SHOW SCHEMAS IN ordercatalog;\n",
    "\n",
    "-- You can also describe a schema to see its properties, including the managed location\n"
   ]
  },
  {
   "cell_type": "code",
   "execution_count": 0,
   "metadata": {
    "application/vnd.databricks.v1+cell": {
     "cellMetadata": {
      "byteLimit": 2048000,
      "rowLimit": 10000
     },
     "inputWidgets": {},
     "nuid": "bf5161b6-2d51-4a70-8b5b-4e79740f94cd",
     "showTitle": false,
     "tableResultSettingsMap": {},
     "title": ""
    }
   },
   "outputs": [],
   "source": [
    "%python\n",
    "\n",
    "\n",
    "from pyspark.sql.functions import current_timestamp, lit, rand, round, col\n",
    "from pyspark.sql.types import StructType, StructField, StringType, IntegerType, DoubleType, TimestampType\n",
    "import random\n",
    "import os\n",
    "\n",
    "# Define schema for raw orders\n",
    "raw_order_schema = StructType([\n",
    "    StructField(\"order_id\", StringType(), True),\n",
    "    StructField(\"customer_id\", StringType(), True),\n",
    "    StructField(\"product_id\", StringType(), True),\n",
    "    StructField(\"quantity\", IntegerType(), True),\n",
    "    StructField(\"price\", DoubleType(), True),\n",
    "    StructField(\"order_timestamp\", TimestampType(), True),\n",
    "    StructField(\"status\", StringType(), True)\n",
    "])\n"
   ]
  },
  {
   "cell_type": "code",
   "execution_count": 0,
   "metadata": {
    "application/vnd.databricks.v1+cell": {
     "cellMetadata": {
      "byteLimit": 2048000,
      "rowLimit": 10000
     },
     "inputWidgets": {},
     "nuid": "232366c7-d39f-478a-a1a5-857e14f1c394",
     "showTitle": false,
     "tableResultSettingsMap": {},
     "title": ""
    }
   },
   "outputs": [],
   "source": [
    "%python\n",
    "import random\n",
    "from datetime import datetime\n",
    "from pyspark.sql.types import StructType, StructField, StringType, IntegerType, FloatType, TimestampType\n",
    "\n",
    "# Define the schema for the DataFrame\n",
    "raw_order_schema = StructType([\n",
    "    StructField(\"order_id\", StringType(), True),\n",
    "    StructField(\"customer_id\", StringType(), True),\n",
    "    StructField(\"product_id\", StringType(), True),\n",
    "    StructField(\"quantity\", IntegerType(), True),\n",
    "    StructField(\"price\", FloatType(), True),\n",
    "    StructField(\"order_timestamp\", TimestampType(), True),\n",
    "    StructField(\"status\", StringType(), True)\n",
    "])\n",
    "\n",
    "# Function to generate a single order\n",
    "def generate_order(order_id_prefix=\"ORD\"):\n",
    "    order_id = f\"{order_id_prefix}-{random.randint(10000, 99999)}\"\n",
    "    customer_id = f\"CUST-{random.randint(2000, 9999)}\"\n",
    "    product_id = f\"PROD-{random.randint(10, 100)}\"\n",
    "    quantity = random.randint(1, 10)\n",
    "    price = float(f\"{random.uniform(5, 500):.2f}\")\n",
    "    order_timestamp = datetime.now()\n",
    "    status = random.choice([\"PENDING\", \"COMPLETED\", \"CANCELLED\", \"SHIPPED\"])\n",
    "    return (order_id, customer_id, product_id, quantity, price, order_timestamp, status)\n",
    "\n",
    "# Generate a batch of orders\n",
    "num_orders = 100\n",
    "orders_data = [generate_order() for _ in range(num_orders)]\n",
    "\n",
    "# Create DataFrame\n",
    "raw_orders_df = spark.createDataFrame(orders_data, schema=raw_order_schema)\n",
    "\n",
    "# Define a path to save raw data (e.g., DBFS)\n",
    "#raw_data_path = \"dbfs:/FileStore/\"\n",
    "raw_data_path = \"abfss://rawdata@adlsexternalfororders.dfs.core.windows.net/orders/\"\n",
    "\n",
    "# Overwrite for initial load, append for subsequent runs\n",
    "raw_orders_df.write.format(\"json\").mode(\"overwrite\").save(raw_data_path)\n",
    "\n",
    "print(f\"Generated {num_orders} raw orders to: {raw_data_path}batch_1.json\")\n",
    "\n",
    "# Simulate a second batch with some updates and new orders\n",
    "num_orders_batch2 = 250\n",
    "orders_data_batch2 = [generate_order() for _ in range(num_orders_batch2 - 10)] # 40 new orders\n",
    "# Add 10 updates to existing orders (batch_1)\n",
    "existing_order_ids = raw_orders_df.select(\"order_id\").distinct().limit(10).rdd.map(lambda r: r[0]).collect()\n",
    "for oid in existing_order_ids:\n",
    "    # Generate an updated order, changing status or quantity/price\n",
    "    order_id = oid\n",
    "    customer_id = f\"CUST-{random.randint(2000, 9990)}\" # Can be same or different, depends on your key\n",
    "    product_id = f\"PROD-{random.randint(100, 100)}\"\n",
    "    quantity = random.randint(1, 10)\n",
    "    price = float(f\"{random.uniform(5, 500):.2f}\")\n",
    "    order_timestamp = datetime.now()\n",
    "    status = random.choice([\"COMPLETED\", \"SHIPPED\"]) # Update to a completed status\n",
    "    orders_data_batch2.append((order_id, customer_id, product_id, quantity, price, order_timestamp, status))\n",
    "\n",
    "raw_orders_df_batch2 = spark.createDataFrame(orders_data_batch2, schema=raw_order_schema)\n",
    "raw_orders_df_batch2.write.format(\"json\").mode(\"overwrite\").save(raw_data_path)\n",
    "print(f\"Generated {num_orders_batch2} raw orders (including updates) to: {raw_data_path}batch_2.json\")"
   ]
  },
  {
   "cell_type": "code",
   "execution_count": 0,
   "metadata": {
    "application/vnd.databricks.v1+cell": {
     "cellMetadata": {
      "byteLimit": 2048000,
      "implicitDf": true,
      "rowLimit": 10000
     },
     "inputWidgets": {},
     "nuid": "83b9af43-79ee-40cb-9599-f83459d2133c",
     "showTitle": false,
     "tableResultSettingsMap": {},
     "title": ""
    }
   },
   "outputs": [],
   "source": [
    "CREATE TABLE ordercatalog.bronze_schema.allorders\n",
    "USING DELTA\n",
    "AS SELECT * FROM ordercatalog.rawdata_schema.rawdata\n"
   ]
  }
 ],
 "metadata": {
  "application/vnd.databricks.v1+notebook": {
   "computePreferences": null,
   "dashboards": [],
   "environmentMetadata": {
    "base_environment": "",
    "environment_version": "2"
   },
   "inputWidgetPreferences": null,
   "language": "sql",
   "notebookMetadata": {
    "mostRecentlyExecutedCommandWithImplicitDF": {
     "commandId": -1,
     "dataframes": [
      "_sqldf"
     ]
    },
    "pythonIndentUnit": 4
   },
   "notebookName": "Environment Setup",
   "widgets": {}
  },
  "language_info": {
   "name": "sql"
  }
 },
 "nbformat": 4,
 "nbformat_minor": 0
}
