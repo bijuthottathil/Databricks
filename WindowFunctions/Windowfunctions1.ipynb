{
 "cells": [
  {
   "cell_type": "code",
   "execution_count": 0,
   "metadata": {
    "application/vnd.databricks.v1+cell": {
     "cellMetadata": {
      "byteLimit": 2048000,
      "rowLimit": 10000
     },
     "inputWidgets": {},
     "nuid": "db8693fe-b3b0-40f2-8b92-6a66f128bd8c",
     "showTitle": false,
     "tableResultSettingsMap": {},
     "title": ""
    }
   },
   "outputs": [],
   "source": [
    "from pyspark.sql import SparkSession\n",
    "from pyspark.sql.window import Window\n",
    "from pyspark.sql.functions import *\n",
    "\n",
    "# Initialize Spark Session (already done in Databricks notebooks)\n",
    "spark = SparkSession.builder.appName(\"WindowFunctionsExample\").getOrCreate()\n",
    "\n",
    "# Sample Data: Sales transactions for different products and regions over time\n",
    "data = [\n",
    "    (\"Laptop\", \"North\", \"2023-01-01\", 100, 2),\n",
    "    (\"Laptop\", \"North\", \"2023-01-02\", 150, 3),\n",
    "    (\"Laptop\", \"North\", \"2023-01-03\", 120, 2),\n",
    "    (\"Laptop\", \"South\", \"2023-01-01\", 80, 1),\n",
    "    (\"Laptop\", \"South\", \"2023-01-02\", 90, 2),\n",
    "    (\"Monitor\", \"North\", \"2023-01-01\", 200, 1),\n",
    "    (\"Monitor\", \"North\", \"2023-01-02\", 220, 1),\n",
    "    (\"Keyboard\", \"South\", \"2023-01-01\", 50, 5),\n",
    "    (\"Keyboard\", \"South\", \"2023-01-02\", 60, 4),\n",
    "    (\"Mouse\", \"North\", \"2023-01-01\", 30, 10),\n",
    "    (\"Mouse\", \"North\", \"2023-01-02\", 35, 8),\n",
    "    (\"Laptop\", \"North\", \"2023-01-04\", 180, 4), # Added another entry for Laptop, North\n",
    "    (\"Monitor\", \"South\", \"2023-01-03\", 250, 1) # Added for Monitor, South\n",
    "]\n",
    "\n",
    "columns = [\"product\", \"region\", \"sale_date\", \"price_per_unit\", \"quantity\"]\n",
    "\n",
    "df = spark.createDataFrame(data, columns)\n",
    "\n",
    "# Convert sale_date to date type\n",
    "df = df.withColumn(\"sale_date\", to_date(col(\"sale_date\"), \"yyyy-MM-dd\"))\n",
    "\n",
    "df.printSchema()\n",
    "df.orderBy(\"product\", \"region\", \"sale_date\").show()"
   ]
  },
  {
   "cell_type": "code",
   "execution_count": 0,
   "metadata": {
    "application/vnd.databricks.v1+cell": {
     "cellMetadata": {
      "byteLimit": 2048000,
      "rowLimit": 10000
     },
     "inputWidgets": {},
     "nuid": "32207090-ad76-4631-9417-235fd0a399f7",
     "showTitle": false,
     "tableResultSettingsMap": {},
     "title": ""
    }
   },
   "outputs": [],
   "source": [
    "window_spec=Window.partitionBy(\"product\", \"region\").orderBy(\"sale_date\")\n"
   ]
  },
  {
   "cell_type": "code",
   "execution_count": 0,
   "metadata": {
    "application/vnd.databricks.v1+cell": {
     "cellMetadata": {
      "byteLimit": 2048000,
      "rowLimit": 10000
     },
     "inputWidgets": {},
     "nuid": "6926ed96-8d0f-452e-81c8-d87b79f96c59",
     "showTitle": false,
     "tableResultSettingsMap": {},
     "title": ""
    }
   },
   "outputs": [],
   "source": [
    "dfwithrownumber=df.withColumn(\"row_number\", row_number().over(window_spec))\n",
    "dfwithrownumber.show()"
   ]
  },
  {
   "cell_type": "code",
   "execution_count": 0,
   "metadata": {
    "application/vnd.databricks.v1+cell": {
     "cellMetadata": {
      "byteLimit": 2048000,
      "rowLimit": 10000
     },
     "inputWidgets": {},
     "nuid": "240adfcd-c73f-4987-ad54-98e06d527434",
     "showTitle": false,
     "tableResultSettingsMap": {},
     "title": ""
    }
   },
   "outputs": [],
   "source": [
    "window_spec=Window.partitionBy(\"product\", \"sale_date\").orderBy(\"region\")"
   ]
  },
  {
   "cell_type": "code",
   "execution_count": 0,
   "metadata": {
    "application/vnd.databricks.v1+cell": {
     "cellMetadata": {
      "byteLimit": 2048000,
      "rowLimit": 10000
     },
     "inputWidgets": {},
     "nuid": "69ae0771-bfb5-4b61-8352-c4986a7326e5",
     "showTitle": false,
     "tableResultSettingsMap": {},
     "title": ""
    }
   },
   "outputs": [],
   "source": [
    "dfwithrownumberdate=df.withColumn(\"row_number\", row_number().over(window_spec))\n",
    "dfwithrownumberdate.show()\n"
   ]
  },
  {
   "cell_type": "markdown",
   "metadata": {
    "application/vnd.databricks.v1+cell": {
     "cellMetadata": {},
     "inputWidgets": {},
     "nuid": "80cc38a0-fa94-4ad5-9840-de434167bdba",
     "showTitle": false,
     "tableResultSettingsMap": {},
     "title": ""
    }
   },
   "source": [
    "# Lead\n"
   ]
  },
  {
   "cell_type": "code",
   "execution_count": 0,
   "metadata": {
    "application/vnd.databricks.v1+cell": {
     "cellMetadata": {
      "byteLimit": 2048000,
      "rowLimit": 10000
     },
     "inputWidgets": {},
     "nuid": "320d1332-91d8-4eb1-98e1-99b636cbb3b5",
     "showTitle": false,
     "tableResultSettingsMap": {},
     "title": ""
    }
   },
   "outputs": [],
   "source": [
    "display(df)"
   ]
  },
  {
   "cell_type": "code",
   "execution_count": 0,
   "metadata": {
    "application/vnd.databricks.v1+cell": {
     "cellMetadata": {
      "byteLimit": 2048000,
      "rowLimit": 10000
     },
     "inputWidgets": {},
     "nuid": "22959242-4bac-48c8-a208-a7bb22c99e77",
     "showTitle": false,
     "tableResultSettingsMap": {},
     "title": ""
    }
   },
   "outputs": [],
   "source": [
    "window_spec=Window.partitionBy(\"product\", \"region\").orderBy(\"sale_date\")\n",
    "dfwithlead=df.withColumn(\"lead_date\", lead(\"sale_date\", 1).over(window_spec))\n",
    "dfwithlead.show()"
   ]
  },
  {
   "cell_type": "code",
   "execution_count": 0,
   "metadata": {
    "application/vnd.databricks.v1+cell": {
     "cellMetadata": {
      "byteLimit": 2048000,
      "rowLimit": 10000
     },
     "inputWidgets": {},
     "nuid": "d8fbe1b5-0e34-4a7b-887a-7990445c1daf",
     "showTitle": false,
     "tableResultSettingsMap": {},
     "title": ""
    }
   },
   "outputs": [],
   "source": [
    "window_spec=Window.partitionBy(\"product\", \"region\").orderBy(\"sale_date\")\n",
    "dfwithLag=df.withColumn(\"lag_date\", lag(\"sale_date\", 1).over(window_spec))\n",
    "dfwithLag.show() "
   ]
  }
 ],
 "metadata": {
  "application/vnd.databricks.v1+notebook": {
   "computePreferences": null,
   "dashboards": [],
   "environmentMetadata": {
    "base_environment": "",
    "environment_version": "2"
   },
   "inputWidgetPreferences": null,
   "language": "python",
   "notebookMetadata": {
    "pythonIndentUnit": 4
   },
   "notebookName": "Windowfunctions1",
   "widgets": {}
  },
  "language_info": {
   "name": "python"
  }
 },
 "nbformat": 4,
 "nbformat_minor": 0
}
