{
 "cells": [
  {
   "cell_type": "code",
   "execution_count": 0,
   "metadata": {
    "application/vnd.databricks.v1+cell": {
     "cellMetadata": {},
     "inputWidgets": {},
     "nuid": "8d211b94-8c50-45d3-8092-f013d1dd926a",
     "showTitle": false,
     "tableResultSettingsMap": {},
     "title": ""
    }
   },
   "outputs": [],
   "source": [
    "# Pivot and Un-Pivot Data Frame"
   ]
  },
  {
   "cell_type": "code",
   "execution_count": 0,
   "metadata": {
    "application/vnd.databricks.v1+cell": {
     "cellMetadata": {},
     "inputWidgets": {},
     "nuid": "7429b6fe-a37e-4522-9400-45df0e4b7fc8",
     "showTitle": false,
     "tableResultSettingsMap": {},
     "title": ""
    }
   },
   "outputs": [],
   "source": [
    "# Create Spark Session\n",
    "\n",
    "from pyspark.sql import SparkSession\n",
    "\n",
    "spark = SparkSession \\\n",
    "    .builder \\\n",
    "    .appName(\"Pivot & Un-Pivot\") \\\n",
    "    .master(\"local[*]\") \\\n",
    "    .getOrCreate()\n",
    "\n",
    "spark"
   ]
  },
  {
   "cell_type": "code",
   "execution_count": 0,
   "metadata": {
    "application/vnd.databricks.v1+cell": {
     "cellMetadata": {},
     "inputWidgets": {},
     "nuid": "9d171abb-49ac-4736-b5de-50269928856b",
     "showTitle": false,
     "tableResultSettingsMap": {},
     "title": ""
    }
   },
   "outputs": [],
   "source": [
    "# Example Data Set\n",
    "\n",
    "_data = [\n",
    "\t[\"Ramesh\", \"PHY\", 90],\n",
    "\t[\"Ramesh\", \"MATH\", 95],\n",
    "\t[\"Ramesh\", \"CHEM\", 100],\n",
    "\t[\"Sangeeta\", \"PHY\", 90],\n",
    "\t[\"Sangeeta\", \"MATH\", 100],\n",
    "\t[\"Sangeeta\", \"CHEM\", 83],\n",
    "\t[\"Mohan\", \"BIO\", 90],\n",
    "\t[\"Mohan\", \"MATH\", 70],\n",
    "\t[\"Mohan\", \"CHEM\", 76],\n",
    "\t[\"Imran\", \"PHY\", 96],\n",
    "\t[\"Imran\", \"MATH\", 87],\n",
    "\t[\"Imran\", \"CHEM\", 79],\n",
    "\t[\"Imran\", \"BIO\", 82]\n",
    "]\n",
    "\n",
    "_cols = [\"NAME\", \"SUBJECT\", \"MARKS\"]\n",
    "\n",
    "# Generate Data Frame\n",
    "df = spark.createDataFrame(data=_data, schema = _cols)\n",
    "df.show(truncate = False)"
   ]
  },
  {
   "cell_type": "code",
   "execution_count": 0,
   "metadata": {
    "application/vnd.databricks.v1+cell": {
     "cellMetadata": {},
     "inputWidgets": {},
     "nuid": "fa79396c-7802-4ba8-b754-dc8e02405b01",
     "showTitle": false,
     "tableResultSettingsMap": {},
     "title": ""
    }
   },
   "outputs": [],
   "source": [
    "# Lets create a simple Python decorator - {get_time} to get the execution timings\n",
    "# If you dont know about Python decorators - check out : https://www.geeksforgeeks.org/decorators-in-python/\n",
    "import time\n",
    "\n",
    "def get_time(func):\n",
    "    def inner_get_time() -> str:\n",
    "        start_time = time.time()\n",
    "        func()\n",
    "        end_time = time.time()\n",
    "        return (f\"Execution time: {(end_time - start_time)*1000} ms\")\n",
    "    print(inner_get_time())"
   ]
  },
  {
   "cell_type": "markdown",
   "metadata": {
    "application/vnd.databricks.v1+cell": {
     "cellMetadata": {},
     "inputWidgets": {},
     "nuid": "77e28148-761a-4bc5-a985-b52ad25ecd54",
     "showTitle": false,
     "tableResultSettingsMap": {},
     "title": ""
    }
   },
   "source": [
    "### Method 1 - Without specifying column names"
   ]
  },
  {
   "cell_type": "code",
   "execution_count": 0,
   "metadata": {
    "application/vnd.databricks.v1+cell": {
     "cellMetadata": {},
     "inputWidgets": {},
     "nuid": "18e4d64b-7644-47af-be63-ddf67d1ac383",
     "showTitle": false,
     "tableResultSettingsMap": {},
     "title": ""
    }
   },
   "outputs": [],
   "source": [
    "# Pivot data without specifying the column names(values) and checking the execution time\n",
    "from pyspark.sql.functions import sum\n",
    "\n",
    "@get_time\n",
    "def x(): df.groupBy(\"NAME\").pivot(\"SUBJECT\").agg(sum(\"MARKS\"))"
   ]
  },
  {
   "cell_type": "code",
   "execution_count": 0,
   "metadata": {
    "application/vnd.databricks.v1+cell": {
     "cellMetadata": {},
     "inputWidgets": {},
     "nuid": "2dab4aac-74d1-40bd-9c52-cdb3bbde27f9",
     "showTitle": false,
     "tableResultSettingsMap": {},
     "title": ""
    }
   },
   "outputs": [],
   "source": [
    "# Lets check the data and schema\n",
    "pivot_df_1 = df.groupBy(\"NAME\").pivot(\"SUBJECT\").agg(sum(\"MARKS\"))\n",
    "pivot_df_1.printSchema()\n",
    "pivot_df_1.show(truncate = False)"
   ]
  },
  {
   "cell_type": "markdown",
   "metadata": {
    "application/vnd.databricks.v1+cell": {
     "cellMetadata": {},
     "inputWidgets": {},
     "nuid": "bbd8af6c-dc22-460f-a6c1-e402cb3d47bb",
     "showTitle": false,
     "tableResultSettingsMap": {},
     "title": ""
    }
   },
   "source": [
    "### Method 2 - Specifying column names"
   ]
  },
  {
   "cell_type": "code",
   "execution_count": 0,
   "metadata": {
    "application/vnd.databricks.v1+cell": {
     "cellMetadata": {},
     "inputWidgets": {},
     "nuid": "381cfe9a-a32e-4599-a05a-9f3766eb62b6",
     "showTitle": false,
     "tableResultSettingsMap": {},
     "title": ""
    }
   },
   "outputs": [],
   "source": [
    "# Get the time for extracting the distinct list\n",
    "@get_time\n",
    "def x(): df.select(\"SUBJECT\").distinct().rdd.map(lambda x: x[0]).collect()"
   ]
  },
  {
   "cell_type": "code",
   "execution_count": 0,
   "metadata": {
    "application/vnd.databricks.v1+cell": {
     "cellMetadata": {},
     "inputWidgets": {},
     "nuid": "4f4d6175-555e-490e-9788-b055984bd9b8",
     "showTitle": false,
     "tableResultSettingsMap": {},
     "title": ""
    }
   },
   "outputs": [],
   "source": [
    "# Get the distinct list of Subjects\n",
    "_subjects = df.select(\"SUBJECT\").distinct().rdd.map(lambda x: x[0]).collect()\n",
    "_subjects"
   ]
  },
  {
   "cell_type": "code",
   "execution_count": 0,
   "metadata": {
    "application/vnd.databricks.v1+cell": {
     "cellMetadata": {},
     "inputWidgets": {},
     "nuid": "6f72fc38-97f1-470b-9bf8-c8870e6638a5",
     "showTitle": false,
     "tableResultSettingsMap": {},
     "title": ""
    }
   },
   "outputs": [],
   "source": [
    "# Pivot data specifying the column names(values) and checking the execution time\n",
    "from pyspark.sql.functions import sum\n",
    "\n",
    "@get_time\n",
    "def x(): df.groupBy(\"NAME\").pivot(\"SUBJECT\", _subjects).agg(sum(\"MARKS\"))"
   ]
  },
  {
   "cell_type": "code",
   "execution_count": 0,
   "metadata": {
    "application/vnd.databricks.v1+cell": {
     "cellMetadata": {},
     "inputWidgets": {},
     "nuid": "a83797a0-b42d-4773-9f02-6ef73304269b",
     "showTitle": false,
     "tableResultSettingsMap": {},
     "title": ""
    }
   },
   "outputs": [],
   "source": [
    "# Lets check the data and schema\n",
    "pivot_df_2 = df.groupBy(\"NAME\").pivot(\"SUBJECT\", _subjects).agg(sum(\"MARKS\"))\n",
    "pivot_df_2.printSchema()\n",
    "pivot_df_2.show(truncate = False)"
   ]
  }
 ],
 "metadata": {
  "application/vnd.databricks.v1+notebook": {
   "computePreferences": null,
   "dashboards": [],
   "environmentMetadata": null,
   "inputWidgetPreferences": null,
   "language": "python",
   "notebookMetadata": {},
   "notebookName": "07_pivot_data_frame",
   "widgets": {}
  },
  "kernelspec": {
   "display_name": "Python 3 (ipykernel)",
   "language": "python",
   "name": "python3"
  },
  "language_info": {
   "name": "python"
  }
 },
 "nbformat": 4,
 "nbformat_minor": 0
}
