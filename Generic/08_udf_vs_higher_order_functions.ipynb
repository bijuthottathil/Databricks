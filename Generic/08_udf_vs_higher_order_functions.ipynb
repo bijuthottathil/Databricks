{
 "cells": [
  {
   "cell_type": "markdown",
   "metadata": {
    "application/vnd.databricks.v1+cell": {
     "cellMetadata": {},
     "inputWidgets": {},
     "nuid": "e9bd904f-a5c7-404c-8229-3e727b49af0c",
     "showTitle": false,
     "tableResultSettingsMap": {},
     "title": ""
    }
   },
   "source": [
    "# UDF vs Higher order functions"
   ]
  },
  {
   "cell_type": "code",
   "execution_count": 0,
   "metadata": {
    "application/vnd.databricks.v1+cell": {
     "cellMetadata": {},
     "inputWidgets": {},
     "nuid": "089aa4e4-d700-48b5-8cdd-15daf45aae27",
     "showTitle": false,
     "tableResultSettingsMap": {},
     "title": ""
    }
   },
   "outputs": [],
   "source": [
    "# Create Spark Session\n",
    "\n",
    "from pyspark.sql import SparkSession\n",
    "\n",
    "spark = SparkSession \\\n",
    "    .builder \\\n",
    "    .appName(\"UDF vs Higher Order Functions\") \\\n",
    "    .master(\"local[*]\") \\\n",
    "    .getOrCreate()\n",
    "\n",
    "spark"
   ]
  },
  {
   "cell_type": "code",
   "execution_count": 0,
   "metadata": {
    "application/vnd.databricks.v1+cell": {
     "cellMetadata": {},
     "inputWidgets": {},
     "nuid": "71f607e7-09f4-47f8-8813-f3a327c39347",
     "showTitle": false,
     "tableResultSettingsMap": {},
     "title": ""
    }
   },
   "outputs": [],
   "source": [
    "# Example Data Frame\n",
    "\n",
    "_data = [\n",
    "    [1, [\"Bangalore\", \"Mumbai\", \"Pune\", \"Indore\"]],\n",
    "    [2, [\"Bangalore\"]],\n",
    "    [3, []],\n",
    "    [4, [\"Kolkata\", \"Bhubaneshwar\"]],\n",
    "    [5, [\"Bangalore\", \"Mumbai\", \"Pune\", \"Indore\", \"Ahmedabad\", \"Suratkal\"]],\n",
    "    [6, [\"Delhi\", \"Mumbai\", \"Kolkāta\", \"Bangalore\", \"Chennai\", \"Hyderābād\", \"Pune\", \"Ahmedabad\", \"Sūrat\", \"Lucknow\", \"Jaipur\", \"Cawnpore\", \"Mirzāpur\", \"Nāgpur\", \"Ghāziābād\", \"Indore\", \"Vadodara\", \"Vishākhapatnam\", \"Bhopāl\", \"Chinchvad\", \"Patna\", \"Ludhiāna\", \"Āgra\", \"Kalyān\", \"Madurai\", \"Jamshedpur\", \"Nāsik\", \"Farīdābād\", \"Aurangābād\", \"Rājkot\", \"Meerut\", \"Jabalpur\", \"Thāne\", \"Dhanbād\", \"Allahābād\", \"Vārānasi\", \"Srīnagar\", \"Amritsar\", \"Alīgarh\", \"Bhiwandi\", \"Gwalior\", \"Bhilai\", \"Hāora\", \"Rānchi\", \"Bezwāda\", \"Chandīgarh\", \"Mysore\", \"Raipur\", \"Kota\", \"Bareilly\", \"Jodhpur\", \"Coimbatore\", \"Dispur\", \"Guwāhāti\", \"Solāpur\", \"Trichinopoly\", \"Hubli\", \"Jalandhar\", \"Bhubaneshwar\", \"Bhayandar\", \"Morādābād\", \"Kolhāpur\", \"Thiruvananthapuram\", \"Sahāranpur\", \"Warangal\", \"Salem\", \"Mālegaon\", \"Kochi\", \"Gorakhpur\", \"Shimoga\", \"Tiruppūr\", \"Guntūr\", \"Raurkela\", \"Mangalore\", \"Nānded\", \"Cuttack\", \"Chānda\", \"Dehra Dūn\", \"Durgāpur\", \"Āsansol\", \"Bhāvnagar\", \"Amrāvati\", \"Nellore\", \"Ajmer\", \"Tinnevelly\", \"Bīkaner\", \"Agartala\", \"Ujjain\", \"Jhānsi\", \"Ulhāsnagar\", \"Davangere\", \"Jammu\", \"Belgaum\", \"Gulbarga\", \"Jāmnagar\", \"Dhūlia\", \"Gaya\", \"Jalgaon\", \"Kurnool\", \"Udaipur\", \"Bellary\", \"Sāngli\", \"Tuticorin\", \"Calicut\", \"Akola\", \"Bhāgalpur\", \"Sīkar\", \"Tumkūr\", \"Quilon\", \"Muzaffarnagar\", \"Bhīlwāra\", \"Nizāmābād\", \"Bhātpāra\", \"Kākināda\", \"Parbhani\", \"Pānihāti\", \"Lātūr\", \"Rohtak\", \"Rājapālaiyam\", \"Ahmadnagar\", \"Cuddapah\", \"Rājahmundry\", \"Alwar\", \"Muzaffarpur\", \"Bilāspur\", \"Mathura\", \"Kāmārhāti\", \"Patiāla\", \"Saugor\", \"Bijāpur\", \"Brahmapur\", \"Shāhjānpur\", \"Trichūr\", \"Barddhamān\", \"Kulti\", \"Sambalpur\", \"Purnea\", \"Hisar\", \"Fīrozābād\", \"Bīdar\", \"Rāmpur\", \"Shiliguri\", \"Bāli\", \"Pānīpat\", \"Karīmnagar\", \"Bhuj\", \"Ichalkaranji\", \"Tirupati\", \"Hospet\", \"Āīzawl\", \"Sannai\", \"Bārāsat\", \"Ratlām\", \"Handwāra\", \"Drug\", \"Imphāl\", \"Anantapur\", \"Etāwah\", \"Rāichūr\", \"Ongole\", \"Bharatpur\", \"Begusarai\", \"Sonīpat\", \"Rāmgundam\", \"Hāpur\", \"Uluberiya\", \"Porbandar\", \"Pāli\", \"Vizianagaram\", \"Puducherry\", \"Karnāl\", \"Nāgercoil\", \"Tanjore\", \"Sambhal\", \"Naihāti\", \"Secunderābād\", \"Kharagpur\", \"Dindigul\", \"Shimla\", \"Ingrāj Bāzār\", \"Ellore\", \"Puri\", \"Haldia\", \"Nandyāl\", \"Bulandshahr\", \"Chakradharpur\", \"Bhiwāni\", \"Gurgaon\", \"Burhānpur\", \"Khammam\", \"Madhyamgram\", \"Ghāndīnagar\", \"Baharampur\", \"Mahbūbnagar\", \"Mahesāna\", \"Ādoni\", \"Rāiganj\", \"Bhusāval\", \"Bahraigh\", \"Shrīrāmpur\", \"Tonk\", \"Sirsa\", \"Jaunpur\", \"Madanapalle\", \"Hugli\", \"Vellore\", \"Alleppey\", \"Cuddalore\", \"Deo\", \"Chīrāla\", \"Machilīpatnam\", \"Medinīpur\", \"Bāramūla\", \"Chandannagar\", \"Fatehpur\", \"Udipi\", \"Tenāli\", \"Sitalpur\", \"Conjeeveram\", \"Proddatūr\", \"Navsāri\", \"Godhra\", \"Budaun\", \"Chittoor\", \"Harīpur\", \"Saharsa\", \"Vidisha\", \"Pathānkot\", \"Nalgonda\", \"Dibrugarh\", \"Bālurghāt\", \"Krishnanagar\", \"Fyzābād\", \"Silchar\", \"Shāntipur\", \"Hindupur\"]]\n",
    "]\n",
    "\n",
    "_cols = [\"id\", \"cities\"]\n",
    "\n",
    "# Create Data Frame\n",
    "df = spark.createDataFrame(data = _data, schema = _cols)\n",
    "df.printSchema()s\n",
    "df.show()"
   ]
  },
  {
   "cell_type": "code",
   "execution_count": 0,
   "metadata": {
    "application/vnd.databricks.v1+cell": {
     "cellMetadata": {},
     "inputWidgets": {},
     "nuid": "27b68e98-1a34-4fff-b372-c7a14d5f5baa",
     "showTitle": false,
     "tableResultSettingsMap": {},
     "title": ""
    }
   },
   "outputs": [],
   "source": [
    "# Lets create a simple Python decorator - {get_time} to get the execution timings\n",
    "# If you dont know about Python decorators - check out : https://www.geeksforgeeks.org/decorators-in-python/\n",
    "import time\n",
    "\n",
    "def get_time(func):\n",
    "    def inner_get_time() -> str:\n",
    "        start_time = time.time()\n",
    "        func()\n",
    "        end_time = time.time()\n",
    "        return (f\"Execution time: {(end_time - start_time)*1000} ms\")\n",
    "    print(inner_get_time())"
   ]
  },
  {
   "cell_type": "code",
   "execution_count": 0,
   "metadata": {
    "application/vnd.databricks.v1+cell": {
     "cellMetadata": {},
     "inputWidgets": {},
     "nuid": "123db10c-705d-42b8-8c36-6f6a66bb76be",
     "showTitle": false,
     "tableResultSettingsMap": {},
     "title": ""
    }
   },
   "outputs": [],
   "source": [
    "# UDF for len of cities\n",
    "from pyspark.sql.functions import udf\n",
    "\n",
    "def len_of_cities(col):\n",
    "    _len = 0\n",
    "    for i in col:\n",
    "        _len += len(i)\n",
    "    return _len\n",
    "\n",
    "len_of_cities_udf = udf(lambda x: len_of_cities(x))"
   ]
  },
  {
   "cell_type": "code",
   "execution_count": 0,
   "metadata": {
    "application/vnd.databricks.v1+cell": {
     "cellMetadata": {},
     "inputWidgets": {},
     "nuid": "b34f9b81-dc6e-4230-8d63-da3a6462137b",
     "showTitle": false,
     "tableResultSettingsMap": {},
     "title": ""
    }
   },
   "outputs": [],
   "source": [
    "# Getting the execution time using the UDF\n",
    "\n",
    "@get_time\n",
    "def x(): df.withColumn(\"len_of_cities\", count_of_cities_udf(\"cities\")).show()"
   ]
  },
  {
   "cell_type": "code",
   "execution_count": 0,
   "metadata": {
    "application/vnd.databricks.v1+cell": {
     "cellMetadata": {},
     "inputWidgets": {},
     "nuid": "3f5803a3-af1d-41f2-8edd-304f50e5ac54",
     "showTitle": false,
     "tableResultSettingsMap": {},
     "title": ""
    }
   },
   "outputs": [],
   "source": [
    "# Using Higher Order Function\n",
    "from pyspark.sql.functions import aggregate, lit, length, size\n",
    "\n",
    "@get_time\n",
    "def x(): df.withColumn(\"len_of_cities\", aggregate(\"cities\", lit(0), lambda x, y: x + length(y))).show()"
   ]
  },
  {
   "cell_type": "code",
   "execution_count": 0,
   "metadata": {
    "application/vnd.databricks.v1+cell": {
     "cellMetadata": {},
     "inputWidgets": {},
     "nuid": "ed57f868-734a-40b4-9df2-33610cb2cde1",
     "showTitle": false,
     "tableResultSettingsMap": {},
     "title": ""
    }
   },
   "outputs": [],
   "source": []
  }
 ],
 "metadata": {
  "application/vnd.databricks.v1+notebook": {
   "computePreferences": null,
   "dashboards": [],
   "environmentMetadata": null,
   "inputWidgetPreferences": null,
   "language": "python",
   "notebookMetadata": {},
   "notebookName": "08_udf_vs_higher_order_functions",
   "widgets": {}
  },
  "kernelspec": {
   "display_name": "Python 3 (ipykernel)",
   "language": "python",
   "name": "python3"
  },
  "language_info": {
   "name": "python"
  }
 },
 "nbformat": 4,
 "nbformat_minor": 0
}
