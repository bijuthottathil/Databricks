{
 "cells": [
  {
   "cell_type": "markdown",
   "metadata": {
    "application/vnd.databricks.v1+cell": {
     "cellMetadata": {},
     "inputWidgets": {},
     "nuid": "47628405-8967-42cc-b9f8-1ddeacefb89a",
     "showTitle": false,
     "tableResultSettingsMap": {},
     "title": ""
    }
   },
   "source": [
    "# Flatten JSON data dynamically"
   ]
  },
  {
   "cell_type": "code",
   "execution_count": 0,
   "metadata": {
    "application/vnd.databricks.v1+cell": {
     "cellMetadata": {},
     "inputWidgets": {},
     "nuid": "b9777cd8-e1d2-4acb-a424-ce3e08ca612e",
     "showTitle": false,
     "tableResultSettingsMap": {},
     "title": ""
    }
   },
   "outputs": [],
   "source": [
    "# Create Spark Session\n",
    "\n",
    "from pyspark.sql import SparkSession\n",
    "\n",
    "spark = SparkSession \\\n",
    "    .builder \\\n",
    "    .appName(\"Flatten JSON data\") \\\n",
    "    .master(\"local[*]\") \\\n",
    "    .getOrCreate()\n",
    "\n",
    "spark"
   ]
  },
  {
   "cell_type": "code",
   "execution_count": 0,
   "metadata": {
    "application/vnd.databricks.v1+cell": {
     "cellMetadata": {},
     "inputWidgets": {},
     "nuid": "61ead3d1-cc55-475a-b8be-402e46b996c0",
     "showTitle": false,
     "tableResultSettingsMap": {},
     "title": ""
    }
   },
   "outputs": [],
   "source": [
    "# Lets create an Example Data Frame to hold JSON data\n",
    "\n",
    "# Example Data Frame with column having JSON data\n",
    "_data = [\n",
    "    ['EMP001', '{\"dept\" : \"account\", \"fname\": \"Ramesh\", \"lname\": \"Singh\", \"skills\": [\"excel\", \"tally\", \"word\"]}'],\n",
    "    ['EMP002', '{\"dept\" : \"sales\", \"fname\": \"Siv\", \"lname\": \"Kumar\", \"skills\": [\"biking\", \"sales\"]}'],\n",
    "    ['EMP003', '{\"dept\" : \"hr\", \"fname\": \"MS Raghvan\", \"skills\": [\"communication\", \"soft-skills\"], \"hobbies\" : {\"cycling\": \"expert\", \"computers\":\"basic\"}}']\n",
    "]\n",
    "\n",
    "# Columns for the data\n",
    "_cols = ['emp_no', 'raw_data']\n",
    "\n",
    "# Lets create the raw Data Frame\n",
    "df_raw = spark.createDataFrame(data = _data, schema = _cols)\n",
    "\n",
    "# Determine the schema of the JSON payload from the column\n",
    "json_schema_df = spark.read.json(df_raw.rdd.map(lambda row: row.raw_data))\n",
    "json_schema = json_schema_df.schema\n",
    "\n",
    "# Apply the schema to payload to read the data\n",
    "from pyspark.sql.functions import from_json\n",
    "df_details = df_raw.withColumn(\"emp_details\", from_json(df_raw[\"raw_data\"], json_schema)).drop(\"raw_data\")\n",
    "df_details.show(10, False)\n",
    "df_details.printSchema()"
   ]
  },
  {
   "cell_type": "code",
   "execution_count": 0,
   "metadata": {
    "application/vnd.databricks.v1+cell": {
     "cellMetadata": {},
     "inputWidgets": {},
     "nuid": "f17afd53-b34d-4ae8-a313-ba6a862610d6",
     "showTitle": false,
     "tableResultSettingsMap": {},
     "title": ""
    }
   },
   "outputs": [],
   "source": [
    "# Python function to flatten the data dynamically\n",
    "from pyspark.sql import DataFrame\n",
    "\n",
    "# Create outer method to return the flattened Data Frame\n",
    "def flatten_json_df(_df: DataFrame) -> DataFrame:\n",
    "    # List to hold the dynamically generated column names\n",
    "    flattened_col_list = []\n",
    "    \n",
    "    # Inner method to iterate over Data Frame to generate the column list\n",
    "    def get_flattened_cols(df: DataFrame, struct_col: str = None) -> None:\n",
    "        for col in df.columns:\n",
    "            if df.schema[col].dataType.typeName() != 'struct':\n",
    "                if struct_col is None:\n",
    "                    flattened_col_list.append(f\"{col} as {col.replace('.','_')}\")\n",
    "                else:\n",
    "                    t = struct_col + \".\" + col\n",
    "                    flattened_col_list.append(f\"{t} as {t.replace('.','_')}\")\n",
    "            else:\n",
    "                chained_col = struct_col +\".\"+ col if struct_col is not None else col\n",
    "                get_flattened_cols(df.select(col+\".*\"), chained_col)\n",
    "    \n",
    "    # Call the inner Method\n",
    "    get_flattened_cols(_df)\n",
    "    \n",
    "    # Return the flattened Data Frame\n",
    "    return _df.selectExpr(flattened_col_list)"
   ]
  },
  {
   "cell_type": "code",
   "execution_count": 0,
   "metadata": {
    "application/vnd.databricks.v1+cell": {
     "cellMetadata": {},
     "inputWidgets": {},
     "nuid": "ca317ffd-cf61-4bfe-b842-55d11a5a42c6",
     "showTitle": false,
     "tableResultSettingsMap": {},
     "title": ""
    }
   },
   "outputs": [],
   "source": [
    "# Generate the flattened DF\n",
    "flattened_df = flatten_json_df(df_details)\n",
    "flattened_df.show(10)\n",
    "\n",
    "# Print Schema\n",
    "flattened_df.printSchema()"
   ]
  },
  {
   "cell_type": "code",
   "execution_count": 0,
   "metadata": {
    "application/vnd.databricks.v1+cell": {
     "cellMetadata": {},
     "inputWidgets": {},
     "nuid": "5baf1841-f9e8-498d-b00e-c9525efb03bb",
     "showTitle": false,
     "tableResultSettingsMap": {},
     "title": ""
    }
   },
   "outputs": [],
   "source": [
    "# In case we now want to explode the Array/List field - emp_details_skills\n",
    "from pyspark.sql.functions import explode\n",
    "\n",
    "flattened_df.withColumn(\"skills\", explode(\"emp_details_skills\")).drop(\"emp_details_skills\").show()"
   ]
  }
 ],
 "metadata": {
  "application/vnd.databricks.v1+notebook": {
   "computePreferences": null,
   "dashboards": [],
   "environmentMetadata": null,
   "inputWidgetPreferences": null,
   "language": "python",
   "notebookMetadata": {},
   "notebookName": "05_flatten_json_data_dynamically (1)",
   "widgets": {}
  },
  "kernelspec": {
   "display_name": "Python 3 (ipykernel)",
   "language": "python",
   "name": "python3"
  },
  "language_info": {
   "name": "python"
  }
 },
 "nbformat": 4,
 "nbformat_minor": 0
}
