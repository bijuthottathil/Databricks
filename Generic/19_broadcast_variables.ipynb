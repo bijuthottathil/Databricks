{
 "cells": [
  {
   "cell_type": "markdown",
   "metadata": {
    "application/vnd.databricks.v1+cell": {
     "cellMetadata": {},
     "inputWidgets": {},
     "nuid": "1320ea1e-dff9-4dad-926b-81a0941cee16",
     "showTitle": false,
     "tableResultSettingsMap": {},
     "title": ""
    }
   },
   "source": [
    "# Broadcase Variables"
   ]
  },
  {
   "cell_type": "code",
   "execution_count": 0,
   "metadata": {
    "application/vnd.databricks.v1+cell": {
     "cellMetadata": {
      "byteLimit": 2048000,
      "rowLimit": 10000
     },
     "inputWidgets": {},
     "nuid": "05f60d79-ee40-493d-91a7-b3c8f8637154",
     "showTitle": false,
     "tableResultSettingsMap": {},
     "title": ""
    }
   },
   "outputs": [],
   "source": [
    "df_students = spark.createDataFrame([\n",
    "    (\"Alice\", \"CS\", \"ML\"),\n",
    "    (\"Bob\", \"EE\", \"Circuits\"),\n",
    "    (\"Charlie\", \"ME\", \"Thermo\"),\n",
    "    (\"David\", \"CE\", \"Structures\")\n",
    "], [\"NAME\", \"DEPT_CODE\", \"FAV_SUBJECT\"])\n",
    "\n",
    "df_students.show()"
   ]
  },
  {
   "cell_type": "code",
   "execution_count": 0,
   "metadata": {
    "application/vnd.databricks.v1+cell": {
     "cellMetadata": {
      "byteLimit": 2048000,
      "rowLimit": 10000
     },
     "inputWidgets": {},
     "nuid": "a9978196-0e7e-4ded-a3ed-20c03053960e",
     "showTitle": false,
     "tableResultSettingsMap": {},
     "title": ""
    }
   },
   "outputs": [],
   "source": [
    "# Department name dictionary to broadcast\n",
    "dept_info = spark.createDataFrame([\n",
    "    {\"code\": \"CS\", \"name\": \"Computer Science\"},\n",
    "    {\"code\": \"EE\", \"name\": \"Electrical Engineering\"},\n",
    "    {\"code\": \"ME\", \"name\": \"Mechanical Engineering\"},\n",
    "    {\"code\": \"CE\", \"name\": \"Civil Engineering\"}\n",
    "])\n",
    "display(dept_info)"
   ]
  },
  {
   "cell_type": "code",
   "execution_count": 0,
   "metadata": {
    "application/vnd.databricks.v1+cell": {
     "cellMetadata": {
      "byteLimit": 2048000,
      "rowLimit": 10000
     },
     "inputWidgets": {},
     "nuid": "ae2cbe6a-611c-4a1a-ac31-623bcb2f9b49",
     "showTitle": false,
     "tableResultSettingsMap": {},
     "title": ""
    }
   },
   "outputs": [],
   "source": [
    "from pyspark.sql.functions import broadcast\n",
    "broadcast_dept_info = broadcast(dept_info)"
   ]
  },
  {
   "cell_type": "code",
   "execution_count": 0,
   "metadata": {
    "application/vnd.databricks.v1+cell": {
     "cellMetadata": {
      "byteLimit": 2048000,
      "rowLimit": 10000
     },
     "inputWidgets": {},
     "nuid": "429ec6cb-b55f-4a74-baf5-26b568e4a738",
     "showTitle": false,
     "tableResultSettingsMap": {},
     "title": ""
    }
   },
   "outputs": [],
   "source": [
    "# Sample (department, student) data\n",
    "data = [(\"CS\", \"Alice\"), (\"CS\", \"David\"),\n",
    "        (\"EE\", \"Bob\"), (\"EE\", \"Eva\"), (\"EE\", \"John\"),\n",
    "        (\"ME\", \"Charlie\"), (\"ME\", \"Dan\")]\n",
    "\n",
    "rdd = spark.sparkContext.parallelize(data, numSlices=3)\n",
    "rdd.collect()\n"
   ]
  }
 ],
 "metadata": {
  "application/vnd.databricks.v1+notebook": {
   "computePreferences": null,
   "dashboards": [],
   "environmentMetadata": null,
   "inputWidgetPreferences": null,
   "language": "python",
   "notebookMetadata": {
    "pythonIndentUnit": 4
   },
   "notebookName": "19_broadcast_variables",
   "widgets": {}
  },
  "kernelspec": {
   "display_name": "Python 3 (ipykernel)",
   "language": "python",
   "name": "python3"
  },
  "language_info": {
   "name": "python"
  }
 },
 "nbformat": 4,
 "nbformat_minor": 0
}
