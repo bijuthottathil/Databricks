{
 "cells": [
  {
   "cell_type": "markdown",
   "metadata": {
    "application/vnd.databricks.v1+cell": {
     "cellMetadata": {},
     "inputWidgets": {},
     "nuid": "22613d27-9d15-4491-a15c-b0295279ad5b",
     "showTitle": false,
     "tableResultSettingsMap": {},
     "title": ""
    }
   },
   "source": [
    "## Writing effective join conditions"
   ]
  },
  {
   "cell_type": "code",
   "execution_count": 0,
   "metadata": {
    "application/vnd.databricks.v1+cell": {
     "cellMetadata": {},
     "inputWidgets": {},
     "nuid": "cb45b675-812b-4cee-8088-da9edbd98c92",
     "showTitle": false,
     "tableResultSettingsMap": {},
     "title": ""
    }
   },
   "outputs": [],
   "source": [
    "# Create Spark Session\n",
    "\n",
    "from pyspark.sql import SparkSession\n",
    "\n",
    "spark = SparkSession \\\n",
    "    .builder \\\n",
    "    .appName(\"Join Condition\") \\\n",
    "    .master(\"local[*]\") \\\n",
    "    .getOrCreate()\n",
    "\n",
    "spark"
   ]
  },
  {
   "cell_type": "code",
   "execution_count": 0,
   "metadata": {
    "application/vnd.databricks.v1+cell": {
     "cellMetadata": {},
     "inputWidgets": {},
     "nuid": "98257355-d1c4-4fee-9ab6-46ff930b38b4",
     "showTitle": false,
     "tableResultSettingsMap": {},
     "title": ""
    }
   },
   "outputs": [],
   "source": [
    "# Create dataset\n",
    "# Employee dataset\n",
    "_emp_data = [\n",
    "    [\"Subham\", \"D01\", 5000, 1],\n",
    "    [\"Rakesh\", \"D02\", 6000, 0],\n",
    "    [\"Rohit\", \"D02\", 7000, 1],\n",
    "    [\"Dinesh\", \"D03\", 10000, 1]\n",
    "]\n",
    "\n",
    "# Employee schema\n",
    "_emp_schema = [\"name\", \"dept_id\", \"salary\", \"active\"]\n",
    "\n",
    "# Department dataset\n",
    "_dept_data = [\n",
    "    [\"D01\", \"Economics\"],\n",
    "    [\"D02\", \"Science\"],\n",
    "    [\"D03\", \"Arts\"]\n",
    "]\n",
    "\n",
    "# Department schema\n",
    "_dept_schema = [\"id\", \"name\"]\n"
   ]
  },
  {
   "cell_type": "code",
   "execution_count": 0,
   "metadata": {
    "application/vnd.databricks.v1+cell": {
     "cellMetadata": {},
     "inputWidgets": {},
     "nuid": "65a8ab13-7305-4b4d-bd58-905e42569895",
     "showTitle": false,
     "tableResultSettingsMap": {},
     "title": ""
    }
   },
   "outputs": [],
   "source": [
    "# Create Employee and Department dataframes\n",
    "# Employee Dataframe\n",
    "df_emp = spark.createDataFrame(data = _emp_data, schema= _emp_schema)\n",
    "df_emp.show()\n",
    "\n",
    "# Department Dataframe\n",
    "df_dept = spark.createDataFrame(data = _dept_data, schema= _dept_schema)\n",
    "df_dept.show()"
   ]
  },
  {
   "cell_type": "code",
   "execution_count": 0,
   "metadata": {
    "application/vnd.databricks.v1+cell": {
     "cellMetadata": {},
     "inputWidgets": {},
     "nuid": "f93517e0-3cac-4e37-ac6f-1269d2faa983",
     "showTitle": false,
     "tableResultSettingsMap": {},
     "title": ""
    }
   },
   "outputs": [],
   "source": [
    "# Join datasets\n",
    "# Condition 1 = Join Emp and Dept based on dept id and active record\n",
    "\n",
    "# Create a list of conditions\n",
    "join_cond = [df_emp.dept_id == df_dept.id, df_emp.active == 1]\n",
    "\n",
    "df_join_1 = df_emp.join(df_dept, how=\"left_outer\", on=join_cond)\n",
    "df_join_1.show()"
   ]
  },
  {
   "cell_type": "code",
   "execution_count": 0,
   "metadata": {
    "application/vnd.databricks.v1+cell": {
     "cellMetadata": {},
     "inputWidgets": {},
     "nuid": "8f3b9415-b487-4fe5-8050-3a3d417a8581",
     "showTitle": false,
     "tableResultSettingsMap": {},
     "title": ""
    }
   },
   "outputs": [],
   "source": [
    "# Condition 2 = Join Emp and Dept based on dept id only\n",
    "\n",
    "df_join_2 = df_emp.join(df_dept, how=\"left_outer\", on=join_cond[0])\n",
    "df_join_2.show()"
   ]
  },
  {
   "cell_type": "code",
   "execution_count": 0,
   "metadata": {
    "application/vnd.databricks.v1+cell": {
     "cellMetadata": {},
     "inputWidgets": {},
     "nuid": "ceb315b6-9dd4-4222-ac59-1e418b12923d",
     "showTitle": false,
     "tableResultSettingsMap": {},
     "title": ""
    }
   },
   "outputs": [],
   "source": [
    "# Condition 3 = Join Emp and Dept based on dept id and active record = 1 or salary > 5000\n",
    "\n",
    "# Create a list of conditions\n",
    "join_cond = [df_emp.dept_id == df_dept.id, ((df_emp.active == 1) | (df_emp.salary > 5000))]\n",
    "\n",
    "df_join_3 = df_emp.join(df_dept, how=\"left_outer\", on=join_cond)\n",
    "df_join_3.show()"
   ]
  },
  {
   "cell_type": "code",
   "execution_count": 0,
   "metadata": {
    "application/vnd.databricks.v1+cell": {
     "cellMetadata": {},
     "inputWidgets": {},
     "nuid": "7dc49077-025f-4834-baa2-95ec9f8353ec",
     "showTitle": false,
     "tableResultSettingsMap": {},
     "title": ""
    }
   },
   "outputs": [],
   "source": [
    "# Condition 4 = Join Emp and Dept based on dept id and active record = 1 and salary > 5000\n",
    "\n",
    "# Create a list of conditions\n",
    "join_cond = [df_emp.dept_id == df_dept.id, df_emp.active == 1, df_emp.salary > 5000]\n",
    "\n",
    "df_join_4 = df_emp.join(df_dept, how=\"left_outer\", on=join_cond)\n",
    "df_join_4.show()"
   ]
  },
  {
   "cell_type": "code",
   "execution_count": 0,
   "metadata": {
    "application/vnd.databricks.v1+cell": {
     "cellMetadata": {},
     "inputWidgets": {},
     "nuid": "5c89ac46-5d05-4ec9-8110-d73cb625792a",
     "showTitle": false,
     "tableResultSettingsMap": {},
     "title": ""
    }
   },
   "outputs": [],
   "source": [
    "# Condition 4 = Join Emp and Dept based on dept id and active record = 1\n",
    "# Joining condition\n",
    "join_cond = [df_emp.dept_id == df_dept.id, df_emp.active == 1, df_emp.salary > 5000]\n",
    "\n",
    "df_join_5 = df_emp.join(df_dept, how=\"left_outer\", on=join_cond[:2])\n",
    "df_join_5.show()"
   ]
  },
  {
   "cell_type": "code",
   "execution_count": 0,
   "metadata": {
    "application/vnd.databricks.v1+cell": {
     "cellMetadata": {},
     "inputWidgets": {},
     "nuid": "c3e6c25c-ee53-4ea9-b0d8-b075d5ab15fd",
     "showTitle": false,
     "tableResultSettingsMap": {},
     "title": ""
    }
   },
   "outputs": [],
   "source": []
  }
 ],
 "metadata": {
  "application/vnd.databricks.v1+notebook": {
   "computePreferences": null,
   "dashboards": [],
   "environmentMetadata": null,
   "inputWidgetPreferences": null,
   "language": "python",
   "notebookMetadata": {},
   "notebookName": "35_join_on_multiple_conditions",
   "widgets": {}
  },
  "kernelspec": {
   "display_name": "Python 3 (ipykernel)",
   "language": "python",
   "name": "python3"
  },
  "language_info": {
   "name": "python"
  }
 },
 "nbformat": 4,
 "nbformat_minor": 0
}
