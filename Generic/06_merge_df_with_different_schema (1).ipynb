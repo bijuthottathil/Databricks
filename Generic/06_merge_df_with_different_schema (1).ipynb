{
 "cells": [
  {
   "cell_type": "markdown",
   "metadata": {
    "application/vnd.databricks.v1+cell": {
     "cellMetadata": {},
     "inputWidgets": {},
     "nuid": "f83f4760-d8ec-4f1d-9e83-d5f74ea89195",
     "showTitle": false,
     "tableResultSettingsMap": {},
     "title": ""
    }
   },
   "source": [
    "# Merge two dataframe with different schema"
   ]
  },
  {
   "cell_type": "code",
   "execution_count": 0,
   "metadata": {
    "application/vnd.databricks.v1+cell": {
     "cellMetadata": {},
     "inputWidgets": {},
     "nuid": "592f2c2d-a4e5-4b33-81ff-d569ba7c175c",
     "showTitle": false,
     "tableResultSettingsMap": {},
     "title": ""
    }
   },
   "outputs": [],
   "source": [
    "# Create Spark Session\n",
    "\n",
    "from pyspark.sql import SparkSession\n",
    "\n",
    "spark = SparkSession \\\n",
    "    .builder \\\n",
    "    .appName(\"Merge Data Frames\") \\\n",
    "    .master(\"local[*]\") \\\n",
    "    .getOrCreate()\n",
    "\n",
    "spark"
   ]
  },
  {
   "cell_type": "code",
   "execution_count": 0,
   "metadata": {
    "application/vnd.databricks.v1+cell": {
     "cellMetadata": {},
     "inputWidgets": {},
     "nuid": "b68f1a26-bfbf-4cac-b7d6-47cafa8e6de8",
     "showTitle": false,
     "tableResultSettingsMap": {},
     "title": ""
    }
   },
   "outputs": [],
   "source": [
    "# Example DataFrame 1\n",
    "_data = [\n",
    "    [\"C101\", \"Akshay\", 21, \"22-10-2001\"],\n",
    "    [\"C102\", \"Sivay\", 20, \"07-09-2000\"],\n",
    "    [\"C103\", \"Aslam\", 23, \"04-05-1998\"],\n",
    "]\n",
    "\n",
    "_cols = [\"ID\", \"NAME\", \"AGE\", \"DOB\"]\n",
    "\n",
    "df_1 = spark.createDataFrame(data = _data, schema = _cols)\n",
    "df_1.printSchema()\n",
    "df_1.show(10, False)"
   ]
  },
  {
   "cell_type": "code",
   "execution_count": 0,
   "metadata": {
    "application/vnd.databricks.v1+cell": {
     "cellMetadata": {},
     "inputWidgets": {},
     "nuid": "616f0752-6481-4299-9c2b-8a2f72eaf39b",
     "showTitle": false,
     "tableResultSettingsMap": {},
     "title": ""
    }
   },
   "outputs": [],
   "source": [
    "# Example DataFrame 2\n",
    "_data = [\n",
    "    [\"C106\", \"Suku\", \"Indore\", [\"Maths\", \"English\"]],\n",
    "    [\"C110\", \"Jack\", \"Mumbai\", [\"Maths\", \"English\", \"Science\"]],\n",
    "    [\"C113\", \"Gopi\", \"Rajkot\", [\"Social Science\"]],\n",
    "]\n",
    "\n",
    "_cols = [\"ID\", \"NAME\", \"ADDRESS\", \"SUBJECTS\"]\n",
    "\n",
    "df_2 = spark.createDataFrame(data = _data, schema = _cols)\n",
    "df_2.printSchema()\n",
    "df_2.show(10, False)"
   ]
  },
  {
   "cell_type": "code",
   "execution_count": 0,
   "metadata": {
    "application/vnd.databricks.v1+cell": {
     "cellMetadata": {},
     "inputWidgets": {},
     "nuid": "c6a7f0ec-f500-4b94-8197-2aaec7beeae9",
     "showTitle": false,
     "tableResultSettingsMap": {},
     "title": ""
    }
   },
   "outputs": [],
   "source": [
    "# Now before we can merge the dataframes we have to add the extra columns from either dataframes\n",
    "from pyspark.sql.functions import lit\n",
    "\n",
    "# Lets add missing columns from df_2 to df_1\n",
    "for col in df_2.columns:\n",
    "    if col not in df_1.columns:\n",
    "        df_1 = df_1.withColumn(col, lit(None))\n",
    "        \n",
    "# Lets add missing columns from df_1 to df_2\n",
    "for col in df_1.columns:\n",
    "    if col not in df_2.columns:\n",
    "        df_2 = df_2.withColumn(col, lit(None))\n",
    "        \n",
    "# View the dataframes\n",
    "df_1.show()\n",
    "df_2.show()"
   ]
  },
  {
   "cell_type": "code",
   "execution_count": 0,
   "metadata": {
    "application/vnd.databricks.v1+cell": {
     "cellMetadata": {},
     "inputWidgets": {},
     "nuid": "1e60347b-137f-4091-8846-be4c8246762d",
     "showTitle": false,
     "tableResultSettingsMap": {},
     "title": ""
    }
   },
   "outputs": [],
   "source": [
    "# Lets use unionByName to do the merge successfully\n",
    "df = df_1.unionByName(df_2)\n",
    "df.printSchema()\n",
    "df.show(10, False)"
   ]
  }
 ],
 "metadata": {
  "application/vnd.databricks.v1+notebook": {
   "computePreferences": null,
   "dashboards": [],
   "environmentMetadata": null,
   "inputWidgetPreferences": null,
   "language": "python",
   "notebookMetadata": {},
   "notebookName": "06_merge_df_with_different_schema (1)",
   "widgets": {}
  },
  "kernelspec": {
   "display_name": "Python 3 (ipykernel)",
   "language": "python",
   "name": "python3"
  },
  "language_info": {
   "name": "python"
  }
 },
 "nbformat": 4,
 "nbformat_minor": 0
}
