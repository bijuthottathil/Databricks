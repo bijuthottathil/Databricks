{
 "cells": [
  {
   "cell_type": "markdown",
   "metadata": {
    "application/vnd.databricks.v1+cell": {
     "cellMetadata": {},
     "inputWidgets": {},
     "nuid": "651c92f6-186c-4531-83c7-6ea017db1b4e",
     "showTitle": false,
     "tableResultSettingsMap": {},
     "title": ""
    }
   },
   "source": [
    "### The effects of Multiline"
   ]
  },
  {
   "cell_type": "code",
   "execution_count": 0,
   "metadata": {
    "application/vnd.databricks.v1+cell": {
     "cellMetadata": {},
     "inputWidgets": {},
     "nuid": "88870bbc-3549-4a8e-b15f-20ea5910cfee",
     "showTitle": false,
     "tableResultSettingsMap": {},
     "title": ""
    }
   },
   "outputs": [],
   "source": [
    "# Create Spark Session\n",
    "\n",
    "from pyspark.sql import SparkSession\n",
    "\n",
    "spark = SparkSession \\\n",
    "    .builder \\\n",
    "    .appName(\"Multiline Functionality\") \\\n",
    "    .master(\"local[*]\") \\\n",
    "    .getOrCreate()\n",
    "\n",
    "spark"
   ]
  },
  {
   "cell_type": "code",
   "execution_count": 0,
   "metadata": {
    "application/vnd.databricks.v1+cell": {
     "cellMetadata": {},
     "inputWidgets": {},
     "nuid": "58bddca7-8907-4ab8-9e5e-8a06b05dd524",
     "showTitle": false,
     "tableResultSettingsMap": {},
     "title": ""
    }
   },
   "outputs": [],
   "source": [
    "# Lets read the Multiline JSON\n",
    "from pyspark.sql.functions import explode\n",
    "\n",
    "df_json_multiline = spark \\\n",
    "    .read \\\n",
    "    .option(\"multiLine\", True) \\\n",
    "    .format(\"json\") \\\n",
    "    .load(\"dataset/orders_json/orders_json_multiline.json\")\n",
    "\n",
    "df_json_multiline.printSchema()\n",
    "\n",
    "# Lets perform explode operation\n",
    "df_temp = df_json_multiline.withColumn(\"orders\", explode(\"orders\"))\n",
    "\n",
    "# Write with for performance benchmarking\n",
    "df_temp.write.format(\"parquet\").mode(\"overwrite\").save(\"dataset/orders_json/output/parquet_1\")"
   ]
  },
  {
   "cell_type": "code",
   "execution_count": 0,
   "metadata": {
    "application/vnd.databricks.v1+cell": {
     "cellMetadata": {},
     "inputWidgets": {},
     "nuid": "ed5e19cb-9b74-400d-a683-6286fb2e52bc",
     "showTitle": false,
     "tableResultSettingsMap": {},
     "title": ""
    }
   },
   "outputs": [],
   "source": [
    "# Check number of partitions\n",
    "df_json_multiline.rdd.getNumPartitions()"
   ]
  },
  {
   "cell_type": "code",
   "execution_count": 0,
   "metadata": {
    "application/vnd.databricks.v1+cell": {
     "cellMetadata": {},
     "inputWidgets": {},
     "nuid": "31356565-e86d-46c7-9239-4a107982243a",
     "showTitle": false,
     "tableResultSettingsMap": {},
     "title": ""
    }
   },
   "outputs": [],
   "source": [
    "# Lets read the SingleLine JSON\n",
    "from pyspark.sql.functions import explode\n",
    "\n",
    "df_json_singleline = spark \\\n",
    "    .read \\\n",
    "    .option(\"multiLine\", False) \\\n",
    "    .format(\"json\") \\\n",
    "    .load(\"dataset/orders_json/orders_json_singleline.json\")\n",
    "\n",
    "df_json_singleline.printSchema()\n",
    "\n",
    "# Lets perform explode operation\n",
    "df_temp = df_json_singleline.withColumn(\"orders\", explode(\"orders\"))\n",
    "\n",
    "# Write for performance benchmarking\n",
    "df_temp.write.format(\"parquet\").mode(\"overwrite\").save(\"dataset/orders_json/output/parquet_2\")"
   ]
  },
  {
   "cell_type": "code",
   "execution_count": 0,
   "metadata": {
    "application/vnd.databricks.v1+cell": {
     "cellMetadata": {},
     "inputWidgets": {},
     "nuid": "2d547e93-8338-4bd7-b98c-c466a7c547ef",
     "showTitle": false,
     "tableResultSettingsMap": {},
     "title": ""
    }
   },
   "outputs": [],
   "source": [
    "# Check number of partitions\n",
    "df_json_singleline.rdd.getNumPartitions()"
   ]
  },
  {
   "cell_type": "code",
   "execution_count": 0,
   "metadata": {
    "application/vnd.databricks.v1+cell": {
     "cellMetadata": {},
     "inputWidgets": {},
     "nuid": "a8ad927c-0ce1-47ae-b81e-29a85e1ee032",
     "showTitle": false,
     "tableResultSettingsMap": {},
     "title": ""
    }
   },
   "outputs": [],
   "source": [
    "spark.stop()"
   ]
  },
  {
   "cell_type": "code",
   "execution_count": 0,
   "metadata": {
    "application/vnd.databricks.v1+cell": {
     "cellMetadata": {},
     "inputWidgets": {},
     "nuid": "4dc1939a-d0dd-4539-86f4-7f3a0b4c9064",
     "showTitle": false,
     "tableResultSettingsMap": {},
     "title": ""
    }
   },
   "outputs": [],
   "source": []
  }
 ],
 "metadata": {
  "application/vnd.databricks.v1+notebook": {
   "computePreferences": null,
   "dashboards": [],
   "environmentMetadata": null,
   "inputWidgetPreferences": null,
   "language": "python",
   "notebookMetadata": {},
   "notebookName": "37_the_effect_of_multiline",
   "widgets": {}
  },
  "kernelspec": {
   "display_name": "Python 3 (ipykernel)",
   "language": "python",
   "name": "python3"
  },
  "language_info": {
   "name": "python"
  }
 },
 "nbformat": 4,
 "nbformat_minor": 0
}
