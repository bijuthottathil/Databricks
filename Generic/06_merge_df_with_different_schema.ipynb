{
 "cells": [
  {
   "cell_type": "markdown",
   "metadata": {
    "application/vnd.databricks.v1+cell": {
     "cellMetadata": {},
     "inputWidgets": {},
     "nuid": "8884c25c-0864-4e84-ac8a-69d001931dda",
     "showTitle": false,
     "tableResultSettingsMap": {},
     "title": ""
    }
   },
   "source": [
    "# Merge two dataframe with different schema"
   ]
  },
  {
   "cell_type": "code",
   "execution_count": 0,
   "metadata": {
    "application/vnd.databricks.v1+cell": {
     "cellMetadata": {},
     "inputWidgets": {},
     "nuid": "9657bab6-a398-43c6-b243-daa758f3ab36",
     "showTitle": false,
     "tableResultSettingsMap": {},
     "title": ""
    }
   },
   "outputs": [],
   "source": [
    "# Create Spark Session\n",
    "\n",
    "from pyspark.sql import SparkSession\n",
    "\n",
    "spark = SparkSession \\\n",
    "    .builder \\\n",
    "    .appName(\"Merge Data Frames\") \\\n",
    "    .master(\"local[*]\") \\\n",
    "    .getOrCreate()\n",
    "\n",
    "spark"
   ]
  },
  {
   "cell_type": "code",
   "execution_count": 0,
   "metadata": {
    "application/vnd.databricks.v1+cell": {
     "cellMetadata": {},
     "inputWidgets": {},
     "nuid": "47012b2c-759a-41d4-acd7-e5df008cfa1f",
     "showTitle": false,
     "tableResultSettingsMap": {},
     "title": ""
    }
   },
   "outputs": [],
   "source": [
    "# Example DataFrame 1\n",
    "_data = [\n",
    "    [\"C101\", \"Akshay\", 21, \"22-10-2001\"],\n",
    "    [\"C102\", \"Sivay\", 20, \"07-09-2000\"],\n",
    "    [\"C103\", \"Aslam\", 23, \"04-05-1998\"],\n",
    "]\n",
    "\n",
    "_cols = [\"ID\", \"NAME\", \"AGE\", \"DOB\"]\n",
    "\n",
    "df_1 = spark.createDataFrame(data = _data, schema = _cols)\n",
    "df_1.printSchema()\n",
    "df_1.show(10, False)"
   ]
  },
  {
   "cell_type": "code",
   "execution_count": 0,
   "metadata": {
    "application/vnd.databricks.v1+cell": {
     "cellMetadata": {},
     "inputWidgets": {},
     "nuid": "a3642046-addc-48c3-baa0-693255442273",
     "showTitle": false,
     "tableResultSettingsMap": {},
     "title": ""
    }
   },
   "outputs": [],
   "source": [
    "# Example DataFrame 2\n",
    "_data = [\n",
    "    [\"C106\", \"Suku\", \"Indore\", [\"Maths\", \"English\"]],\n",
    "    [\"C110\", \"Jack\", \"Mumbai\", [\"Maths\", \"English\", \"Science\"]],\n",
    "    [\"C113\", \"Gopi\", \"Rajkot\", [\"Social Science\"]],\n",
    "]\n",
    "\n",
    "_cols = [\"ID\", \"NAME\", \"ADDRESS\", \"SUBJECTS\"]\n",
    "\n",
    "df_2 = spark.createDataFrame(data = _data, schema = _cols)\n",
    "df_2.printSchema()\n",
    "df_2.show(10, False)"
   ]
  },
  {
   "cell_type": "code",
   "execution_count": 0,
   "metadata": {
    "application/vnd.databricks.v1+cell": {
     "cellMetadata": {},
     "inputWidgets": {},
     "nuid": "07499292-a9f7-4d39-8e59-8e2e9d85adb4",
     "showTitle": false,
     "tableResultSettingsMap": {},
     "title": ""
    }
   },
   "outputs": [],
   "source": [
    "# Now before we can merge the dataframes we have to add the extra columns from either dataframes\n",
    "from pyspark.sql.functions import lit\n",
    "\n",
    "# Lets add missing columns from df_2 to df_1\n",
    "for col in df_2.columns:\n",
    "    if col not in df_1.columns:\n",
    "        df_1 = df_1.withColumn(col, lit(None))\n",
    "        \n",
    "# Lets add missing columns from df_1 to df_2\n",
    "for col in df_1.columns:\n",
    "    if col not in df_2.columns:\n",
    "        df_2 = df_2.withColumn(col, lit(None))\n",
    "        \n",
    "# View the dataframes\n",
    "df_1.show()\n",
    "df_2.show()"
   ]
  },
  {
   "cell_type": "code",
   "execution_count": 0,
   "metadata": {
    "application/vnd.databricks.v1+cell": {
     "cellMetadata": {},
     "inputWidgets": {},
     "nuid": "35dbca7b-879a-439c-bc31-ccf56a401146",
     "showTitle": false,
     "tableResultSettingsMap": {},
     "title": ""
    }
   },
   "outputs": [],
   "source": [
    "# Lets use unionByName to do the merge successfully\n",
    "df = df_1.unionByName(df_2)\n",
    "df.printSchema()\n",
    "df.show(10, False)"
   ]
  }
 ],
 "metadata": {
  "application/vnd.databricks.v1+notebook": {
   "computePreferences": null,
   "dashboards": [],
   "environmentMetadata": null,
   "inputWidgetPreferences": null,
   "language": "python",
   "notebookMetadata": {},
   "notebookName": "06_merge_df_with_different_schema",
   "widgets": {}
  },
  "kernelspec": {
   "display_name": "Python 3 (ipykernel)",
   "language": "python",
   "name": "python3"
  },
  "language_info": {
   "name": "python"
  }
 },
 "nbformat": 4,
 "nbformat_minor": 0
}
