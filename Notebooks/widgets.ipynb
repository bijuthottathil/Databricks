{
 "cells": [
  {
   "cell_type": "code",
   "execution_count": 0,
   "metadata": {
    "application/vnd.databricks.v1+cell": {
     "cellMetadata": {
      "byteLimit": 2048000,
      "rowLimit": 10000
     },
     "inputWidgets": {},
     "nuid": "fc4f9d7c-69f0-4072-ade1-189b5e4cf2f1",
     "showTitle": false,
     "tableResultSettingsMap": {},
     "title": ""
    }
   },
   "outputs": [],
   "source": [
    "# Text widget\n",
    "dbutils.widgets.text(\"input_path\", \"/Volumes/workspace/default/my_volume/sales_data.csv\", \"Input CSV Path\")\n",
    "\n",
    "# Dropdown widget\n",
    "dbutils.widgets.dropdown(\"file_format\", \"csv\", [\"csv\", \"json\", \"parquet\"], \"File Format\")\n",
    "\n",
    "# Combobox widget (allows text input + options)\n",
    "dbutils.widgets.combobox(\"table_name\", \"sales_table\", [\"sales_table\", \"inventory_table\"], \"Target Table\")\n",
    "\n",
    "# Date widget\n",
    "dbutils.widgets.text(\"process_date\", \"2025-07-01\", \"Process Date\")\n"
   ]
  },
  {
   "cell_type": "code",
   "execution_count": 0,
   "metadata": {
    "application/vnd.databricks.v1+cell": {
     "cellMetadata": {
      "byteLimit": 2048000,
      "rowLimit": 10000
     },
     "inputWidgets": {},
     "nuid": "63b55d9d-b353-4e44-b49c-8dfe4464d72a",
     "showTitle": false,
     "tableResultSettingsMap": {},
     "title": ""
    }
   },
   "outputs": [],
   "source": [
    "input_path = dbutils.widgets.get(\"input_path\")\n",
    "file_format = dbutils.widgets.get(\"file_format\")\n",
    "table_name = dbutils.widgets.get(\"table_name\")\n",
    "process_date = dbutils.widgets.get(\"process_date\")\n",
    "\n",
    "print(f\"Reading from: {input_path}\")\n",
    "print(f\"Format: {file_format}\")\n",
    "print(f\"Target Table: {table_name}\")\n",
    "print(f\"Process Date: {process_date}\")\n"
   ]
  },
  {
   "cell_type": "code",
   "execution_count": 0,
   "metadata": {
    "application/vnd.databricks.v1+cell": {
     "cellMetadata": {
      "byteLimit": 2048000,
      "rowLimit": 10000
     },
     "inputWidgets": {},
     "nuid": "824e6527-423b-4269-b0e6-77c8b2f5eff9",
     "showTitle": false,
     "tableResultSettingsMap": {},
     "title": ""
    }
   },
   "outputs": [],
   "source": [
    "from pyspark.sql.functions import lit\n",
    "\n",
    "\n",
    "file_format = \"csv\"\n",
    "process_date = \"2023-10-01\"  # Example process date\n",
    "\n",
    "df = spark.read.format(\"csv\").option(\"header\", \"true\") \\\n",
    ".option(\"inferSchema\", \"true\") \\\n",
    ".load(input_path) \n",
    "\n",
    "df.show()"
   ]
  },
  {
   "cell_type": "code",
   "execution_count": 0,
   "metadata": {
    "application/vnd.databricks.v1+cell": {
     "cellMetadata": {
      "byteLimit": 2048000,
      "rowLimit": 10000
     },
     "inputWidgets": {},
     "nuid": "ccfa8c54-4a87-4a2b-b7d8-b78de8320f95",
     "showTitle": false,
     "tableResultSettingsMap": {},
     "title": ""
    }
   },
   "outputs": [],
   "source": [
    "df.write.mode(\"overwrite\").saveAsTable(table_name)"
   ]
  },
  {
   "cell_type": "code",
   "execution_count": 0,
   "metadata": {
    "application/vnd.databricks.v1+cell": {
     "cellMetadata": {
      "byteLimit": 2048000,
      "implicitDf": true,
      "rowLimit": 10000
     },
     "inputWidgets": {},
     "nuid": "67c3bbfd-b9ae-425a-86ec-c32fcfe2e3a2",
     "showTitle": false,
     "tableResultSettingsMap": {},
     "title": ""
    }
   },
   "outputs": [],
   "source": [
    "%sql\n",
    "select * from sales_table"
   ]
  },
  {
   "cell_type": "code",
   "execution_count": 0,
   "metadata": {
    "application/vnd.databricks.v1+cell": {
     "cellMetadata": {
      "byteLimit": 2048000,
      "implicitDf": true,
      "rowLimit": 10000
     },
     "inputWidgets": {},
     "nuid": "090dc1fa-1d52-4cea-bfe9-4d6fe95f51bc",
     "showTitle": false,
     "tableResultSettingsMap": {},
     "title": ""
    }
   },
   "outputs": [],
   "source": [
    "%sql\n",
    "describe table bijucatalog.bijubronzeschema.sales_table"
   ]
  }
 ],
 "metadata": {
  "application/vnd.databricks.v1+notebook": {
   "computePreferences": null,
   "dashboards": [],
   "environmentMetadata": {
    "base_environment": "",
    "environment_version": "2"
   },
   "inputWidgetPreferences": null,
   "language": "python",
   "notebookMetadata": {
    "mostRecentlyExecutedCommandWithImplicitDF": {
     "commandId": 7611553317511092,
     "dataframes": [
      "_sqldf"
     ]
    },
    "pythonIndentUnit": 4
   },
   "notebookName": "widgets",
   "widgets": {
    "file_format": {
     "currentValue": "csv",
     "nuid": "07020d4d-b226-494f-8b09-32f0bfa0c613",
     "typedWidgetInfo": {
      "autoCreated": false,
      "defaultValue": "csv",
      "label": "File Format",
      "name": "file_format",
      "options": {
       "widgetDisplayType": "Dropdown",
       "choices": [
        "csv",
        "json",
        "parquet"
       ],
       "fixedDomain": true,
       "multiselect": false
      },
      "parameterDataType": "String"
     },
     "widgetInfo": {
      "widgetType": "dropdown",
      "defaultValue": "csv",
      "label": "File Format",
      "name": "file_format",
      "options": {
       "widgetType": "dropdown",
       "autoCreated": null,
       "choices": [
        "csv",
        "json",
        "parquet"
       ]
      }
     }
    },
    "input_path": {
     "currentValue": "/Volumes/workspace/default/my_volume/sales_data.csv",
     "nuid": "dad8bea0-d981-4bdd-828f-48a708b126be",
     "typedWidgetInfo": {
      "autoCreated": false,
      "defaultValue": "/Volumes/workspace/default/my_volume/sales_data.csv",
      "label": "Input CSV Path",
      "name": "input_path",
      "options": {
       "widgetDisplayType": "Text",
       "validationRegex": null
      },
      "parameterDataType": "String"
     },
     "widgetInfo": {
      "widgetType": "text",
      "defaultValue": "/Volumes/workspace/default/my_volume/sales_data.csv",
      "label": "Input CSV Path",
      "name": "input_path",
      "options": {
       "widgetType": "text",
       "autoCreated": null,
       "validationRegex": null
      }
     }
    },
    "process_date": {
     "currentValue": "2025-07-01",
     "nuid": "e945962e-e95d-4449-8842-3f02cb09383f",
     "typedWidgetInfo": {
      "autoCreated": false,
      "defaultValue": "2025-07-01",
      "label": "Process Date",
      "name": "process_date",
      "options": {
       "widgetDisplayType": "Text",
       "validationRegex": null
      },
      "parameterDataType": "String"
     },
     "widgetInfo": {
      "widgetType": "text",
      "defaultValue": "2025-07-01",
      "label": "Process Date",
      "name": "process_date",
      "options": {
       "widgetType": "text",
       "autoCreated": null,
       "validationRegex": null
      }
     }
    },
    "table_name": {
     "currentValue": "sales_table",
     "nuid": "ff825608-af13-4721-ac6e-9b2e6281cc0d",
     "typedWidgetInfo": {
      "autoCreated": false,
      "defaultValue": "sales_table",
      "label": "Target Table",
      "name": "table_name",
      "options": {
       "widgetDisplayType": "Dropdown",
       "choices": [
        "sales_table",
        "inventory_table"
       ],
       "fixedDomain": false,
       "multiselect": false
      },
      "parameterDataType": "String"
     },
     "widgetInfo": {
      "widgetType": "combobox",
      "defaultValue": "sales_table",
      "label": "Target Table",
      "name": "table_name",
      "options": {
       "widgetType": "dropdown",
       "autoCreated": null,
       "choices": [
        "sales_table",
        "inventory_table"
       ]
      }
     }
    }
   }
  },
  "language_info": {
   "name": "python"
  }
 },
 "nbformat": 4,
 "nbformat_minor": 0
}
