{
 "cells": [
  {
   "cell_type": "code",
   "execution_count": 0,
   "metadata": {
    "application/vnd.databricks.v1+cell": {
     "cellMetadata": {
      "byteLimit": 2048000,
      "implicitDf": true,
      "rowLimit": 10000
     },
     "inputWidgets": {},
     "nuid": "029dfdfb-d7d8-4724-b1a4-cf5553ef8b7a",
     "showTitle": false,
     "tableResultSettingsMap": {},
     "title": ""
    }
   },
   "outputs": [],
   "source": [
    "%sql\n",
    "-- Bronze layer: Raw data ingestion\n",
    "CREATE OR REFRESH STREAMING TABLE taxi_raw_records \n",
    "(CONSTRAINT valid_distance EXPECT (trip_distance > 0.0) ON VIOLATION DROP ROW)\n",
    "AS SELECT *\n",
    "FROM STREAM(samples.nyctaxi.trips);\n"
   ]
  },
  {
   "cell_type": "code",
   "execution_count": 0,
   "metadata": {
    "application/vnd.databricks.v1+cell": {
     "cellMetadata": {},
     "inputWidgets": {},
     "nuid": "19b512e5-b931-47fa-be20-41c4898126d2",
     "showTitle": false,
     "tableResultSettingsMap": {},
     "title": ""
    }
   },
   "outputs": [],
   "source": [
    "\n",
    "-- Silver layer 1: Flagged rides\n",
    "CREATE OR REFRESH STREAMING TABLE flagged_rides \n",
    "AS SELECT\n",
    "  date_trunc(\"week\", tpep_pickup_datetime) as week,\n",
    "  pickup_zip as zip, \n",
    "  fare_amount, trip_distance\n",
    "FROM\n",
    "  STREAM(LIVE.taxi_raw_records)\n",
    "WHERE ((pickup_zip = dropoff_zip AND fare_amount > 50) OR\n",
    "       (trip_distance < 5 AND fare_amount > 50));\n",
    "\n"
   ]
  },
  {
   "cell_type": "code",
   "execution_count": 0,
   "metadata": {
    "application/vnd.databricks.v1+cell": {
     "cellMetadata": {},
     "inputWidgets": {},
     "nuid": "c8265a65-3e2d-40c5-8048-511ad9f98671",
     "showTitle": false,
     "tableResultSettingsMap": {},
     "title": ""
    }
   },
   "outputs": [],
   "source": [
    "-- Silver layer 2: Weekly statistics\n",
    "CREATE OR REFRESH MATERIALIZED VIEW weekly_stats\n",
    "AS SELECT\n",
    "  date_trunc(\"week\", tpep_pickup_datetime) as week,\n",
    "  AVG(fare_amount) as avg_amount,\n",
    "  AVG(trip_distance) as avg_distance\n",
    "FROM\n",
    " live.taxi_raw_records\n",
    "GROUP BY week\n",
    "ORDER BY week ASC;\n",
    "\n"
   ]
  },
  {
   "cell_type": "code",
   "execution_count": 0,
   "metadata": {
    "application/vnd.databricks.v1+cell": {
     "cellMetadata": {},
     "inputWidgets": {},
     "nuid": "f9aa9dd8-c173-4cb9-a2bb-c4fb28c580a6",
     "showTitle": false,
     "tableResultSettingsMap": {},
     "title": ""
    }
   },
   "outputs": [],
   "source": [
    "-- Gold layer: Top N rides to investigate\n",
    "CREATE OR REPLACE MATERIALIZED VIEW top_n\n",
    "AS SELECT\n",
    "  weekly_stats.week,\n",
    "  ROUND(avg_amount,2) as avg_amount, \n",
    "  ROUND(avg_distance,3) as avg_distance,\n",
    "  fare_amount, trip_distance, zip \n",
    "FROM live.flagged_rides\n",
    "LEFT JOIN live.weekly_stats ON weekly_stats.week = flagged_rides.week\n",
    "ORDER BY fare_amount DESC\n",
    "LIMIT 3;"
   ]
  }
 ],
 "metadata": {
  "application/vnd.databricks.v1+notebook": {
   "computePreferences": null,
   "dashboards": [],
   "environmentMetadata": {
    "base_environment": "",
    "environment_version": "2"
   },
   "inputWidgetPreferences": null,
   "language": "python",
   "notebookMetadata": {
    "mostRecentlyExecutedCommandWithImplicitDF": {
     "commandId": 5593635072187195,
     "dataframes": [
      "_sqldf"
     ]
    },
    "pythonIndentUnit": 4
   },
   "notebookName": "dltpipenew",
   "widgets": {}
  },
  "language_info": {
   "name": "python"
  }
 },
 "nbformat": 4,
 "nbformat_minor": 0
}
