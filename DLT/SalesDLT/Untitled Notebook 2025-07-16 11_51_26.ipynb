{
 "cells": [
  {
   "cell_type": "code",
   "execution_count": 0,
   "metadata": {
    "application/vnd.databricks.v1+cell": {
     "cellMetadata": {
      "byteLimit": 2048000,
      "rowLimit": 10000
     },
     "inputWidgets": {},
     "nuid": "5e34c29a-6c51-494d-8bab-ad2300349d2c",
     "showTitle": false,
     "tableResultSettingsMap": {},
     "title": ""
    }
   },
   "outputs": [],
   "source": [
    "source_path = \"s3://databricksbijubucketnew/raw/\"\n",
    "archive_base = \"s3://databricksbijubucketnew/archive/\"\n",
    "checkpoint = \"s3://databricksbijubucketnew/checkpoints/\""
   ]
  },
  {
   "cell_type": "code",
   "execution_count": 0,
   "metadata": {
    "application/vnd.databricks.v1+cell": {
     "cellMetadata": {
      "byteLimit": 2048000,
      "implicitDf": true,
      "rowLimit": 10000
     },
     "inputWidgets": {},
     "nuid": "0e5f9e68-a8c2-4327-9aa4-1fbd520d68cc",
     "showTitle": false,
     "tableResultSettingsMap": {},
     "title": ""
    }
   },
   "outputs": [],
   "source": [
    "%sql\n",
    "-- Databricks notebook source\n",
    "CREATE OR REFRESH STREAMING LIVE TABLE sales\n",
    "AS \n",
    "SELECT *, current_timestamp() AS ingestion_date\n",
    "FROM cloud_files(\n",
    "  \"s3://databricksbijubucketnew/sales\", \n",
    "  \"csv\",\n",
    "  map(\n",
    "    \"cloudFiles.useNotifications\", \"true\",\n",
    "    \"cloudFiles.schemaLocation\", \"s3://databricksbijubucketnew/sales/schema\"\n",
    "  )\n",
    ");\n"
   ]
  }
 ],
 "metadata": {
  "application/vnd.databricks.v1+notebook": {
   "computePreferences": null,
   "dashboards": [],
   "environmentMetadata": {
    "base_environment": "",
    "environment_version": "2"
   },
   "inputWidgetPreferences": null,
   "language": "python",
   "notebookMetadata": {
    "mostRecentlyExecutedCommandWithImplicitDF": {
     "commandId": 5348603105699766,
     "dataframes": [
      "_sqldf"
     ]
    },
    "pythonIndentUnit": 4
   },
   "notebookName": "Untitled Notebook 2025-07-16 11_51_26",
   "widgets": {}
  },
  "language_info": {
   "name": "python"
  }
 },
 "nbformat": 4,
 "nbformat_minor": 0
}
