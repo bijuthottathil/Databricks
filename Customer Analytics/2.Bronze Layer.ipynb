{
 "cells": [
  {
   "cell_type": "code",
   "execution_count": 0,
   "metadata": {
    "application/vnd.databricks.v1+cell": {
     "cellMetadata": {
      "byteLimit": 2048000,
      "rowLimit": 10000
     },
     "inputWidgets": {},
     "nuid": "28696db1-b3a0-4863-8318-47d818700f44",
     "showTitle": false,
     "tableResultSettingsMap": {},
     "title": ""
    }
   },
   "outputs": [],
   "source": [
    "%python\n",
    "# This notebook is designed to be run as a Delta Live Tables (DLT) pipeline.\n",
    "# It implements a Medallion Architecture (Bronze, Silver, Gold) for customer analytics.\n",
    "import dlt\n",
    "from pyspark.sql.functions import *\n",
    "from pyspark.sql.types import *"
   ]
  },
  {
   "cell_type": "code",
   "execution_count": 0,
   "metadata": {
    "application/vnd.databricks.v1+cell": {
     "cellMetadata": {
      "byteLimit": 2048000,
      "rowLimit": 10000
     },
     "inputWidgets": {},
     "nuid": "5b63d47c-e5a9-406b-87e2-98e3ee3f63fd",
     "showTitle": false,
     "tableResultSettingsMap": {},
     "title": ""
    }
   },
   "outputs": [],
   "source": [
    "%python\n",
    "from pyspark.sql.types import StructType, StructField, StringType\n",
    "raw_data_path = \"abfss://rawanalytics@adlsexternalfororders.dfs.core.windows.net/\"\n",
    "bronze_table_name = \"analyticscatalog .analytics_bronze_schema.bronze_customer_master\"\n",
    "\n",
    "# Define the schema for the customer master data\n",
    "customer_master_schema = StructType([\n",
    "    StructField(\"customer_id\", StringType(), True),\n",
    "    StructField(\"customer_name\", StringType(), True),\n",
    "    StructField(\"customer_email\", StringType(), True)\n",
    "])\n",
    "\n",
    "@dlt.table(\n",
    "  comment = \"Raw customer master data from CSV, ingested into Bronze.\",\n",
    "  table_properties ={\"quality\": \"bronze\"}\n",
    ")   \n",
    "def bronze_customer_master():\n",
    "  return (\n",
    "    spark.readStream.format(\"cloudFiles\")          # Auto Loader for incremental data processing\n",
    "    .option(\"cloudFiles.format\", \"csv\")\n",
    "    .option(\"cloudFiles.schemaLocation\", f\"{raw_data_path}/rawanalytics/checkpoints/customer_master_bronze\")\n",
    "    .schema(customer_master_schema)                # Provide the schema explicitly\n",
    "    .load(f\"{raw_data_path}/customer_master.csv\")\n",
    "    .select(\n",
    "      col(\"customer_id\").cast(StringType()).alias(\"customer_id\"),\n",
    "      col(\"customer_name\").cast(StringType()).alias(\"customer_name\"),\n",
    "      col(\"customer_email\").cast(StringType()).alias(\"customer_email\"),\n",
    "      current_timestamp().alias(\"processing_timestamp\"), # Add ingestion timestamp\n",
    "      input_file_name().alias(\"source_file\")             # Track source file    \n",
    "    )\n",
    "  )"
   ]
  },
  {
   "cell_type": "code",
   "execution_count": 0,
   "metadata": {
    "application/vnd.databricks.v1+cell": {
     "cellMetadata": {},
     "inputWidgets": {},
     "nuid": "4309c532-982e-4d1a-bb40-3d1dcce1f9d7",
     "showTitle": false,
     "tableResultSettingsMap": {},
     "title": ""
    }
   },
   "outputs": [],
   "source": []
  },
  {
   "cell_type": "code",
   "execution_count": 0,
   "metadata": {
    "application/vnd.databricks.v1+cell": {
     "cellMetadata": {},
     "inputWidgets": {},
     "nuid": "306a4278-bd10-4067-b1e8-7a55d3971462",
     "showTitle": false,
     "tableResultSettingsMap": {},
     "title": ""
    }
   },
   "outputs": [],
   "source": []
  },
  {
   "cell_type": "code",
   "execution_count": 0,
   "metadata": {
    "application/vnd.databricks.v1+cell": {
     "cellMetadata": {},
     "inputWidgets": {},
     "nuid": "76fece07-5775-453d-8b4e-1965eeaee287",
     "showTitle": false,
     "tableResultSettingsMap": {},
     "title": ""
    }
   },
   "outputs": [],
   "source": []
  }
 ],
 "metadata": {
  "application/vnd.databricks.v1+notebook": {
   "computePreferences": null,
   "dashboards": [],
   "environmentMetadata": {
    "base_environment": "",
    "environment_version": "2"
   },
   "inputWidgetPreferences": null,
   "language": "sql",
   "notebookMetadata": {
    "pythonIndentUnit": 4
   },
   "notebookName": "2.Bronze Layer",
   "widgets": {}
  },
  "language_info": {
   "name": "sql"
  }
 },
 "nbformat": 4,
 "nbformat_minor": 0
}
