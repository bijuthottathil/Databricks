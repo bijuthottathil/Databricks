{
 "cells": [
  {
   "cell_type": "code",
   "execution_count": 0,
   "metadata": {
    "application/vnd.databricks.v1+cell": {
     "cellMetadata": {
      "byteLimit": 2048000,
      "rowLimit": 10000
     },
     "inputWidgets": {},
     "nuid": "e4921c74-f98d-4e35-8c15-2405268137f4",
     "showTitle": false,
     "tableResultSettingsMap": {},
     "title": ""
    }
   },
   "outputs": [],
   "source": [
    "CREATE EXTERNAL LOCATION IF NOT EXISTS analyticscatalog\n",
    "URL 'abfss://analyticscatalog@adlsexternalfororders.dfs.core.windows.net/'\n",
    "WITH (STORAGE CREDENTIAL `azure_cred_devandtest`);\n",
    "\n",
    "CREATE CATALOG IF NOT EXISTS analyticscatalog MANAGED LOCATION 'abfss://analyticscatalog@adlsexternalfororders.dfs.core.windows.net/'"
   ]
  },
  {
   "cell_type": "code",
   "execution_count": 0,
   "metadata": {
    "application/vnd.databricks.v1+cell": {
     "cellMetadata": {
      "byteLimit": 2048000,
      "rowLimit": 10000
     },
     "inputWidgets": {},
     "nuid": "d9b66471-1847-4352-9d26-12f87d1bdbbc",
     "showTitle": false,
     "tableResultSettingsMap": {},
     "title": ""
    }
   },
   "outputs": [],
   "source": [
    "\n",
    "CREATE EXTERNAL LOCATION IF NOT EXISTS analytics_bronze\n",
    "URL 'abfss://analyticsbronze@adlsexternalfororders.dfs.core.windows.net/'\n",
    "WITH (STORAGE CREDENTIAL `azure_cred_devandtest`);"
   ]
  },
  {
   "cell_type": "code",
   "execution_count": 0,
   "metadata": {
    "application/vnd.databricks.v1+cell": {
     "cellMetadata": {
      "byteLimit": 2048000,
      "rowLimit": 10000
     },
     "inputWidgets": {},
     "nuid": "b1ae94fd-5ec8-4e9e-9626-f5e3aeb2168f",
     "showTitle": false,
     "tableResultSettingsMap": {},
     "title": ""
    }
   },
   "outputs": [],
   "source": [
    "CREATE EXTERNAL LOCATION IF NOT EXISTS analytics_silver\n",
    "URL 'abfss://analyticssilver@adlsexternalfororders.dfs.core.windows.net/'\n",
    "WITH (STORAGE CREDENTIAL `azure_cred_devandtest`);"
   ]
  },
  {
   "cell_type": "code",
   "execution_count": 0,
   "metadata": {
    "application/vnd.databricks.v1+cell": {
     "cellMetadata": {
      "byteLimit": 2048000,
      "rowLimit": 10000
     },
     "inputWidgets": {},
     "nuid": "b6170594-0a9c-45a7-a7ba-2542e48157e2",
     "showTitle": false,
     "tableResultSettingsMap": {},
     "title": ""
    }
   },
   "outputs": [],
   "source": [
    "CREATE EXTERNAL LOCATION IF NOT EXISTS analytics_gold\n",
    "URL 'abfss://analyticsgold@adlsexternalfororders.dfs.core.windows.net/'\n",
    "WITH (STORAGE CREDENTIAL `azure_cred_devandtest`);"
   ]
  },
  {
   "cell_type": "code",
   "execution_count": 0,
   "metadata": {
    "application/vnd.databricks.v1+cell": {
     "cellMetadata": {
      "byteLimit": 2048000,
      "rowLimit": 10000
     },
     "inputWidgets": {},
     "nuid": "1b8c78b2-64fa-42fc-b7e0-139469acdccd",
     "showTitle": false,
     "tableResultSettingsMap": {},
     "title": ""
    }
   },
   "outputs": [],
   "source": [
    "CREATE EXTERNAL LOCATION IF NOT EXISTS rawanalytics\n",
    "URL 'abfss://rawanalytics@adlsexternalfororders.dfs.core.windows.net/'\n",
    "WITH (STORAGE CREDENTIAL `azure_cred_devandtest`);"
   ]
  },
  {
   "cell_type": "code",
   "execution_count": 0,
   "metadata": {
    "application/vnd.databricks.v1+cell": {
     "cellMetadata": {
      "byteLimit": 2048000,
      "rowLimit": 10000
     },
     "inputWidgets": {},
     "nuid": "1efcb073-ebb1-4158-81bc-c07af1072a44",
     "showTitle": false,
     "tableResultSettingsMap": {},
     "title": ""
    }
   },
   "outputs": [],
   "source": [
    "USE CATALOG analyticscatalog ;\n",
    "\n",
    "-- COMMAND ----------\n",
    "-- DBTITLE 1,Step 2: Create Schemas (Databases) with Managed Locations\n",
    "-- Each schema will store its managed tables in the specified ADLS Gen2 path.\n",
    "-- Unity Catalog will manage the lifecycle of data stored in these locations.\n",
    "-- Rawdata Schema: For raw, untransformed data\n",
    "CREATE SCHEMA IF NOT EXISTS rawanalytics_schema\n",
    "MANAGED LOCATION 'abfss://rawanalytics@adlsexternalfororders.dfs.core.windows.net/';\n",
    "\n",
    "-- Bronze Schema: For raw data ingested, validated, and perhaps enriched with metadata\n",
    "CREATE SCHEMA IF NOT EXISTS analytics_bronze_schema\n",
    "MANAGED LOCATION 'abfss://analyticsbronze@adlsexternalfororders.dfs.core.windows.net/';\n",
    "\n",
    "-- Silver Schema: For cleaned, transformed, and potentially de-duplicated data\n",
    "CREATE SCHEMA IF NOT EXISTS analytics_silver_schema\n",
    "MANAGED LOCATION 'abfss://analyticssilver@adlsexternalfororders.dfs.core.windows.net/';\n",
    "\n",
    "-- Gold Schema: For aggregated, highly curated, and ready-for-consumption data\n",
    "CREATE SCHEMA IF NOT EXISTS analytics_gold_schema\n",
    "--LOCATION 'analyticscatalog/analyticsgold';\n",
    "MANAGED LOCATION 'abfss://analyticsgold@adlsexternalfororders.dfs.core.windows.net/';\n",
    "\n",
    "-- DBTITLE 1,Step 3: Verify the Catalog and Schemas\n",
    "-- Check that the catalog and schemas have been created\n",
    "SHOW CATALOGS;\n",
    "SHOW SCHEMAS IN analyticscatalog;"
   ]
  },
  {
   "cell_type": "code",
   "execution_count": 0,
   "metadata": {
    "application/vnd.databricks.v1+cell": {
     "cellMetadata": {},
     "inputWidgets": {},
     "nuid": "3a68183b-2fe6-4c16-80e2-fed57750f176",
     "showTitle": false,
     "tableResultSettingsMap": {},
     "title": ""
    }
   },
   "outputs": [],
   "source": []
  },
  {
   "cell_type": "code",
   "execution_count": 0,
   "metadata": {
    "application/vnd.databricks.v1+cell": {
     "cellMetadata": {},
     "inputWidgets": {},
     "nuid": "44302e01-41ba-4ead-88ca-d150cd45eb1c",
     "showTitle": false,
     "tableResultSettingsMap": {},
     "title": ""
    }
   },
   "outputs": [],
   "source": []
  }
 ],
 "metadata": {
  "application/vnd.databricks.v1+notebook": {
   "computePreferences": null,
   "dashboards": [],
   "environmentMetadata": {
    "base_environment": "",
    "environment_version": "2"
   },
   "inputWidgetPreferences": null,
   "language": "sql",
   "notebookMetadata": {
    "pythonIndentUnit": 4
   },
   "notebookName": "1.Setup Environment",
   "widgets": {}
  },
  "language_info": {
   "name": "sql"
  }
 },
 "nbformat": 4,
 "nbformat_minor": 0
}
