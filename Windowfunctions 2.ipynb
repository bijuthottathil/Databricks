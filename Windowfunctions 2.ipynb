{
 "cells": [
  {
   "cell_type": "code",
   "execution_count": 0,
   "metadata": {
    "application/vnd.databricks.v1+cell": {
     "cellMetadata": {
      "byteLimit": 2048000,
      "rowLimit": 10000
     },
     "inputWidgets": {},
     "nuid": "aeafa19d-82ed-4e4c-a7c9-c078b13569ae",
     "showTitle": false,
     "tableResultSettingsMap": {},
     "title": ""
    }
   },
   "outputs": [],
   "source": [
    "from pyspark.sql import SparkSession\n",
    "from pyspark.sql.window import Window\n",
    "from pyspark.sql.functions import *\n"
   ]
  },
  {
   "cell_type": "code",
   "execution_count": 0,
   "metadata": {
    "application/vnd.databricks.v1+cell": {
     "cellMetadata": {
      "byteLimit": 2048000,
      "rowLimit": 10000
     },
     "inputWidgets": {},
     "nuid": "a4c218f5-bf75-460e-9710-32b9f44358a9",
     "showTitle": false,
     "tableResultSettingsMap": {},
     "title": ""
    }
   },
   "outputs": [],
   "source": [
    "spark=SparkSession.builder.appName(\"Window Functions\").getOrCreate()\n",
    "#EmpSchema=StructType[\"id\",\"name\",\"salary\"]\n",
    "header=[\"id\",\"name\",\"salary\",\"department_id\"]\n",
    "data=[(\"1\",\"Joe\",8500,1),(\"2\",\"Henry\",80000,2),(\"3\",\"Sam\",60000,2),(\"4\",\"Max\",90000,1),(\"5\",\"Janet\",69000,1),(\"6\",\"Randy\",85000,1),(\"7\",\"Will\",70000,1) ]\n",
    "\n",
    "dfEmployee=spark.createDataFrame(data,header)\n",
    "display(dfEmployee)\n"
   ]
  },
  {
   "cell_type": "code",
   "execution_count": 0,
   "metadata": {
    "application/vnd.databricks.v1+cell": {
     "cellMetadata": {
      "byteLimit": 2048000,
      "rowLimit": 10000
     },
     "inputWidgets": {},
     "nuid": "c8b492fa-74f3-4788-a72e-47ead546f583",
     "showTitle": false,
     "tableResultSettingsMap": {},
     "title": ""
    }
   },
   "outputs": [],
   "source": [
    "header=[\"id\",\"data\"]\n",
    "data=[(1,\"IT\"),(2,\"Sales\")]\n",
    "#dfDepartment=spark.createDataFrame(data,header)\n",
    "#display(dfDepartment),2,\"Sales\"  )]\n",
    "dfDepartment=spark.createDataFrame(data,header)\n",
    "display(dfDepartment)\n"
   ]
  },
  {
   "cell_type": "code",
   "execution_count": 0,
   "metadata": {
    "application/vnd.databricks.v1+cell": {
     "cellMetadata": {
      "byteLimit": 2048000,
      "rowLimit": 10000
     },
     "inputWidgets": {},
     "nuid": "704a7fb2-9c96-4e47-b300-051cbf88b2ae",
     "showTitle": false,
     "tableResultSettingsMap": {},
     "title": ""
    }
   },
   "outputs": [],
   "source": [
    "windowspec=Window.partitionBy(\"department_id\",\"salary\").orderBy(col(\"id\").desc())\n",
    "dfEmployeenew=dfEmployee.withColumn(\"dense_rank\",dense_rank().over(windowspec))\n",
    "display(dfEmployeenew)\n",
    "dfEmployeenew.createOrReplaceTempView(\"dfEmployeenew\")\n"
   ]
  },
  {
   "cell_type": "code",
   "execution_count": 0,
   "metadata": {
    "application/vnd.databricks.v1+cell": {
     "cellMetadata": {
      "byteLimit": 2048000,
      "rowLimit": 10000
     },
     "inputWidgets": {},
     "nuid": "2f76a586-6eec-4ea5-b6e3-9779e4bed171",
     "showTitle": false,
     "tableResultSettingsMap": {},
     "title": ""
    }
   },
   "outputs": [],
   "source": [
    "# Sample Employee Data\n",
    "employee_data = [\n",
    "    (\"Alice\", \"HR\", 70000),\n",
    "    (\"Bob\", \"HR\", 65000),\n",
    "    (\"Charlie\", \"HR\", 70000), # Tie for top salary\n",
    "    (\"David\", \"HR\", 60000),\n",
    "    (\"Eve\", \"IT\", 90000),\n",
    "    (\"Frank\", \"IT\", 85000),\n",
    "    (\"Grace\", \"IT\", 90000), # Tie for top salary\n",
    "    (\"Heidi\", \"IT\", 80000),\n",
    "    (\"Ivan\", \"Sales\", 100000),\n",
    "    (\"Judy\", \"Sales\", 95000),\n",
    "    (\"Kevin\", \"Sales\", 92000),\n",
    "    (\"Liam\", \"Sales\", 91000),\n",
    "    (\"Mia\", \"Marketing\", 50000),\n",
    "    (\"Noah\", \"Marketing\", 55000)\n",
    "]"
   ]
  },
  {
   "cell_type": "code",
   "execution_count": 0,
   "metadata": {
    "application/vnd.databricks.v1+cell": {
     "cellMetadata": {
      "byteLimit": 2048000,
      "rowLimit": 10000
     },
     "inputWidgets": {},
     "nuid": "1bda63d5-f1f9-4a8a-a8d8-8d9e3bf58348",
     "showTitle": false,
     "tableResultSettingsMap": {},
     "title": ""
    }
   },
   "outputs": [],
   "source": [
    "employee_schema = [\"name\", \"department\", \"salary\"]\n",
    "\n",
    "employees_df = spark.createDataFrame(employee_data, employee_schema)"
   ]
  },
  {
   "cell_type": "code",
   "execution_count": 0,
   "metadata": {
    "application/vnd.databricks.v1+cell": {
     "cellMetadata": {
      "byteLimit": 2048000,
      "rowLimit": 10000
     },
     "inputWidgets": {},
     "nuid": "a7c52f9f-8922-4fd6-a530-fe8d7939ded7",
     "showTitle": false,
     "tableResultSettingsMap": {},
     "title": ""
    }
   },
   "outputs": [],
   "source": [
    "window_spec = Window.partitionBy(\"department\").orderBy(col(\"salary\").desc())\n",
    "\n",
    "# Apply the dense_rank window function\n",
    "ranked_employees_df = employees_df.withColumn(\"rank\", dense_rank().over(window_spec))\n"
   ]
  },
  {
   "cell_type": "code",
   "execution_count": 0,
   "metadata": {
    "application/vnd.databricks.v1+cell": {
     "cellMetadata": {
      "byteLimit": 2048000,
      "rowLimit": 10000
     },
     "inputWidgets": {},
     "nuid": "78846e4d-fb0e-4f6d-9df2-4dc1a41f935d",
     "showTitle": false,
     "tableResultSettingsMap": {},
     "title": ""
    }
   },
   "outputs": [],
   "source": [
    "ranked_employees_df.display()\n",
    "\n",
    "# DBTITLE 1"
   ]
  },
  {
   "cell_type": "code",
   "execution_count": 0,
   "metadata": {
    "application/vnd.databricks.v1+cell": {
     "cellMetadata": {
      "byteLimit": 2048000,
      "rowLimit": 10000
     },
     "inputWidgets": {},
     "nuid": "e56ee735-cc5b-419f-b412-d8a82eaabd22",
     "showTitle": false,
     "tableResultSettingsMap": {},
     "title": ""
    }
   },
   "outputs": [],
   "source": [
    "# Filter the top 3 employees in each department\n",
    "ranked_employees_df.filter(col(\"rank\")<=3).display()"
   ]
  },
  {
   "cell_type": "code",
   "execution_count": 0,
   "metadata": {
    "application/vnd.databricks.v1+cell": {
     "cellMetadata": {
      "byteLimit": 2048000,
      "rowLimit": 10000
     },
     "inputWidgets": {},
     "nuid": "6b1e16d7-25c7-43f6-a2de-a99cfc3fee2a",
     "showTitle": false,
     "tableResultSettingsMap": {},
     "title": ""
    }
   },
   "outputs": [],
   "source": [
    "from pyspark.sql.window import Window\n",
    "from pyspark.sql.functions import col, lag, lead\n",
    "\n",
    "# Example to showcase Lead and Lag\n",
    "# Sample Data: Daily Temperatures \n",
    "data = [\n",
    "    (\"Houston\", \"2024-01-01\", 60),\n",
    "    (\"Houston\", \"2024-01-02\", 62),\n",
    "    (\"Houston\", \"2024-01-03\", 58),\n",
    "    (\"Houston\", \"2024-01-04\", 65),\n",
    "    (\"Houston\", \"2024-01-05\", 61),\n",
    "    (\"Dallas\", \"2024-01-01\", 55),\n",
    "    (\"Dallas\", \"2024-01-02\", 58),\n",
    "    (\"Dallas\", \"2024-01-03\", 52),\n",
    "    (\"Dallas\", \"2024-01-04\", 60),\n",
    "    (\"Austin\", \"2024-01-01\", 63),\n",
    "    (\"Austin\", \"2024-01-02\", 65),\n",
    "    (\"Austin\", \"2024-01-03\", 60)\n",
    "]\n",
    "\n",
    "columns = [\"city\", \"obs_date_str\", \"temperature\"]\n",
    "\n",
    "df_temp = spark.createDataFrame(data, columns)\n",
    "df_temp.display()"
   ]
  },
  {
   "cell_type": "code",
   "execution_count": 0,
   "metadata": {
    "application/vnd.databricks.v1+cell": {
     "cellMetadata": {},
     "inputWidgets": {},
     "nuid": "30548a0c-087b-407c-a2c9-4ba511699a0c",
     "showTitle": false,
     "tableResultSettingsMap": {},
     "title": ""
    }
   },
   "outputs": [],
   "source": []
  },
  {
   "cell_type": "code",
   "execution_count": 0,
   "metadata": {
    "application/vnd.databricks.v1+cell": {
     "cellMetadata": {
      "byteLimit": 2048000,
      "rowLimit": 10000
     },
     "inputWidgets": {},
     "nuid": "b9dc8191-be7e-4acd-aaa0-e62428f4adda",
     "showTitle": false,
     "tableResultSettingsMap": {},
     "title": ""
    }
   },
   "outputs": [],
   "source": [
    "window_spec = Window.partitionBy(\"city\").orderBy(\"obs_date_str\")\n"
   ]
  },
  {
   "cell_type": "code",
   "execution_count": 0,
   "metadata": {
    "application/vnd.databricks.v1+cell": {
     "cellMetadata": {
      "byteLimit": 2048000,
      "rowLimit": 10000
     },
     "inputWidgets": {},
     "nuid": "cd79819d-4d3f-4278-a38e-a25791d8356a",
     "showTitle": false,
     "tableResultSettingsMap": {},
     "title": ""
    }
   },
   "outputs": [],
   "source": [
    "# Apply lag() and lead() functions\n",
    "df_with_lag_lead = df_temp.withColumn(\"prev_day_temp\", lag(\"temperature\", 1).over(window_spec)) \\\n",
    "                     .withColumn(\"next_day_temp\", lead(\"temperature\", 1).over(window_spec))\n",
    "display(df_with_lag_lead)\n"
   ]
  }
 ],
 "metadata": {
  "application/vnd.databricks.v1+notebook": {
   "computePreferences": null,
   "dashboards": [],
   "environmentMetadata": {
    "base_environment": "",
    "environment_version": "2"
   },
   "inputWidgetPreferences": null,
   "language": "python",
   "notebookMetadata": {
    "pythonIndentUnit": 4
   },
   "notebookName": "Windowfunctions 2",
   "widgets": {}
  },
  "language_info": {
   "name": "python"
  }
 },
 "nbformat": 4,
 "nbformat_minor": 0
}
