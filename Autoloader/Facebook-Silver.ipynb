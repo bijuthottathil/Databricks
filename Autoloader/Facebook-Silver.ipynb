{
 "cells": [
  {
   "cell_type": "code",
   "execution_count": 0,
   "metadata": {
    "application/vnd.databricks.v1+cell": {
     "cellMetadata": {
      "byteLimit": 2048000,
      "rowLimit": 10000
     },
     "inputWidgets": {},
     "nuid": "291a39ff-c31a-475a-bfcc-8662ee5ec03d",
     "showTitle": false,
     "tableResultSettingsMap": {},
     "title": ""
    }
   },
   "outputs": [],
   "source": [
    "def setpath():\n",
    "    from pyspark.sql.functions import current_date, input_file_name\n",
    "    from datetime import date\n",
    "    source_path = \"s3://databricksbijubucketnew/raw/\"\n",
    "    archive_base = \"s3://databricksbijubucketnew/archive/\"\n",
    "    checkpoint = \"s3://databricksbijubucketnew/checkpoints/\""
   ]
  },
  {
   "cell_type": "markdown",
   "metadata": {
    "application/vnd.databricks.v1+cell": {
     "cellMetadata": {
      "byteLimit": 2048000,
      "rowLimit": 10000
     },
     "inputWidgets": {},
     "nuid": "5196b0bf-751b-416b-91b0-2d58682e8457",
     "showTitle": false,
     "tableResultSettingsMap": {},
     "title": ""
    }
   },
   "source": []
  },
  {
   "cell_type": "code",
   "execution_count": 0,
   "metadata": {
    "application/vnd.databricks.v1+cell": {
     "cellMetadata": {
      "byteLimit": 2048000,
      "rowLimit": 10000
     },
     "inputWidgets": {},
     "nuid": "d4aaca58-3824-440f-9ef4-04253c6efce2",
     "showTitle": false,
     "tableResultSettingsMap": {},
     "title": ""
    }
   },
   "outputs": [],
   "source": [
    "setpath()"
   ]
  },
  {
   "cell_type": "code",
   "execution_count": 0,
   "metadata": {
    "application/vnd.databricks.v1+cell": {
     "cellMetadata": {
      "byteLimit": 2048000,
      "rowLimit": 10000
     },
     "inputWidgets": {},
     "nuid": "b6465600-166a-4cf4-bd95-f3eb7bd91f0c",
     "showTitle": false,
     "tableResultSettingsMap": {},
     "title": ""
    }
   },
   "outputs": [],
   "source": [
    "from pyspark.sql.types import StructType, StructField, StringType, IntegerType, TimestampType,DoubleType,DateType\n",
    "\n",
    "acebook_schema = StructType([\n",
    "    StructField(\"currency\", StringType(), True),\n",
    "    StructField(\"account\", StringType(), True),\n",
    "    StructField(\"account_name\", StringType(), True),\n",
    "    StructField(\"campaign_id\", StringType(), True),\n",
    "    StructField(\"campaign_name\", StringType(), True),\n",
    "    StructField(\"adset_id\", StringType(), True),\n",
    "    StructField(\"adset_name\", StringType(), True),\n",
    "    StructField(\"ad_id\", StringType(), True),\n",
    "    StructField(\"ad_name\", StringType(), True),\n",
    "    StructField(\"ad_creation_time\", StringType(), True),  # Use TimestampType if you want to parse\n",
    "    StructField(\"ad_delivery_status\", StringType(), True),\n",
    "    StructField(\"objective\", StringType(), True),\n",
    "    StructField(\"clicks\", IntegerType(), True),\n",
    "    StructField(\"impressions\", IntegerType(), True),\n",
    "    StructField(\"reach\", IntegerType(), True),\n",
    "    StructField(\"frequency\", DoubleType(), True),\n",
    "    StructField(\"ctr\", DoubleType(), True),\n",
    "    StructField(\"cpc\", DoubleType(), True),\n",
    "    StructField(\"cpm\", DoubleType(), True),\n",
    "    StructField(\"spend\", DoubleType(), True),\n",
    "    StructField(\"video_plays\", IntegerType(), True),\n",
    "    StructField(\"page_engagement\", IntegerType(), True),\n",
    "    StructField(\"conversions\", IntegerType(), True),\n",
    "    StructField(\"conversion_value\", DoubleType(), True),\n",
    "    StructField(\"purchase_roas\", DoubleType(), True),\n",
    "    StructField(\"actions\", IntegerType(), True),\n",
    "    StructField(\"age\", StringType(), True),\n",
    "    StructField(\"gender\", StringType(), True),\n",
    "    StructField(\"region\", StringType(), True),\n",
    "    StructField(\"date\", StringType(), True)  # Use DateType if needed\n",
    "])\n",
    "\n",
    "\n"
   ]
  },
  {
   "cell_type": "code",
   "execution_count": 0,
   "metadata": {
    "application/vnd.databricks.v1+cell": {
     "cellMetadata": {
      "byteLimit": 2048000,
      "rowLimit": 10000
     },
     "inputWidgets": {},
     "nuid": "93674226-5770-4ae2-958d-a615b76e734b",
     "showTitle": false,
     "tableResultSettingsMap": {},
     "title": ""
    }
   },
   "outputs": [],
   "source": [
    "spark.sql(\"DROP TABLE IF EXISTS bijucatalog.bijubronzeschema.bronze_facebook\")\n"
   ]
  },
  {
   "cell_type": "code",
   "execution_count": 0,
   "metadata": {
    "application/vnd.databricks.v1+cell": {
     "cellMetadata": {
      "byteLimit": 2048000,
      "rowLimit": 10000
     },
     "inputWidgets": {},
     "nuid": "c771ae22-0d23-49c1-b74e-a27bdb8561a6",
     "showTitle": false,
     "tableResultSettingsMap": {},
     "title": ""
    }
   },
   "outputs": [],
   "source": [
    "from pyspark.sql.functions import current_timestamp, col\n",
    "\n",
    "def preprocess_bronze(df):\n",
    "    df = df.toDF(*[c.upper() for c in df.columns])\n",
    "    df = df.withColumn(\"INGEST_DATE\", current_timestamp())\n",
    "    df = df.withColumn(\"SOURCE_FILE\", col(\"_metadata.file_path\"))  # ✅ correct\n",
    "    return df"
   ]
  },
  {
   "cell_type": "code",
   "execution_count": 0,
   "metadata": {
    "application/vnd.databricks.v1+cell": {
     "cellMetadata": {
      "byteLimit": 2048000,
      "rowLimit": 10000
     },
     "inputWidgets": {},
     "nuid": "809058d8-a063-4465-a82e-6610153eb67c",
     "showTitle": false,
     "tableResultSettingsMap": {},
     "title": ""
    }
   },
   "outputs": [],
   "source": [
    "# Read CSV using Auto Loader\n",
    "from datetime import date\n",
    "df_raw = (spark.readStream\n",
    "  .format(\"cloudFiles\")\n",
    "  .option(\"cloudFiles.format\", \"csv\")\n",
    "  .option(\"header\", \"true\")  \n",
    "  .option(\"multiLine\", \"true\")\n",
    "  .option(\"cloudFiles.schemaLocation\", checkpoint)\n",
    "  .option(\"cloudFiles.maxFilesPerTrigger\", 1)\n",
    "  .option(\"cloudFiles.validateOptions\", \"false\")\n",
    "  .option(\"cloudFiles.includeMetadata\", \"true\")\n",
    "  .option(\"inferSchema\", True)\n",
    "  .load(source_path))\n",
    "\n",
    "# Apply preprocessing\n",
    "df_bronze = preprocess_bronze(df_raw)\n",
    "#display(df_bronze)\n",
    "\n",
    "# Check if there are files in the raw folder\n",
    "files = dbutils.fs.ls(source_path)\n",
    "if len(files):\n",
    "   print(\"Files found, starting stream...\")\n",
    "\n",
    "# Write to Delta\n",
    "(df_bronze.writeStream\n",
    ".format(\"delta\")\n",
    ".outputMode(\"append\")\n",
    ".option(\"checkpointLocation\", f\"{checkpoint}/data\")\n",
    ".trigger(availableNow=True)\n",
    ".toTable(\"bijucatalog.bijubronzeschema.bronze_facebook\"))"
   ]
  },
  {
   "cell_type": "code",
   "execution_count": 0,
   "metadata": {
    "application/vnd.databricks.v1+cell": {
     "cellMetadata": {
      "byteLimit": 2048000,
      "rowLimit": 10000
     },
     "inputWidgets": {},
     "nuid": "31debb62-52fc-4675-b321-c30e2f1cef05",
     "showTitle": false,
     "tableResultSettingsMap": {},
     "title": ""
    }
   },
   "outputs": [],
   "source": [
    "# dbutils.fs.mv(\"s3://databricksbijubucketnew/raw/\",  f\"{archive_base}/{date.today().isoformat()}\",recurse=True)"
   ]
  },
  {
   "cell_type": "code",
   "execution_count": 0,
   "metadata": {
    "application/vnd.databricks.v1+cell": {
     "cellMetadata": {
      "byteLimit": 2048000,
      "implicitDf": true,
      "rowLimit": 10000
     },
     "inputWidgets": {},
     "nuid": "df4fc637-0e5a-4707-9955-a8a020b8d769",
     "showTitle": false,
     "tableResultSettingsMap": {
      "0": {
       "dataGridStateBlob": "{\"version\":1,\"tableState\":{\"columnPinning\":{\"left\":[\"#row_number#\"],\"right\":[]},\"columnSizing\":{\"#row_number#\":128},\"columnVisibility\":{}},\"settings\":{\"columns\":{}},\"syncTimestamp\":1752252029266}",
       "filterBlob": null,
       "queryPlanFiltersBlob": null,
       "tableResultIndex": 0
      }
     },
     "title": ""
    }
   },
   "outputs": [],
   "source": [
    "%sql\n",
    "select * from bijucatalog.bijubronzeschema.bronze_facebook"
   ]
  },
  {
   "cell_type": "code",
   "execution_count": 0,
   "metadata": {
    "application/vnd.databricks.v1+cell": {
     "cellMetadata": {
      "byteLimit": 2048000,
      "implicitDf": true,
      "rowLimit": 10000
     },
     "inputWidgets": {},
     "nuid": "533a9f42-6973-458b-be93-7ae7f9b9493a",
     "showTitle": false,
     "tableResultSettingsMap": {},
     "title": ""
    }
   },
   "outputs": [],
   "source": [
    "%sql\n",
    "select count(* ) from  bijucatalog.bijubronzeschema.bronze_facebook"
   ]
  },
  {
   "cell_type": "code",
   "execution_count": 0,
   "metadata": {
    "application/vnd.databricks.v1+cell": {
     "cellMetadata": {
      "byteLimit": 2048000,
      "rowLimit": 10000
     },
     "inputWidgets": {},
     "nuid": "3b48904b-b368-45d1-9968-4e99871cd280",
     "showTitle": false,
     "tableResultSettingsMap": {},
     "title": ""
    }
   },
   "outputs": [],
   "source": [
    "df = spark.read.option(\"header\", True).csv(\"s3://databricksbijubucketnew/raw/facebook_ads_2025-06-26.csv\")\n",
    "df.show()"
   ]
  }
 ],
 "metadata": {
  "application/vnd.databricks.v1+notebook": {
   "computePreferences": null,
   "dashboards": [],
   "environmentMetadata": {
    "base_environment": "",
    "environment_version": "2"
   },
   "inputWidgetPreferences": null,
   "language": "python",
   "notebookMetadata": {
    "mostRecentlyExecutedCommandWithImplicitDF": {
     "commandId": 6956086679211610,
     "dataframes": [
      "_sqldf"
     ]
    },
    "pythonIndentUnit": 4
   },
   "notebookName": "Facebook-Silver",
   "widgets": {}
  },
  "language_info": {
   "name": "python"
  }
 },
 "nbformat": 4,
 "nbformat_minor": 0
}
