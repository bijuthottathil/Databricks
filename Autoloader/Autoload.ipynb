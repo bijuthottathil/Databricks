{
 "cells": [
  {
   "cell_type": "code",
   "execution_count": 0,
   "metadata": {
    "application/vnd.databricks.v1+cell": {
     "cellMetadata": {
      "byteLimit": 2048000,
      "rowLimit": 10000
     },
     "inputWidgets": {},
     "nuid": "ff1d86bd-1d38-4e15-a556-ae80528d0b76",
     "showTitle": false,
     "tableResultSettingsMap": {},
     "title": ""
    }
   },
   "outputs": [],
   "source": [
    "%sql\n",
    "CREATE STREAMING TABLE raw_csv_stream\n",
    "COMMENT \"A streaming table ingesting CSV data from /mnt/data/streaming/raw/ using Auto Loader.\"\n",
    "AS SELECT * FROM stream cloud_files(\n",
    "  '/mnt/data/streaming/raw/', -- Path to your raw streaming data\n",
    "  'csv',                      -- Format of the files\n",
    "  map(                        -- Auto Loader options\n",
    "    'cloudFiles.format', 'csv',\n",
    "    'header', 'true',\n",
    "    'cloudFiles.schemaLocation', '/Volumes/workspace/default/my_volume/raw_csv_stream_schema_checkpoint' -- Schema inference checkpoint\n",
    "  )\n",
    ");\n"
   ]
  }
 ],
 "metadata": {
  "application/vnd.databricks.v1+notebook": {
   "computePreferences": null,
   "dashboards": [],
   "environmentMetadata": {
    "base_environment": "",
    "environment_version": "2"
   },
   "inputWidgetPreferences": null,
   "language": "python",
   "notebookMetadata": {
    "pythonIndentUnit": 4
   },
   "notebookName": "Autoload",
   "widgets": {}
  },
  "language_info": {
   "name": "python"
  }
 },
 "nbformat": 4,
 "nbformat_minor": 0
}
