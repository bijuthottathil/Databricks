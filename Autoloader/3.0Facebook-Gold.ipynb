{
 "cells": [
  {
   "cell_type": "code",
   "execution_count": 0,
   "metadata": {
    "application/vnd.databricks.v1+cell": {
     "cellMetadata": {
      "byteLimit": 2048000,
      "implicitDf": true,
      "rowLimit": 10000
     },
     "inputWidgets": {},
     "nuid": "06640c64-c5e3-4008-b944-b726e759574d",
     "showTitle": false,
     "tableResultSettingsMap": {},
     "title": ""
    }
   },
   "outputs": [],
   "source": [
    "%sql\n",
    "create temporary view silver_facebook_view as select * from bijucatalog.bijubronzeschema.silver_facebook"
   ]
  },
  {
   "cell_type": "code",
   "execution_count": 0,
   "metadata": {
    "application/vnd.databricks.v1+cell": {
     "cellMetadata": {
      "byteLimit": 2048000,
      "implicitDf": true,
      "rowLimit": 10000
     },
     "inputWidgets": {},
     "nuid": "2e2199d5-69cf-431e-9a46-8d428c03206c",
     "showTitle": false,
     "tableResultSettingsMap": {},
     "title": ""
    }
   },
   "outputs": [],
   "source": [
    "%sql\n",
    "-- Daily Campaign Performance\n",
    "create or replace table bijucatalog.bijubronzeschema.gold_facebook_campain_perf as\n",
    "select \n",
    " campaign_name as CAMPAIGN_NAME,DATE,\n",
    "    ROUND(SUM(spend), 2) AS TOTAL_SPEND,\n",
    "    SUM(conversions) AS TOT_CONVERSIONS,\n",
    "    ROUND(SUM(conversion_value),2) AS TOT_CONVERSION_VALUE,\n",
    "    ROUND(SUM(purchase_roas),2) AS TOT_PURCHASE_ROAS,\n",
    "    SUM(impressions) AS TOT_IMPRESSIONS,\n",
    "    SUM(reach) AS TOT_REACH,\n",
    "    ROUND(SUM(frequency),2) AS TOT_FREQUENCY,\n",
    "    ROUND(SUM(ctr),2) AS TOT_CTR,\n",
    "    ROUND(SUM(cpc),2) AS TOT_CPC,\n",
    "    ROUND(SUM(cpm),2) AS TOT_CPM,\n",
    "    SUM(video_plays) AS TOT_VIDEO_PLAYS,\n",
    "    SUM(page_engagement) AS TOT_PAGE_ENGAGEMENT,\n",
    "    COUNT(actions) AS CNT_ACTIONS,\n",
    "    COUNT(region) AS CNT_REGION\n",
    "from silver_facebook_view\n",
    "group by campaign_name,date "
   ]
  },
  {
   "cell_type": "code",
   "execution_count": 0,
   "metadata": {
    "application/vnd.databricks.v1+cell": {
     "cellMetadata": {
      "byteLimit": 2048000,
      "implicitDf": true,
      "rowLimit": 10000
     },
     "inputWidgets": {},
     "nuid": "6e89bbfd-9f45-42b5-ac9c-3f97232080f3",
     "showTitle": false,
     "tableResultSettingsMap": {},
     "title": ""
    }
   },
   "outputs": [],
   "source": [
    "%sql\n",
    "select * from bijucatalog.bijubronzeschema.gold_facebook_campain_perf "
   ]
  },
  {
   "cell_type": "code",
   "execution_count": 0,
   "metadata": {
    "application/vnd.databricks.v1+cell": {
     "cellMetadata": {
      "byteLimit": 2048000,
      "implicitDf": true,
      "rowLimit": 10000
     },
     "inputWidgets": {},
     "nuid": "d4bfbe85-58cd-4c08-8eb5-95baba29dcdc",
     "showTitle": false,
     "tableResultSettingsMap": {},
     "title": ""
    }
   },
   "outputs": [],
   "source": [
    "%sql\n",
    "--  ROAS by Region and Gender\n",
    "create or replace table bijucatalog.bijubronzeschema.gold_facebook_gold_region_gender_roas as\n",
    "SELECT\n",
    "    region as REGION,\n",
    "    gender as GENDER,\n",
    "    ROUND(SUM(spend),2) AS TOTAL_SPEND,\n",
    "    ROUND(SUM(conversion_value),2) AS TOTAL_CONVERSION_VALUE,\n",
    "    ROUND(AVG(purchase_roas),2) AS AVG_ROAS\n",
    "FROM\n",
    "    silver_facebook_view\n",
    "GROUP BY\n",
    "    region,\n",
    "    gender;\n"
   ]
  },
  {
   "cell_type": "code",
   "execution_count": 0,
   "metadata": {
    "application/vnd.databricks.v1+cell": {
     "cellMetadata": {
      "byteLimit": 2048000,
      "implicitDf": true,
      "rowLimit": 10000
     },
     "inputWidgets": {},
     "nuid": "3a4e73b4-874e-4d57-a7d9-ef1cea89c303",
     "showTitle": false,
     "tableResultSettingsMap": {},
     "title": ""
    }
   },
   "outputs": [],
   "source": [
    "%sql\n",
    "select * from bijucatalog.bijubronzeschema.gold_facebook_gold_region_gender_roas"
   ]
  },
  {
   "cell_type": "markdown",
   "metadata": {
    "application/vnd.databricks.v1+cell": {
     "cellMetadata": {
      "byteLimit": 2048000,
      "rowLimit": 10000
     },
     "inputWidgets": {},
     "nuid": "5196b0bf-751b-416b-91b0-2d58682e8457",
     "showTitle": false,
     "tableResultSettingsMap": {},
     "title": ""
    }
   },
   "source": []
  }
 ],
 "metadata": {
  "application/vnd.databricks.v1+notebook": {
   "computePreferences": null,
   "dashboards": [],
   "environmentMetadata": {
    "base_environment": "",
    "environment_version": "2"
   },
   "inputWidgetPreferences": null,
   "language": "python",
   "notebookMetadata": {
    "mostRecentlyExecutedCommandWithImplicitDF": {
     "commandId": 4888147331523700,
     "dataframes": [
      "_sqldf"
     ]
    },
    "pythonIndentUnit": 4
   },
   "notebookName": "3.0Facebook-Gold",
   "widgets": {}
  },
  "language_info": {
   "name": "python"
  }
 },
 "nbformat": 4,
 "nbformat_minor": 0
}
