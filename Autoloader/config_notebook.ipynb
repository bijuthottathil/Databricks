{
 "cells": [
  {
   "cell_type": "code",
   "execution_count": 0,
   "metadata": {
    "application/vnd.databricks.v1+cell": {
     "cellMetadata": {
      "byteLimit": 2048000,
      "rowLimit": 10000
     },
     "inputWidgets": {},
     "nuid": "984015eb-245c-4683-8bce-1f391b9c29ca",
     "showTitle": false,
     "tableResultSettingsMap": {},
     "title": ""
    }
   },
   "outputs": [],
   "source": [
    "%python\n",
    "from pyspark.sql.functions import current_date, input_file_name\n",
    "from datetime import date\n",
    "#dbutils.widgets.text(\"base_path\", \"s3://databricksbijubucketnew\", \"Base Data Lake Path\")\n",
    "#base_path = dbutils.widgets.get(\"base_path\")\n",
    "#source_path = f\"{base_path}/raw/\"\n",
    "#archive_base = f\"{base_path}/archive/\"\n",
    "#checkpoint = f\"{base_path}/checkpoints/\"\n",
    "source_path = \"s3://databricksbijubucketnew/raw/\"\n",
    "archive_base = \"s3://databricksbijubucketnew/archive/\"\n",
    "checkpoint = \"s3://databricksbijubucketnew/checkpoints/\""
   ]
  }
 ],
 "metadata": {
  "application/vnd.databricks.v1+notebook": {
   "computePreferences": null,
   "dashboards": [],
   "environmentMetadata": {
    "base_environment": "",
    "environment_version": "2"
   },
   "inputWidgetPreferences": null,
   "language": "sql",
   "notebookMetadata": {
    "pythonIndentUnit": 4
   },
   "notebookName": "config_notebook",
   "widgets": {
    "base_path": {
     "currentValue": "s3://databricksbijubucketnew",
     "nuid": "cb2568ea-dc9e-47b6-a3a0-f5fcbd8eeb4e",
     "typedWidgetInfo": {
      "autoCreated": false,
      "defaultValue": "s3://databricksbijubucketnew",
      "label": "Base Data Lake Path",
      "name": "base_path",
      "options": {
       "widgetDisplayType": "Text",
       "validationRegex": null
      },
      "parameterDataType": "String"
     },
     "widgetInfo": {
      "widgetType": "text",
      "defaultValue": "s3://databricksbijubucketnew",
      "label": "Base Data Lake Path",
      "name": "base_path",
      "options": {
       "widgetType": "text",
       "autoCreated": null,
       "validationRegex": null
      }
     }
    }
   }
  },
  "language_info": {
   "name": "sql"
  }
 },
 "nbformat": 4,
 "nbformat_minor": 0
}
