{
 "cells": [
  {
   "cell_type": "code",
   "execution_count": 0,
   "metadata": {
    "application/vnd.databricks.v1+cell": {
     "cellMetadata": {
      "byteLimit": 2048000,
      "rowLimit": 10000
     },
     "inputWidgets": {},
     "nuid": "36bcfc44-1bca-439a-adff-c834367dd6e9",
     "showTitle": false,
     "tableResultSettingsMap": {},
     "title": ""
    }
   },
   "outputs": [],
   "source": [
    "from pyspark.sql import SparkSession\n",
    "spark = SparkSession.builder.appName(\"pyspark\").getOrCreate()\n",
    "df=spark.read.option(\"multiline\", True).format(\"json\").load(\"/Volumes/workspace/default/my_volume/chemical_supply_chain_100.json\")\n",
    "#df=spark.read.option(\"multiline\", True).format(\"json\").load(\"/Volumes/workspace/default/my_volume/chemical_supply_chain.json\")\n"
   ]
  },
  {
   "cell_type": "code",
   "execution_count": 0,
   "metadata": {
    "application/vnd.databricks.v1+cell": {
     "cellMetadata": {
      "byteLimit": 2048000,
      "rowLimit": 10000
     },
     "inputWidgets": {},
     "nuid": "2937bf20-66da-4f13-89d6-982035637e7c",
     "showTitle": false,
     "tableResultSettingsMap": {},
     "title": ""
    }
   },
   "outputs": [],
   "source": [
    "df.printSchema()"
   ]
  },
  {
   "cell_type": "code",
   "execution_count": 0,
   "metadata": {
    "application/vnd.databricks.v1+cell": {
     "cellMetadata": {
      "byteLimit": 2048000,
      "rowLimit": 10000
     },
     "inputWidgets": {},
     "nuid": "db9c55b5-74c3-4c01-aae3-531744780b00",
     "showTitle": false,
     "tableResultSettingsMap": {},
     "title": ""
    }
   },
   "outputs": [],
   "source": [
    "from pyspark.sql.functions import *\n",
    "\n",
    "flat_df = df.select(\n",
    "    \"material_id\",\n",
    "    \"material_name\",\n",
    "    \"uom\",\n",
    "    \"batch.batch_number\",\n",
    "    \"batch.manufacturing_date\",\n",
    "    \"batch.expiry_date\",\n",
    "    \"batch.quality_status\",\n",
    "    \"vendor.vendor_name\",\n",
    "    \"vendor.country\",\n",
    "    \"inventory.available_quantity\",\n",
    "    \"inventory.blocked_quantity\",\n",
    "    \"delivery.delivery_note\",\n",
    "    \"quality_inspection.result\"\n",
    ")\n",
    "flat_df.show(truncate=False)"
   ]
  },
  {
   "cell_type": "code",
   "execution_count": 0,
   "metadata": {
    "application/vnd.databricks.v1+cell": {
     "cellMetadata": {
      "byteLimit": 2048000,
      "rowLimit": 10000
     },
     "inputWidgets": {},
     "nuid": "8ee08249-77cc-4ed7-94bc-f447010356d9",
     "showTitle": false,
     "tableResultSettingsMap": {},
     "title": ""
    }
   },
   "outputs": [],
   "source": [
    "# Changing Column Names to Uppercase\n",
    "df_upper = flat_df.toDF(*[c.upper() for c in flat_df.columns])\n",
    "df_translated = df_upper.withColumn(\n",
    "    \"UOM_DESC\",\n",
    "    when(col(\"UOM\") == \"L\", \"Liter\")\n",
    "    .when(col(\"UOM\") == \"KG\", \"Kilogram\")\n",
    "    .when(col(\"UOM\") == \"EA\", \"Each\")\n",
    "    .when(col(\"UOM\") == \"BOX\", \"Box\")\n",
    "    .when(col(\"UOM\") == \"PAL\", \"Pallet\")\n",
    "    .otherwise(\"Unknown\")\n",
    ")\n",
    "display(df_translated)"
   ]
  },
  {
   "cell_type": "code",
   "execution_count": 0,
   "metadata": {
    "application/vnd.databricks.v1+cell": {
     "cellMetadata": {
      "byteLimit": 2048000,
      "rowLimit": 10000
     },
     "inputWidgets": {},
     "nuid": "c76aea97-9c66-4b5e-a0cf-96d326cfb1d9",
     "showTitle": false,
     "tableResultSettingsMap": {},
     "title": ""
    }
   },
   "outputs": [],
   "source": [
    "df_removedcolumn=df_translated.drop(\"UOM\")\n",
    "display(df_removedcolumn)"
   ]
  },
  {
   "cell_type": "code",
   "execution_count": 0,
   "metadata": {
    "application/vnd.databricks.v1+cell": {
     "cellMetadata": {
      "byteLimit": 2048000,
      "rowLimit": 10000
     },
     "inputWidgets": {},
     "nuid": "d4909ec8-fe52-4e30-ac56-37b25195acb3",
     "showTitle": false,
     "tableResultSettingsMap": {},
     "title": ""
    }
   },
   "outputs": [],
   "source": [
    "from pyspark.sql.utils import AnalysisException\n",
    "from pyspark.sql.types import StructType, StructField, StringType, LongType\n",
    "try:\n",
    "    # Try to read a table (or any other Spark operation)\n",
    "    df = spark.table(\"chemical_supply_chain\")\n",
    "    df.show()\n",
    "except AnalysisException as e:\n",
    "    print(f\"{table_name} does not exist. Creating it.\")\n",
    "    \n",
    "    schema = StructType([\n",
    "        StructField('MATERIAL_ID', StringType(), True),\n",
    "        StructField('MATERIAL_NAME', StringType(), True),\n",
    "        StructField('BATCH_NUMBER', StringType(), True),\n",
    "        StructField('MANUFACTURING_DATE', StringType(), True),\n",
    "        StructField('EXPIRY_DATE', StringType(), True),\n",
    "        StructField('QUALITY_STATUS', StringType(), True),\n",
    "        StructField('VENDOR_NAME', StringType(), True),\n",
    "        StructField('COUNTRY', StringType(), True),\n",
    "        StructField('AVAILABLE_QUANTITY', LongType(), True),\n",
    "        StructField('BLOCKED_QUANTITY', LongType(), True),\n",
    "        StructField('DELIVERY_NOTE', StringType(), True),\n",
    "        StructField('RESULT', StringType(), True),\n",
    "        StructField('UOM_DESC', StringType(), True)\n",
    "    ])\n",
    "    \n",
    "    chemical_supply_chain_df = spark.createDataFrame([], schema)\n",
    "    chemical_supply_chain_df.write.format(\"delta\").saveAsTable(table_name)\n",
    "except Exception as e:\n",
    "    print(\"Some other error occurred:\", e)"
   ]
  },
  {
   "cell_type": "code",
   "execution_count": 0,
   "metadata": {
    "application/vnd.databricks.v1+cell": {
     "cellMetadata": {
      "byteLimit": 2048000,
      "implicitDf": true,
      "rowLimit": 10000
     },
     "inputWidgets": {},
     "nuid": "fd04d47c-ccd1-46f5-b7d8-ac9449d9e9ea",
     "showTitle": false,
     "tableResultSettingsMap": {},
     "title": ""
    }
   },
   "outputs": [],
   "source": [
    "df_removedcolumn.createOrReplaceTempView(\"chemical_supply_chain_view\")"
   ]
  },
  {
   "cell_type": "code",
   "execution_count": 0,
   "metadata": {
    "application/vnd.databricks.v1+cell": {
     "cellMetadata": {
      "byteLimit": 2048000,
      "implicitDf": true,
      "rowLimit": 10000
     },
     "inputWidgets": {},
     "nuid": "9ae2bcc6-2087-41c6-bdb2-c88960f2d1bc",
     "showTitle": false,
     "tableResultSettingsMap": {},
     "title": ""
    }
   },
   "outputs": [],
   "source": [
    "%sql\n",
    "select * from chemical_supply_chain_view"
   ]
  },
  {
   "cell_type": "code",
   "execution_count": 0,
   "metadata": {
    "application/vnd.databricks.v1+cell": {
     "cellMetadata": {
      "byteLimit": 2048000,
      "implicitDf": true,
      "rowLimit": 10000
     },
     "inputWidgets": {},
     "nuid": "97dc7b3d-f124-4a0c-8475-ce3fb9aeaf03",
     "showTitle": false,
     "tableResultSettingsMap": {},
     "title": ""
    }
   },
   "outputs": [],
   "source": [
    "\n",
    "%sql\n",
    "MERGE INTO chemical_supply_chain AS target\n",
    "USING chemical_supply_chain_view AS source\n",
    "ON target.material_id = source.material_id\n",
    "WHEN MATCHED THEN\n",
    "  UPDATE SET *\n",
    "WHEN NOT MATCHED THEN\n",
    "  INSERT *"
   ]
  },
  {
   "cell_type": "code",
   "execution_count": 0,
   "metadata": {
    "application/vnd.databricks.v1+cell": {
     "cellMetadata": {
      "byteLimit": 2048000,
      "implicitDf": true,
      "rowLimit": 10000
     },
     "inputWidgets": {},
     "nuid": "f1a0cae9-40c9-4e33-8ca0-e61cdd768596",
     "showTitle": false,
     "tableResultSettingsMap": {},
     "title": ""
    }
   },
   "outputs": [],
   "source": [
    "%sql\n",
    "select * from chemical_supply_chain"
   ]
  },
  {
   "cell_type": "code",
   "execution_count": 0,
   "metadata": {
    "application/vnd.databricks.v1+cell": {
     "cellMetadata": {
      "byteLimit": 2048000,
      "implicitDf": true,
      "rowLimit": 10000
     },
     "inputWidgets": {},
     "nuid": "33a4921d-a10e-49d5-aac9-381aeabf1f8d",
     "showTitle": false,
     "tableResultSettingsMap": {},
     "title": ""
    }
   },
   "outputs": [],
   "source": [
    "%sql\n",
    "select material_id, count(material_id) \n",
    "from chemical_supply_chain \n",
    "group by material_id \n",
    "having count(material_id) > 1"
   ]
  },
  {
   "cell_type": "code",
   "execution_count": 0,
   "metadata": {
    "application/vnd.databricks.v1+cell": {
     "cellMetadata": {
      "byteLimit": 2048000,
      "implicitDf": true,
      "rowLimit": 10000
     },
     "inputWidgets": {},
     "nuid": "954fc021-70a2-47ca-a1e6-35f8341c904b",
     "showTitle": false,
     "tableResultSettingsMap": {},
     "title": ""
    }
   },
   "outputs": [],
   "source": [
    "%sql\n",
    "select * from chemical_supply_chain "
   ]
  }
 ],
 "metadata": {
  "application/vnd.databricks.v1+notebook": {
   "computePreferences": null,
   "dashboards": [],
   "environmentMetadata": {
    "base_environment": "",
    "environment_version": "2"
   },
   "inputWidgetPreferences": null,
   "language": "python",
   "notebookMetadata": {
    "mostRecentlyExecutedCommandWithImplicitDF": {
     "commandId": 6241407342398636,
     "dataframes": [
      "_sqldf"
     ]
    },
    "pythonIndentUnit": 4
   },
   "notebookName": "flatten the chemical supply chain JSON",
   "widgets": {}
  },
  "language_info": {
   "name": "python"
  }
 },
 "nbformat": 4,
 "nbformat_minor": 0
}
