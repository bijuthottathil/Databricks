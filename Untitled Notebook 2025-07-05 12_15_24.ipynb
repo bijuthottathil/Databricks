{
 "cells": [
  {
   "cell_type": "code",
   "execution_count": 0,
   "metadata": {
    "application/vnd.databricks.v1+cell": {
     "cellMetadata": {
      "byteLimit": 2048000,
      "rowLimit": 10000
     },
     "inputWidgets": {},
     "nuid": "2100b746-7d31-4a26-b9ed-7eab24cd135e",
     "showTitle": false,
     "tableResultSettingsMap": {},
     "title": ""
    }
   },
   "outputs": [],
   "source": [
    "# Sample DataFrame\n",
    "data = [(\"Alice\", 100), (\"Bob\", 200), (\"Charlie\", 300)]\n",
    "df_sales = spark.createDataFrame(data, [\"Name\", \"Amount\"])\n",
    "\n",
    "# Cache the DataFrame\n",
    "#df_sales.cache()\n",
    "\n",
    "# Trigger action to materialize the cache\n",
    "df_sales.count()\n",
    "\n",
    "# Reuse the DataFrame without recomputation\n",
    "df_sales.show()\n"
   ]
  }
 ],
 "metadata": {
  "application/vnd.databricks.v1+notebook": {
   "computePreferences": null,
   "dashboards": [],
   "environmentMetadata": {
    "base_environment": "",
    "environment_version": "2"
   },
   "inputWidgetPreferences": null,
   "language": "python",
   "notebookMetadata": {
    "pythonIndentUnit": 4
   },
   "notebookName": "Untitled Notebook 2025-07-05 12_15_24",
   "widgets": {}
  },
  "language_info": {
   "name": "python"
  }
 },
 "nbformat": 4,
 "nbformat_minor": 0
}
